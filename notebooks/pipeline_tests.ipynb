{
 "cells": [
  {
   "cell_type": "markdown",
   "metadata": {},
   "source": [
    "# test SentenceSpliter"
   ]
  },
  {
   "cell_type": "code",
   "execution_count": 1,
   "metadata": {},
   "outputs": [],
   "source": [
    "from llama_index.schema import MetadataMode\n",
    "from llama_index.ingestion import IngestionPipeline\n",
    "from llama_index.embeddings import OpenAIEmbedding\n",
    "from llama_index.text_splitter import SentenceSplitter\n",
    "from llama_index.extractors import (\n",
    "    SummaryExtractor,\n",
    "    KeywordExtractor,\n",
    "    QuestionsAnsweredExtractor,\n",
    ")\n",
    "\n",
    "from rag_chat.data.mongo import mongodb_uri\n",
    "from rag_chat.data.mongo.document_reader import CustomMongoReader"
   ]
  },
  {
   "cell_type": "code",
   "execution_count": 2,
   "metadata": {},
   "outputs": [],
   "source": [
    "DB_NAME = \"products\"\n",
    "COLLECTION_NAME = \"data\"\n",
    "FIELD_NAMES = [\"product_url\", \"product_name\", \"brand\", \"description\", \"available\", \n",
    "                \"sale_price\", \"discount\"]\n",
    "SEPARATOR = \" \\n\\n\"\n",
    "QUERY_DICT = {\"description\": { \"$type\": \"string\" }}\n",
    "MAX_DOCS = 10\n",
    "METADATA_NAMES = [\"uniq_id\", \"list_price\", \"category\"]\n",
    "EXCLUDED_LLM_METADATA_KEYS = [\"uniq_id\"]\n",
    "\n",
    "NODE_CHUNK_SIZE = 512 # Token chunk size\n",
    "NODE_CHUNK_OVERLAP = 128"
   ]
  },
  {
   "cell_type": "code",
   "execution_count": 3,
   "metadata": {},
   "outputs": [],
   "source": [
    "reader = CustomMongoReader(uri=mongodb_uri)\n",
    "documents = reader.load_data(\n",
    "    DB_NAME, \n",
    "    COLLECTION_NAME, \n",
    "    FIELD_NAMES, \n",
    "    separator = SEPARATOR, \n",
    "    query_dict=QUERY_DICT,\n",
    "    max_docs = MAX_DOCS,\n",
    "    metadata_names = METADATA_NAMES,\n",
    "    metadata_seperator = SEPARATOR,\n",
    "    excluded_llm_metadata_keys = EXCLUDED_LLM_METADATA_KEYS\n",
    ")"
   ]
  },
  {
   "cell_type": "code",
   "execution_count": 4,
   "metadata": {},
   "outputs": [],
   "source": [
    "pipeline = IngestionPipeline(\n",
    "    transformations=[\n",
    "        SentenceSplitter( # Node Parser\n",
    "            chunk_size=NODE_CHUNK_SIZE, \n",
    "            chunk_overlap=NODE_CHUNK_OVERLAP,\n",
    "            # include_prev_next_rel=False\n",
    "            ),\n",
    "    ]\n",
    ")"
   ]
  },
  {
   "cell_type": "code",
   "execution_count": 5,
   "metadata": {},
   "outputs": [
    {
     "data": {
      "text/plain": [
       "10"
      ]
     },
     "execution_count": 5,
     "metadata": {},
     "output_type": "execute_result"
    }
   ],
   "source": [
    "len(documents)"
   ]
  },
  {
   "cell_type": "code",
   "execution_count": 6,
   "metadata": {},
   "outputs": [],
   "source": [
    "nodes = pipeline.run(documents=documents)"
   ]
  },
  {
   "cell_type": "code",
   "execution_count": 7,
   "metadata": {},
   "outputs": [
    {
     "data": {
      "text/plain": [
       "12"
      ]
     },
     "execution_count": 7,
     "metadata": {},
     "output_type": "execute_result"
    }
   ],
   "source": [
    "len(nodes)"
   ]
  },
  {
   "cell_type": "code",
   "execution_count": 8,
   "metadata": {},
   "outputs": [
    {
     "name": "stdout",
     "output_type": "stream",
     "text": [
      "818\n",
      "818\n",
      "1835\n",
      "1835\n",
      "1179\n",
      "1179\n",
      "1809\n",
      "3108\n",
      "1701\n",
      "563\n",
      "563\n",
      "2243\n",
      "910\n",
      "977\n",
      "1698\n",
      "529\n",
      "977\n",
      "1521\n",
      "529\n",
      "1090\n",
      "1521\n"
     ]
    },
    {
     "ename": "IndexError",
     "evalue": "list index out of range",
     "output_type": "error",
     "traceback": [
      "\u001b[0;31m---------------------------------------------------------------------------\u001b[0m",
      "\u001b[0;31mIndexError\u001b[0m                                Traceback (most recent call last)",
      "Cell \u001b[0;32mIn[8], line 3\u001b[0m\n\u001b[1;32m      1\u001b[0m \u001b[38;5;28;01mfor\u001b[39;00m i, node \u001b[38;5;129;01min\u001b[39;00m \u001b[38;5;28menumerate\u001b[39m(nodes):\n\u001b[1;32m      2\u001b[0m     \u001b[38;5;28mprint\u001b[39m(\u001b[38;5;28mlen\u001b[39m(node\u001b[38;5;241m.\u001b[39mtext))\n\u001b[0;32m----> 3\u001b[0m     \u001b[38;5;28mprint\u001b[39m(\u001b[38;5;28mlen\u001b[39m(\u001b[43mdocuments\u001b[49m\u001b[43m[\u001b[49m\u001b[43mi\u001b[49m\u001b[43m]\u001b[49m\u001b[38;5;241m.\u001b[39mtext))\n",
      "\u001b[0;31mIndexError\u001b[0m: list index out of range"
     ]
    }
   ],
   "source": [
    "for i, node in enumerate(nodes):\n",
    "    print(len(node.text))\n",
    "    print(len(documents[i].text))"
   ]
  },
  {
   "cell_type": "code",
   "execution_count": 9,
   "metadata": {},
   "outputs": [
    {
     "name": "stdout",
     "output_type": "stream",
     "text": [
      "Docuemnt 0: [Document(id_='5791457e-81af-43e4-86e4-9c873091edf3', embedding=None, metadata={'uniq_id': 'd32c8b6f2ead69d851e336f5397ec527', 'list_price': 17.44, 'category': 'Health > Caregiver > Multivitamins'}, excluded_embed_metadata_keys=[], excluded_llm_metadata_keys=['uniq_id'], relationships={}, hash='dfff3ca943f668b39c7637c4927408a5f688950e211cd0c0c44095c6b1a48a29', text='product_url: https://www.walmart.com/ip/Centrum-Silver-Men-200-Count-Complete-Multivitamin-Multimineral-Supplement-Tablet-Vitamin-D3-B-Vitamins-Zinc-Age-50/12081664 \\n\\nproduct_name: Centrum Silver Men (200 Count) Complete Multivitamin / Multimineral Supplement Tablet, Vitamin D3, B Vitamins, Zinc, Age 50+ \\n\\nbrand: Centrum \\n\\ndescription: Centrum Silver Men Multivitamin and Multimineral Supplement is the most complete supplement to help support the health of men age 50 and older. As men age, its important that they get enough Magnesium, Vitamin D and Vitamin B6 to help maintain healthy muscles. Centrum Silver is formulated with a broad spectrum of key nutrients to support the heart, brain and eyes (2) as well as muscle function (3). This vitamin and mineral supplement for men provides our highest levels of Vitamin D3, which is the preferred form of Vitamin D. In addition, Centrum multivitamins have a smooth coating that makes them easy-to-swallow. Centrum Silver tablets are available in personalized formulas and are all verified non-GMO (1) and gluten-free. Multivitamins are part of an overall healthy lifestyle and can help men get the recommended amount of key vitamins and minerals. Help support your body head-to-toe with Centrum, the #1 doctor and pharmacist recommended brand (4).* (1) Non-GMO applies to Centrum and Centrum Silver tablets only; learn more at Centrums official website. (2) Heart: B-Vitamins help promote heart health. Not a replacement for cholesterol-lowering drugs. Brain: Zinc and B-Vitamins help support normal brain function. Eyes: Vitamins A, C, and E and Lutein help support healthy eyes.* This product is not intended to provide daily intake of Lutein. Take with a diet rich in fruits and vegetables. (3) Magnesium, Vitamins D and B6 help support muscle function.* (4) Based on IMS Health data (adult multivitamin brands in the US as of March 2017), and 2017 Pharmacy Times Survey of Pharmacists OTC Recommendations. * These statements have not been evaluated by the Food and Drug Administration. These products are not intended to diagnose, treat, cure or prevent any disease. Includes 200 tablets of Centrum Silver Men Multivitamin / Multimineral Supplement, Age 50+ Age-adjusted to support the health of men age 50 and older and to help support the heart, brain and eyes (2)* The most complete multivitamin, with Centrums highest levels of Vitamin D3 to support muscle function (3)* Verified non-GMO (1) and gluten-free vitamin with a smooth coating thats easy-to-swallow #1 doctor and pharmacist recommended brand (4) for multivitamins |Includes 200 tablets of Centrum Silver Men Multivitamin / Multimineral Supplement, Age 50+ |Age-adjusted to support the health of men age 50 and older and to help support the heart, brain and eyes (2)* |The most complete multivitamin, with Centrums highest levels of Vitamin D3 to support muscle function (3)* |Verified non-GMO (1) and gluten-free vitamin with a smooth coating thats easy-to-swallow |#1 doctor and pharmacist recommended brand (4) for multivitamins \\n\\navailable: True \\n\\nsale_price: 17.44 \\n\\ndiscount: False', start_char_idx=None, end_char_idx=None, text_template='{metadata_str}\\n\\n{content}', metadata_template='{key}: {value}', metadata_seperator=' \\n\\n')]\n",
      "Node 0: [TextNode(id_='433a13db-6a60-4f99-9588-eeef783dfd23', embedding=None, metadata={'uniq_id': 'd32c8b6f2ead69d851e336f5397ec527', 'list_price': 17.44, 'category': 'Health > Caregiver > Multivitamins'}, excluded_embed_metadata_keys=[], excluded_llm_metadata_keys=['uniq_id'], relationships={<NodeRelationship.SOURCE: '1'>: RelatedNodeInfo(node_id='5791457e-81af-43e4-86e4-9c873091edf3', node_type=<ObjectType.DOCUMENT: '4'>, metadata={'uniq_id': 'd32c8b6f2ead69d851e336f5397ec527', 'list_price': 17.44, 'category': 'Health > Caregiver > Multivitamins'}, hash='dfff3ca943f668b39c7637c4927408a5f688950e211cd0c0c44095c6b1a48a29'), <NodeRelationship.PREVIOUS: '2'>: RelatedNodeInfo(node_id='cc269dc9-0ddb-44f6-bcb6-4ff3c5600fd3', node_type=<ObjectType.TEXT: '1'>, metadata={'uniq_id': '9fdb3109750784a7d138352fe224e45c', 'list_price': 6.99, 'category': 'Sports & Outdoors > Sports > Basketball > Basketball Accessories'}, hash='1a850542e8fa23044e798774c10517040ab955da02d2db378c5b96053f2e4093'), <NodeRelationship.NEXT: '3'>: RelatedNodeInfo(node_id='7909fac3-2a7c-45a9-88ca-5ad18ada8d49', node_type=<ObjectType.TEXT: '1'>, metadata={}, hash='51ec22ec7e0782ff2aa6a05405493950b01883f4060786fb74fd0dff188d25f3')}, hash='f974f8e611e0189e413aa58a91db79010fa9d8fef474b4ea3f69439577827a9d', text='product_url: https://www.walmart.com/ip/Centrum-Silver-Men-200-Count-Complete-Multivitamin-Multimineral-Supplement-Tablet-Vitamin-D3-B-Vitamins-Zinc-Age-50/12081664 \\n\\nproduct_name: Centrum Silver Men (200 Count) Complete Multivitamin / Multimineral Supplement Tablet, Vitamin D3, B Vitamins, Zinc, Age 50+ \\n\\nbrand: Centrum \\n\\ndescription: Centrum Silver Men Multivitamin and Multimineral Supplement is the most complete supplement to help support the health of men age 50 and older. As men age, its important that they get enough Magnesium, Vitamin D and Vitamin B6 to help maintain healthy muscles. Centrum Silver is formulated with a broad spectrum of key nutrients to support the heart, brain and eyes (2) as well as muscle function (3). This vitamin and mineral supplement for men provides our highest levels of Vitamin D3, which is the preferred form of Vitamin D. In addition, Centrum multivitamins have a smooth coating that makes them easy-to-swallow. Centrum Silver tablets are available in personalized formulas and are all verified non-GMO (1) and gluten-free. Multivitamins are part of an overall healthy lifestyle and can help men get the recommended amount of key vitamins and minerals. Help support your body head-to-toe with Centrum, the #1 doctor and pharmacist recommended brand (4).* (1) Non-GMO applies to Centrum and Centrum Silver tablets only; learn more at Centrums official website. (2) Heart: B-Vitamins help promote heart health. Not a replacement for cholesterol-lowering drugs. Brain: Zinc and B-Vitamins help support normal brain function. Eyes: Vitamins A, C, and E and Lutein help support healthy eyes.* This product is not intended to provide daily intake of Lutein. Take with a diet rich in fruits and vegetables. (3) Magnesium, Vitamins D and B6 help support muscle function.', start_char_idx=0, end_char_idx=1809, text_template='{metadata_str}\\n\\n{content}', metadata_template='{key}: {value}', metadata_seperator=' \\n\\n')]\n",
      "Document 0: [Document(id_='d88743f5-48b0-415e-8acf-b55aedc8d8f4', embedding=None, metadata={'uniq_id': 'ff2d6a56ed13947130814a20fb9b30fe', 'list_price': 8.81, 'category': 'Household Essentials > Light Bulbs > Globe Light Bulbs'}, excluded_embed_metadata_keys=[], excluded_llm_metadata_keys=['uniq_id'], relationships={}, hash='84fb3136144a8258e5b565294f72f6686b26cd0c0d8e03fc88d3fe2d2c76575e', text='product_url: https://www.walmart.com/ip/03102-Light-Bulb-Vanity-Globe-Clear-720-Lumens-60-Watts-Quantity-1/45836095 \\n\\nproduct_name: 03102 Light Bulb, Vanity Globe, Clear, 720 Lumens, 60-Watts - Quantity 1 \\n\\nbrand: Westinghouse \\n\\ndescription: 60G40, 60W, 120V, Clear, Vanity Globe, Light Bulb, Maximum Overall Length 6-3/4\" x 5\" Diameter, Standard Base, 720 Lumens, 2500 Average Rated Hours, Boxed. Color/Finish: Clear Color Temperature: 2,700K Average Lifetime: 2500 hours Lumens (light output): 722 CRI: 100 \\n\\navailable: True \\n\\nsale_price: 8.81 \\n\\ndiscount: False', start_char_idx=None, end_char_idx=None, text_template='{metadata_str}\\n\\n{content}', metadata_template='{key}: {value}', metadata_seperator=' \\n\\n')]\n",
      "Node 0: [TextNode(id_='7909fac3-2a7c-45a9-88ca-5ad18ada8d49', embedding=None, metadata={'uniq_id': 'd32c8b6f2ead69d851e336f5397ec527', 'list_price': 17.44, 'category': 'Health > Caregiver > Multivitamins'}, excluded_embed_metadata_keys=[], excluded_llm_metadata_keys=['uniq_id'], relationships={<NodeRelationship.SOURCE: '1'>: RelatedNodeInfo(node_id='5791457e-81af-43e4-86e4-9c873091edf3', node_type=<ObjectType.DOCUMENT: '4'>, metadata={'uniq_id': 'd32c8b6f2ead69d851e336f5397ec527', 'list_price': 17.44, 'category': 'Health > Caregiver > Multivitamins'}, hash='dfff3ca943f668b39c7637c4927408a5f688950e211cd0c0c44095c6b1a48a29'), <NodeRelationship.PREVIOUS: '2'>: RelatedNodeInfo(node_id='433a13db-6a60-4f99-9588-eeef783dfd23', node_type=<ObjectType.TEXT: '1'>, metadata={'uniq_id': 'd32c8b6f2ead69d851e336f5397ec527', 'list_price': 17.44, 'category': 'Health > Caregiver > Multivitamins'}, hash='f974f8e611e0189e413aa58a91db79010fa9d8fef474b4ea3f69439577827a9d'), <NodeRelationship.NEXT: '3'>: RelatedNodeInfo(node_id='2c7188ec-b252-478b-a571-93280107011c', node_type=<ObjectType.TEXT: '1'>, metadata={}, hash='49cb3a9f21e5ef6e66420008b781202cb313e0e0872f1bc3d44bdb562c0e3917')}, hash='51ec22ec7e0782ff2aa6a05405493950b01883f4060786fb74fd0dff188d25f3', text='(2) Heart: B-Vitamins help promote heart health. Not a replacement for cholesterol-lowering drugs. Brain: Zinc and B-Vitamins help support normal brain function. Eyes: Vitamins A, C, and E and Lutein help support healthy eyes.* This product is not intended to provide daily intake of Lutein. Take with a diet rich in fruits and vegetables. (3) Magnesium, Vitamins D and B6 help support muscle function.* (4) Based on IMS Health data (adult multivitamin brands in the US as of March 2017), and 2017 Pharmacy Times Survey of Pharmacists OTC Recommendations. * These statements have not been evaluated by the Food and Drug Administration. These products are not intended to diagnose, treat, cure or prevent any disease. Includes 200 tablets of Centrum Silver Men Multivitamin / Multimineral Supplement, Age 50+ Age-adjusted to support the health of men age 50 and older and to help support the heart, brain and eyes (2)* The most complete multivitamin, with Centrums highest levels of Vitamin D3 to support muscle function (3)* Verified non-GMO (1) and gluten-free vitamin with a smooth coating thats easy-to-swallow #1 doctor and pharmacist recommended brand (4) for multivitamins |Includes 200 tablets of Centrum Silver Men Multivitamin / Multimineral Supplement, Age 50+ |Age-adjusted to support the health of men age 50 and older and to help support the heart, brain and eyes (2)* |The most complete multivitamin, with Centrums highest levels of Vitamin D3 to support muscle function (3)* |Verified non-GMO (1) and gluten-free vitamin with a smooth coating thats easy-to-swallow |#1 doctor and pharmacist recommended brand (4) for multivitamins \\n\\navailable: True \\n\\nsale_price: 17.44 \\n\\ndiscount: False', start_char_idx=1407, end_char_idx=3108, text_template='{metadata_str}\\n\\n{content}', metadata_template='{key}: {value}', metadata_seperator=' \\n\\n')]\n"
     ]
    }
   ],
   "source": [
    "print(\"Docuemnt 0:\", documents[3:4])\n",
    "print(\"Node 0:\", nodes[3:4])\n",
    "print(\"Document 0:\", documents[4:5])\n",
    "print(\"Node 0:\", nodes[4:5])"
   ]
  },
  {
   "cell_type": "code",
   "execution_count": 10,
   "metadata": {},
   "outputs": [],
   "source": [
    "pipeline_2 = IngestionPipeline(\n",
    "    transformations=[\n",
    "        SentenceSplitter( # Node Parser\n",
    "            chunk_size=NODE_CHUNK_SIZE, \n",
    "            chunk_overlap=NODE_CHUNK_OVERLAP,\n",
    "            include_prev_next_rel=False\n",
    "            ),\n",
    "    ]\n",
    ")"
   ]
  },
  {
   "cell_type": "code",
   "execution_count": 11,
   "metadata": {},
   "outputs": [],
   "source": [
    "nodes = pipeline_2.run(documents=documents)"
   ]
  },
  {
   "cell_type": "code",
   "execution_count": 12,
   "metadata": {},
   "outputs": [
    {
     "data": {
      "text/plain": [
       "12"
      ]
     },
     "execution_count": 12,
     "metadata": {},
     "output_type": "execute_result"
    }
   ],
   "source": [
    "len(nodes)"
   ]
  },
  {
   "cell_type": "code",
   "execution_count": 13,
   "metadata": {},
   "outputs": [
    {
     "name": "stdout",
     "output_type": "stream",
     "text": [
      "Docuemnt 0: [Document(id_='5791457e-81af-43e4-86e4-9c873091edf3', embedding=None, metadata={'uniq_id': 'd32c8b6f2ead69d851e336f5397ec527', 'list_price': 17.44, 'category': 'Health > Caregiver > Multivitamins'}, excluded_embed_metadata_keys=[], excluded_llm_metadata_keys=['uniq_id'], relationships={}, hash='dfff3ca943f668b39c7637c4927408a5f688950e211cd0c0c44095c6b1a48a29', text='product_url: https://www.walmart.com/ip/Centrum-Silver-Men-200-Count-Complete-Multivitamin-Multimineral-Supplement-Tablet-Vitamin-D3-B-Vitamins-Zinc-Age-50/12081664 \\n\\nproduct_name: Centrum Silver Men (200 Count) Complete Multivitamin / Multimineral Supplement Tablet, Vitamin D3, B Vitamins, Zinc, Age 50+ \\n\\nbrand: Centrum \\n\\ndescription: Centrum Silver Men Multivitamin and Multimineral Supplement is the most complete supplement to help support the health of men age 50 and older. As men age, its important that they get enough Magnesium, Vitamin D and Vitamin B6 to help maintain healthy muscles. Centrum Silver is formulated with a broad spectrum of key nutrients to support the heart, brain and eyes (2) as well as muscle function (3). This vitamin and mineral supplement for men provides our highest levels of Vitamin D3, which is the preferred form of Vitamin D. In addition, Centrum multivitamins have a smooth coating that makes them easy-to-swallow. Centrum Silver tablets are available in personalized formulas and are all verified non-GMO (1) and gluten-free. Multivitamins are part of an overall healthy lifestyle and can help men get the recommended amount of key vitamins and minerals. Help support your body head-to-toe with Centrum, the #1 doctor and pharmacist recommended brand (4).* (1) Non-GMO applies to Centrum and Centrum Silver tablets only; learn more at Centrums official website. (2) Heart: B-Vitamins help promote heart health. Not a replacement for cholesterol-lowering drugs. Brain: Zinc and B-Vitamins help support normal brain function. Eyes: Vitamins A, C, and E and Lutein help support healthy eyes.* This product is not intended to provide daily intake of Lutein. Take with a diet rich in fruits and vegetables. (3) Magnesium, Vitamins D and B6 help support muscle function.* (4) Based on IMS Health data (adult multivitamin brands in the US as of March 2017), and 2017 Pharmacy Times Survey of Pharmacists OTC Recommendations. * These statements have not been evaluated by the Food and Drug Administration. These products are not intended to diagnose, treat, cure or prevent any disease. Includes 200 tablets of Centrum Silver Men Multivitamin / Multimineral Supplement, Age 50+ Age-adjusted to support the health of men age 50 and older and to help support the heart, brain and eyes (2)* The most complete multivitamin, with Centrums highest levels of Vitamin D3 to support muscle function (3)* Verified non-GMO (1) and gluten-free vitamin with a smooth coating thats easy-to-swallow #1 doctor and pharmacist recommended brand (4) for multivitamins |Includes 200 tablets of Centrum Silver Men Multivitamin / Multimineral Supplement, Age 50+ |Age-adjusted to support the health of men age 50 and older and to help support the heart, brain and eyes (2)* |The most complete multivitamin, with Centrums highest levels of Vitamin D3 to support muscle function (3)* |Verified non-GMO (1) and gluten-free vitamin with a smooth coating thats easy-to-swallow |#1 doctor and pharmacist recommended brand (4) for multivitamins \\n\\navailable: True \\n\\nsale_price: 17.44 \\n\\ndiscount: False', start_char_idx=None, end_char_idx=None, text_template='{metadata_str}\\n\\n{content}', metadata_template='{key}: {value}', metadata_seperator=' \\n\\n')]\n",
      "Node 0: [TextNode(id_='cdf947ee-5797-4f4c-9e37-d9e9e3da6bb3', embedding=None, metadata={'uniq_id': 'd32c8b6f2ead69d851e336f5397ec527', 'list_price': 17.44, 'category': 'Health > Caregiver > Multivitamins'}, excluded_embed_metadata_keys=[], excluded_llm_metadata_keys=['uniq_id'], relationships={<NodeRelationship.SOURCE: '1'>: RelatedNodeInfo(node_id='5791457e-81af-43e4-86e4-9c873091edf3', node_type=<ObjectType.DOCUMENT: '4'>, metadata={'uniq_id': 'd32c8b6f2ead69d851e336f5397ec527', 'list_price': 17.44, 'category': 'Health > Caregiver > Multivitamins'}, hash='dfff3ca943f668b39c7637c4927408a5f688950e211cd0c0c44095c6b1a48a29')}, hash='f974f8e611e0189e413aa58a91db79010fa9d8fef474b4ea3f69439577827a9d', text='product_url: https://www.walmart.com/ip/Centrum-Silver-Men-200-Count-Complete-Multivitamin-Multimineral-Supplement-Tablet-Vitamin-D3-B-Vitamins-Zinc-Age-50/12081664 \\n\\nproduct_name: Centrum Silver Men (200 Count) Complete Multivitamin / Multimineral Supplement Tablet, Vitamin D3, B Vitamins, Zinc, Age 50+ \\n\\nbrand: Centrum \\n\\ndescription: Centrum Silver Men Multivitamin and Multimineral Supplement is the most complete supplement to help support the health of men age 50 and older. As men age, its important that they get enough Magnesium, Vitamin D and Vitamin B6 to help maintain healthy muscles. Centrum Silver is formulated with a broad spectrum of key nutrients to support the heart, brain and eyes (2) as well as muscle function (3). This vitamin and mineral supplement for men provides our highest levels of Vitamin D3, which is the preferred form of Vitamin D. In addition, Centrum multivitamins have a smooth coating that makes them easy-to-swallow. Centrum Silver tablets are available in personalized formulas and are all verified non-GMO (1) and gluten-free. Multivitamins are part of an overall healthy lifestyle and can help men get the recommended amount of key vitamins and minerals. Help support your body head-to-toe with Centrum, the #1 doctor and pharmacist recommended brand (4).* (1) Non-GMO applies to Centrum and Centrum Silver tablets only; learn more at Centrums official website. (2) Heart: B-Vitamins help promote heart health. Not a replacement for cholesterol-lowering drugs. Brain: Zinc and B-Vitamins help support normal brain function. Eyes: Vitamins A, C, and E and Lutein help support healthy eyes.* This product is not intended to provide daily intake of Lutein. Take with a diet rich in fruits and vegetables. (3) Magnesium, Vitamins D and B6 help support muscle function.', start_char_idx=0, end_char_idx=1809, text_template='{metadata_str}\\n\\n{content}', metadata_template='{key}: {value}', metadata_seperator=' \\n\\n')]\n",
      "Document 0: [Document(id_='d88743f5-48b0-415e-8acf-b55aedc8d8f4', embedding=None, metadata={'uniq_id': 'ff2d6a56ed13947130814a20fb9b30fe', 'list_price': 8.81, 'category': 'Household Essentials > Light Bulbs > Globe Light Bulbs'}, excluded_embed_metadata_keys=[], excluded_llm_metadata_keys=['uniq_id'], relationships={}, hash='84fb3136144a8258e5b565294f72f6686b26cd0c0d8e03fc88d3fe2d2c76575e', text='product_url: https://www.walmart.com/ip/03102-Light-Bulb-Vanity-Globe-Clear-720-Lumens-60-Watts-Quantity-1/45836095 \\n\\nproduct_name: 03102 Light Bulb, Vanity Globe, Clear, 720 Lumens, 60-Watts - Quantity 1 \\n\\nbrand: Westinghouse \\n\\ndescription: 60G40, 60W, 120V, Clear, Vanity Globe, Light Bulb, Maximum Overall Length 6-3/4\" x 5\" Diameter, Standard Base, 720 Lumens, 2500 Average Rated Hours, Boxed. Color/Finish: Clear Color Temperature: 2,700K Average Lifetime: 2500 hours Lumens (light output): 722 CRI: 100 \\n\\navailable: True \\n\\nsale_price: 8.81 \\n\\ndiscount: False', start_char_idx=None, end_char_idx=None, text_template='{metadata_str}\\n\\n{content}', metadata_template='{key}: {value}', metadata_seperator=' \\n\\n')]\n",
      "Node 0: [TextNode(id_='736db301-2393-44fa-a656-7d516f4c69b7', embedding=None, metadata={'uniq_id': 'd32c8b6f2ead69d851e336f5397ec527', 'list_price': 17.44, 'category': 'Health > Caregiver > Multivitamins'}, excluded_embed_metadata_keys=[], excluded_llm_metadata_keys=['uniq_id'], relationships={<NodeRelationship.SOURCE: '1'>: RelatedNodeInfo(node_id='5791457e-81af-43e4-86e4-9c873091edf3', node_type=<ObjectType.DOCUMENT: '4'>, metadata={'uniq_id': 'd32c8b6f2ead69d851e336f5397ec527', 'list_price': 17.44, 'category': 'Health > Caregiver > Multivitamins'}, hash='dfff3ca943f668b39c7637c4927408a5f688950e211cd0c0c44095c6b1a48a29')}, hash='51ec22ec7e0782ff2aa6a05405493950b01883f4060786fb74fd0dff188d25f3', text='(2) Heart: B-Vitamins help promote heart health. Not a replacement for cholesterol-lowering drugs. Brain: Zinc and B-Vitamins help support normal brain function. Eyes: Vitamins A, C, and E and Lutein help support healthy eyes.* This product is not intended to provide daily intake of Lutein. Take with a diet rich in fruits and vegetables. (3) Magnesium, Vitamins D and B6 help support muscle function.* (4) Based on IMS Health data (adult multivitamin brands in the US as of March 2017), and 2017 Pharmacy Times Survey of Pharmacists OTC Recommendations. * These statements have not been evaluated by the Food and Drug Administration. These products are not intended to diagnose, treat, cure or prevent any disease. Includes 200 tablets of Centrum Silver Men Multivitamin / Multimineral Supplement, Age 50+ Age-adjusted to support the health of men age 50 and older and to help support the heart, brain and eyes (2)* The most complete multivitamin, with Centrums highest levels of Vitamin D3 to support muscle function (3)* Verified non-GMO (1) and gluten-free vitamin with a smooth coating thats easy-to-swallow #1 doctor and pharmacist recommended brand (4) for multivitamins |Includes 200 tablets of Centrum Silver Men Multivitamin / Multimineral Supplement, Age 50+ |Age-adjusted to support the health of men age 50 and older and to help support the heart, brain and eyes (2)* |The most complete multivitamin, with Centrums highest levels of Vitamin D3 to support muscle function (3)* |Verified non-GMO (1) and gluten-free vitamin with a smooth coating thats easy-to-swallow |#1 doctor and pharmacist recommended brand (4) for multivitamins \\n\\navailable: True \\n\\nsale_price: 17.44 \\n\\ndiscount: False', start_char_idx=1407, end_char_idx=3108, text_template='{metadata_str}\\n\\n{content}', metadata_template='{key}: {value}', metadata_seperator=' \\n\\n')]\n"
     ]
    }
   ],
   "source": [
    "print(\"Docuemnt 0:\", documents[3:4])\n",
    "print(\"Node 0:\", nodes[3:4])\n",
    "print(\"Document 0:\", documents[4:5])\n",
    "print(\"Node 0:\", nodes[4:5])"
   ]
  },
  {
   "cell_type": "markdown",
   "metadata": {},
   "source": [
    "# Test Metadata Extractors"
   ]
  },
  {
   "cell_type": "code",
   "execution_count": 42,
   "metadata": {},
   "outputs": [],
   "source": [
    "from llama_index.schema import MetadataMode\n",
    "from llama_index.ingestion import IngestionPipeline\n",
    "from llama_index.embeddings import OpenAIEmbedding\n",
    "from llama_index.text_splitter import SentenceSplitter\n",
    "from llama_index.extractors import (\n",
    "    SummaryExtractor,\n",
    "    KeywordExtractor,\n",
    "    EntityExtractor,\n",
    "    TitleExtractor,\n",
    "    QuestionsAnsweredExtractor,\n",
    ")\n",
    "\n",
    "from rag_chat.data.mongo import mongodb_uri\n",
    "from rag_chat.data.mongo.document_reader import CustomMongoReader"
   ]
  },
  {
   "cell_type": "code",
   "execution_count": 3,
   "metadata": {},
   "outputs": [],
   "source": [
    "DB_NAME = \"products\"\n",
    "COLLECTION_NAME = \"data\"\n",
    "FIELD_NAMES = [\"product_url\", \"product_name\", \"brand\", \"description\", \"available\", \n",
    "                \"sale_price\", \"discount\"]\n",
    "SEPARATOR = \" \\n\\n\"\n",
    "QUERY_DICT = {\"description\": { \"$type\": \"string\" }}\n",
    "MAX_DOCS = 10\n",
    "METADATA_NAMES = [\"uniq_id\", \"list_price\", \"category\"]\n",
    "EXCLUDED_LLM_METADATA_KEYS = [\"uniq_id\"]\n",
    "\n",
    "NODE_CHUNK_SIZE = 512 # Token chunk size\n",
    "NODE_CHUNK_OVERLAP = 128"
   ]
  },
  {
   "cell_type": "code",
   "execution_count": 4,
   "metadata": {},
   "outputs": [],
   "source": [
    "reader = CustomMongoReader(uri=mongodb_uri)\n",
    "documents = reader.load_data(\n",
    "    DB_NAME, \n",
    "    COLLECTION_NAME, \n",
    "    FIELD_NAMES, \n",
    "    separator = SEPARATOR, \n",
    "    query_dict=QUERY_DICT,\n",
    "    max_docs = MAX_DOCS,\n",
    "    metadata_names = METADATA_NAMES,\n",
    "    metadata_seperator = SEPARATOR,\n",
    "    excluded_llm_metadata_keys = EXCLUDED_LLM_METADATA_KEYS\n",
    ")"
   ]
  },
  {
   "cell_type": "code",
   "execution_count": 30,
   "metadata": {},
   "outputs": [],
   "source": [
    "DEFAULT_SUMMARY_EXTRACT_TEMPLATE = \"\"\"\\\n",
    "Here is the content of the product:\n",
    "{context_str}\n",
    "\n",
    "Summarize the key features of the product. \\\n",
    "Do not mention the category, URL, price nor discount information. \\\n",
    "\n",
    "Summary: \"\"\""
   ]
  },
  {
   "cell_type": "code",
   "execution_count": 31,
   "metadata": {},
   "outputs": [],
   "source": [
    "metadata_extractors = [\n",
    "    SummaryExtractor(\n",
    "        summaries=[\"self\"],\n",
    "        prompt_template=DEFAULT_SUMMARY_EXTRACT_TEMPLATE\n",
    "    ),\n",
    "    KeywordExtractor(keywords=10),\n",
    "]"
   ]
  },
  {
   "cell_type": "code",
   "execution_count": 32,
   "metadata": {},
   "outputs": [],
   "source": [
    "pipeline = IngestionPipeline(\n",
    "    transformations=[\n",
    "        SentenceSplitter( # Node Parser\n",
    "            chunk_size=NODE_CHUNK_SIZE, \n",
    "            chunk_overlap=NODE_CHUNK_OVERLAP\n",
    "            ),\n",
    "        *metadata_extractors,\n",
    "    ]\n",
    ")"
   ]
  },
  {
   "cell_type": "code",
   "execution_count": 36,
   "metadata": {},
   "outputs": [],
   "source": [
    "# To run async operations on Jupyter Notebook\n",
    "import nest_asyncio\n",
    "nest_asyncio.apply()\n",
    "\n",
    "# Show logging\n",
    "import logging\n",
    "import sys\n",
    "logging.basicConfig(stream=sys.stdout, level=logging.INFO)\n",
    "logging.getLogger().addHandler(logging.StreamHandler(stream=sys.stdout))"
   ]
  },
  {
   "cell_type": "code",
   "execution_count": 33,
   "metadata": {},
   "outputs": [
    {
     "name": "stderr",
     "output_type": "stream",
     "text": [
      "  0%|          | 0/12 [00:00<?, ?it/s]"
     ]
    },
    {
     "name": "stderr",
     "output_type": "stream",
     "text": [
      "100%|██████████| 12/12 [00:12<00:00,  1.05s/it]\n",
      "100%|██████████| 12/12 [00:10<00:00,  1.10it/s]\n"
     ]
    }
   ],
   "source": [
    "nodes = pipeline.run(documents=documents)"
   ]
  },
  {
   "cell_type": "code",
   "execution_count": 34,
   "metadata": {},
   "outputs": [
    {
     "data": {
      "text/plain": [
       "[TextNode(id_='604366f8-8b80-4580-9c2f-e88b04cf8c90', embedding=None, metadata={'uniq_id': 'f1aee81991548da1c5085395ea033a84', 'list_price': 11.52, 'category': 'Home > Kids Rooms > Kids Storage', 'section_summary': 'The key features of the product include a shoe box with a fold-out play mat, a top carry handle, and a fun city-theme. It is collapsible or can be stacked for modularity. The product is designed to teach children to put away their toys while having fun playing.', 'excerpt_keywords': 'Toytainer, Shoe Box Play-N-Store, Boy, teach, children, toys, play, put away, fold-out play mat, city-theme'}, excluded_embed_metadata_keys=[], excluded_llm_metadata_keys=['uniq_id'], relationships={<NodeRelationship.SOURCE: '1'>: RelatedNodeInfo(node_id='bb29d17c-e70b-4d62-8325-2efc337135a8', node_type=<ObjectType.DOCUMENT: '4'>, metadata={'uniq_id': 'f1aee81991548da1c5085395ea033a84', 'list_price': 11.52, 'category': 'Home > Kids Rooms > Kids Storage'}, hash='d0530c10c91a260a36f7db237310444b94de588f9db58a8aebcac1f18ea8329a'), <NodeRelationship.NEXT: '3'>: RelatedNodeInfo(node_id='112b2445-e6fa-45c3-8b39-6b76ccd45de3', node_type=<ObjectType.TEXT: '1'>, metadata={}, hash='22356175f6414e2e2ce4aa595781b7a9f595e14006f5ee44c64afeed19212fce')}, hash='20cca151dc9b70ca224042062e1f547ac0fb713237303b855a125c5f473d3505', text='product_url: https://www.walmart.com/ip/Toytainer-Shoe-Box-Play-N-Store-Boy/40718635 \\n\\nproduct_name: Toytainer Shoe Box Play-N-Store, Boy \\n\\nbrand: Toytainer \\n\\ndescription: Toytainer Shoe Box Play-N-Store, Boy: Teach your children to put away their toys while having fun playing Shoe box features fold-out play mat Top carry handle Fun city-theme Collapsible or stacks for modularity Play and put away! Teach your children to put away their toys while having fun playing! Shoebox features fold-out play mat, top-carry handle and a fun city-theme. It is collapsible or stacks for modularity.|Teach your children to put away their toys while having fun playing|Shoe box features fold-out play mat|Top carry handle|Fun city-theme|Collapsible or stacks for modularity \\n\\navailable: True \\n\\nsale_price: 11.52 \\n\\ndiscount: False', start_char_idx=0, end_char_idx=818, text_template='[Excerpt from document]\\n{metadata_str}\\nExcerpt:\\n-----\\n{content}\\n-----\\n', metadata_template='{key}: {value}', metadata_seperator=' \\n\\n')]"
      ]
     },
     "execution_count": 34,
     "metadata": {},
     "output_type": "execute_result"
    }
   ],
   "source": [
    "nodes[:1]"
   ]
  },
  {
   "cell_type": "code",
   "execution_count": 38,
   "metadata": {},
   "outputs": [
    {
     "data": {
      "text/plain": [
       "llama_index.schema.Document"
      ]
     },
     "execution_count": 38,
     "metadata": {},
     "output_type": "execute_result"
    }
   ],
   "source": [
    "type(documents[0])"
   ]
  },
  {
   "cell_type": "code",
   "execution_count": 45,
   "metadata": {},
   "outputs": [
    {
     "data": {
      "text/plain": [
       "pydantic.v1.main.ModelMetaclass"
      ]
     },
     "execution_count": 45,
     "metadata": {},
     "output_type": "execute_result"
    }
   ],
   "source": [
    "type(OpenAIEmbedding)"
   ]
  },
  {
   "cell_type": "code",
   "execution_count": 46,
   "metadata": {},
   "outputs": [
    {
     "data": {
      "text/plain": [
       "llama_index.schema.TextNode"
      ]
     },
     "execution_count": 46,
     "metadata": {},
     "output_type": "execute_result"
    }
   ],
   "source": [
    "type(nodes[0])"
   ]
  },
  {
   "cell_type": "code",
   "execution_count": 47,
   "metadata": {},
   "outputs": [
    {
     "name": "stderr",
     "output_type": "stream",
     "text": [
      "/Users/alex/Documents/VIU/TFM/RAG-Chat/.venv/lib/python3.9/site-packages/sqlalchemy/orm/mapper.py:50: RuntimeWarning: coroutine 'BaseExtractor.aprocess_nodes' was never awaited\n",
      "  from . import loading\n",
      "RuntimeWarning: Enable tracemalloc to get the object allocation traceback\n"
     ]
    },
    {
     "name": "stdout",
     "output_type": "stream",
     "text": [
      "INFO:httpx:HTTP Request: POST https://api.openai.com/v1/embeddings \"HTTP/1.1 200 OK\"\n",
      "HTTP Request: POST https://api.openai.com/v1/embeddings \"HTTP/1.1 200 OK\"\n"
     ]
    },
    {
     "data": {
      "text/plain": [
       "llama_index.indices.vector_store.base.VectorStoreIndex"
      ]
     },
     "execution_count": 47,
     "metadata": {},
     "output_type": "execute_result"
    }
   ],
   "source": [
    "from llama_index import VectorStoreIndex\n",
    "index = VectorStoreIndex(nodes)\n",
    "type(index)"
   ]
  },
  {
   "cell_type": "code",
   "execution_count": 58,
   "metadata": {},
   "outputs": [],
   "source": [
    "from llama_index.schema import Document\n",
    "import uuid\n",
    "\n",
    "doc = Document(text=\"hola\", id_=str(uuid.uuid4()))"
   ]
  },
  {
   "cell_type": "code",
   "execution_count": 59,
   "metadata": {},
   "outputs": [
    {
     "data": {
      "text/plain": [
       "Document(id_='061c3988-481d-42f4-974d-54b89e97b3f7', embedding=None, metadata={}, excluded_embed_metadata_keys=[], excluded_llm_metadata_keys=[], relationships={}, hash='7b7bfe7a832e493804ecfa1fa87848c2dfc9320ac22301b8a420a264cbaa8e28', text='hola', start_char_idx=None, end_char_idx=None, text_template='{metadata_str}\\n\\n{content}', metadata_template='{key}: {value}', metadata_seperator='\\n')"
      ]
     },
     "execution_count": 59,
     "metadata": {},
     "output_type": "execute_result"
    }
   ],
   "source": [
    "doc"
   ]
  },
  {
   "cell_type": "code",
   "execution_count": null,
   "metadata": {},
   "outputs": [],
   "source": []
  }
 ],
 "metadata": {
  "kernelspec": {
   "display_name": ".venv",
   "language": "python",
   "name": "python3"
  },
  "language_info": {
   "codemirror_mode": {
    "name": "ipython",
    "version": 3
   },
   "file_extension": ".py",
   "mimetype": "text/x-python",
   "name": "python",
   "nbconvert_exporter": "python",
   "pygments_lexer": "ipython3",
   "version": "3.9.5"
  }
 },
 "nbformat": 4,
 "nbformat_minor": 2
}
