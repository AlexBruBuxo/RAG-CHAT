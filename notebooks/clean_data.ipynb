{
 "cells": [
  {
   "cell_type": "markdown",
   "metadata": {},
   "source": [
    "# Product Data Cleaning"
   ]
  },
  {
   "cell_type": "code",
   "execution_count": 18,
   "metadata": {},
   "outputs": [],
   "source": [
    "import pandas as pd\n",
    "import matplotlib.pyplot as plt\n",
    "import missingno as mno\n",
    "from anytree import Node, RenderTree, PreOrderIter, findall\n",
    "from anytree.exporter import JsonExporter"
   ]
  },
  {
   "cell_type": "code",
   "execution_count": 19,
   "metadata": {},
   "outputs": [],
   "source": [
    "# Source data: https://www.kaggle.com/datasets/promptcloud/walmart-product-data-2019/data\n",
    "df = pd.read_csv(\"../data/marketing_sample_for_walmart_com-ecommerce__20191201_20191231__30k_data.csv\")"
   ]
  },
  {
   "cell_type": "code",
   "execution_count": 20,
   "metadata": {},
   "outputs": [
    {
     "data": {
      "text/html": [
       "<div>\n",
       "<style scoped>\n",
       "    .dataframe tbody tr th:only-of-type {\n",
       "        vertical-align: middle;\n",
       "    }\n",
       "\n",
       "    .dataframe tbody tr th {\n",
       "        vertical-align: top;\n",
       "    }\n",
       "\n",
       "    .dataframe thead th {\n",
       "        text-align: right;\n",
       "    }\n",
       "</style>\n",
       "<table border=\"1\" class=\"dataframe\">\n",
       "  <thead>\n",
       "    <tr style=\"text-align: right;\">\n",
       "      <th></th>\n",
       "      <th>uniq_id</th>\n",
       "      <th>crawl_timestamp</th>\n",
       "      <th>product_url</th>\n",
       "      <th>product_name</th>\n",
       "      <th>description</th>\n",
       "      <th>list_price</th>\n",
       "      <th>sale_price</th>\n",
       "      <th>brand</th>\n",
       "      <th>item_number</th>\n",
       "      <th>gtin</th>\n",
       "      <th>package_size</th>\n",
       "      <th>category</th>\n",
       "      <th>postal_code</th>\n",
       "      <th>available</th>\n",
       "    </tr>\n",
       "  </thead>\n",
       "  <tbody>\n",
       "    <tr>\n",
       "      <th>0</th>\n",
       "      <td>019b67ef7f01103d8fb0a53e4c36daa7</td>\n",
       "      <td>2019-12-18 10:20:52 +0000</td>\n",
       "      <td>https://www.walmart.com/ip/La-Costena-Chipotle...</td>\n",
       "      <td>La Costena Chipotle Peppers, 7 OZ (Pack of 12)</td>\n",
       "      <td>We aim to show you accurate product informati...</td>\n",
       "      <td>31.93</td>\n",
       "      <td>31.93</td>\n",
       "      <td>La Costeï¿½ï¿½a</td>\n",
       "      <td>NaN</td>\n",
       "      <td>139941530</td>\n",
       "      <td>NaN</td>\n",
       "      <td>Food | Meal Solutions, Grains &amp; Pasta | Canned...</td>\n",
       "      <td>NaN</td>\n",
       "      <td>True</td>\n",
       "    </tr>\n",
       "    <tr>\n",
       "      <th>1</th>\n",
       "      <td>3a4ff306dcc8a6e2bf720964d29b84c3</td>\n",
       "      <td>2019-12-18 17:21:48 +0000</td>\n",
       "      <td>https://www.walmart.com/ip/Equate-Triamcinolon...</td>\n",
       "      <td>Equate Triamcinolone Acetonide Nasal Allergy S...</td>\n",
       "      <td>We aim to show you accurate product informati...</td>\n",
       "      <td>10.48</td>\n",
       "      <td>10.48</td>\n",
       "      <td>Equate</td>\n",
       "      <td>569045548.0</td>\n",
       "      <td>632775553</td>\n",
       "      <td>NaN</td>\n",
       "      <td>Health | Equate | Equate Allergy | Equate Sinu...</td>\n",
       "      <td>NaN</td>\n",
       "      <td>True</td>\n",
       "    </tr>\n",
       "    <tr>\n",
       "      <th>2</th>\n",
       "      <td>80090549d7d176327b186353c7b28ca4</td>\n",
       "      <td>2019-12-18 17:46:41 +0000</td>\n",
       "      <td>https://www.walmart.com/ip/AduroSmart-ERIA-Sof...</td>\n",
       "      <td>AduroSmart ERIA Soft White Smart A19 Light Bul...</td>\n",
       "      <td>We aim to show you accurate product informati...</td>\n",
       "      <td>10.99</td>\n",
       "      <td>10.99</td>\n",
       "      <td>AduroSmart ERIA</td>\n",
       "      <td>568068849.0</td>\n",
       "      <td>281487005</td>\n",
       "      <td>NaN</td>\n",
       "      <td>Electronics | Smart Home | Smart Energy and Li...</td>\n",
       "      <td>NaN</td>\n",
       "      <td>True</td>\n",
       "    </tr>\n",
       "    <tr>\n",
       "      <th>3</th>\n",
       "      <td>151ee1c61a29bacfedb01cd500494b2f</td>\n",
       "      <td>2019-12-18 22:14:22 +0000</td>\n",
       "      <td>https://www.walmart.com/ip/24-Classic-Adjustab...</td>\n",
       "      <td>24\" Classic Adjustable Balloon Fender Set Chro...</td>\n",
       "      <td>We aim to show you accurate product informati...</td>\n",
       "      <td>38.59</td>\n",
       "      <td>38.59</td>\n",
       "      <td>lowrider</td>\n",
       "      <td>NaN</td>\n",
       "      <td>133714060</td>\n",
       "      <td>NaN</td>\n",
       "      <td>Sports &amp; Outdoors | Bikes | Bike Accessories |...</td>\n",
       "      <td>NaN</td>\n",
       "      <td>True</td>\n",
       "    </tr>\n",
       "    <tr>\n",
       "      <th>4</th>\n",
       "      <td>7b2ef8d41f65df121f6b4b9828cf8dad</td>\n",
       "      <td>2019-12-18 06:56:02 +0000</td>\n",
       "      <td>https://www.walmart.com/ip/Elephant-Shape-Sili...</td>\n",
       "      <td>Elephant Shape Silicone Drinkware Portable Sil...</td>\n",
       "      <td>We aim to show you accurate product informati...</td>\n",
       "      <td>5.81</td>\n",
       "      <td>5.81</td>\n",
       "      <td>Anself</td>\n",
       "      <td>NaN</td>\n",
       "      <td>104042139</td>\n",
       "      <td>NaN</td>\n",
       "      <td>Baby | Feeding | Sippy Cups: Alternatives to P...</td>\n",
       "      <td>NaN</td>\n",
       "      <td>True</td>\n",
       "    </tr>\n",
       "  </tbody>\n",
       "</table>\n",
       "</div>"
      ],
      "text/plain": [
       "                            uniq_id            crawl_timestamp  \\\n",
       "0  019b67ef7f01103d8fb0a53e4c36daa7  2019-12-18 10:20:52 +0000   \n",
       "1  3a4ff306dcc8a6e2bf720964d29b84c3  2019-12-18 17:21:48 +0000   \n",
       "2  80090549d7d176327b186353c7b28ca4  2019-12-18 17:46:41 +0000   \n",
       "3  151ee1c61a29bacfedb01cd500494b2f  2019-12-18 22:14:22 +0000   \n",
       "4  7b2ef8d41f65df121f6b4b9828cf8dad  2019-12-18 06:56:02 +0000   \n",
       "\n",
       "                                         product_url  \\\n",
       "0  https://www.walmart.com/ip/La-Costena-Chipotle...   \n",
       "1  https://www.walmart.com/ip/Equate-Triamcinolon...   \n",
       "2  https://www.walmart.com/ip/AduroSmart-ERIA-Sof...   \n",
       "3  https://www.walmart.com/ip/24-Classic-Adjustab...   \n",
       "4  https://www.walmart.com/ip/Elephant-Shape-Sili...   \n",
       "\n",
       "                                        product_name  \\\n",
       "0     La Costena Chipotle Peppers, 7 OZ (Pack of 12)   \n",
       "1  Equate Triamcinolone Acetonide Nasal Allergy S...   \n",
       "2  AduroSmart ERIA Soft White Smart A19 Light Bul...   \n",
       "3  24\" Classic Adjustable Balloon Fender Set Chro...   \n",
       "4  Elephant Shape Silicone Drinkware Portable Sil...   \n",
       "\n",
       "                                         description  list_price  sale_price  \\\n",
       "0   We aim to show you accurate product informati...       31.93       31.93   \n",
       "1   We aim to show you accurate product informati...       10.48       10.48   \n",
       "2   We aim to show you accurate product informati...       10.99       10.99   \n",
       "3   We aim to show you accurate product informati...       38.59       38.59   \n",
       "4   We aim to show you accurate product informati...        5.81        5.81   \n",
       "\n",
       "             brand  item_number       gtin  package_size  \\\n",
       "0  La Costeï¿½ï¿½a          NaN  139941530           NaN   \n",
       "1           Equate  569045548.0  632775553           NaN   \n",
       "2  AduroSmart ERIA  568068849.0  281487005           NaN   \n",
       "3         lowrider          NaN  133714060           NaN   \n",
       "4           Anself          NaN  104042139           NaN   \n",
       "\n",
       "                                            category  postal_code  available  \n",
       "0  Food | Meal Solutions, Grains & Pasta | Canned...          NaN       True  \n",
       "1  Health | Equate | Equate Allergy | Equate Sinu...          NaN       True  \n",
       "2  Electronics | Smart Home | Smart Energy and Li...          NaN       True  \n",
       "3  Sports & Outdoors | Bikes | Bike Accessories |...          NaN       True  \n",
       "4  Baby | Feeding | Sippy Cups: Alternatives to P...          NaN       True  "
      ]
     },
     "execution_count": 20,
     "metadata": {},
     "output_type": "execute_result"
    }
   ],
   "source": [
    "df.head()"
   ]
  },
  {
   "cell_type": "markdown",
   "metadata": {},
   "source": [
    "## Missing values"
   ]
  },
  {
   "cell_type": "markdown",
   "metadata": {},
   "source": [
    "We can see that both `package_size` and `postal_code` are missing all the values, therefore we proceed to remove these columns right away. Also, `item_number` has 70% of all entries missing and since this is not a relevant field for the chatbot we proceed to remove it."
   ]
  },
  {
   "cell_type": "code",
   "execution_count": 21,
   "metadata": {},
   "outputs": [],
   "source": [
    "df.drop([\"item_number\", \"package_size\", \"postal_code\"], axis=1, inplace=True)"
   ]
  },
  {
   "cell_type": "code",
   "execution_count": 22,
   "metadata": {},
   "outputs": [
    {
     "data": {
      "text/plain": [
       "uniq_id              0\n",
       "crawl_timestamp      0\n",
       "product_url          0\n",
       "product_name         0\n",
       "description         53\n",
       "list_price           0\n",
       "sale_price           0\n",
       "brand              564\n",
       "gtin                 0\n",
       "category            17\n",
       "available            0\n",
       "dtype: int64"
      ]
     },
     "execution_count": 22,
     "metadata": {},
     "output_type": "execute_result"
    }
   ],
   "source": [
    "df.isnull().sum()"
   ]
  },
  {
   "cell_type": "code",
   "execution_count": 23,
   "metadata": {},
   "outputs": [
    {
     "data": {
      "text/plain": [
       "<Axes: >"
      ]
     },
     "execution_count": 23,
     "metadata": {},
     "output_type": "execute_result"
    },
    {
     "data": {
      "image/png": "[encoded data removed]",
      "text/plain": [
       "<Figure size 2500x1000 with 2 Axes>"
      ]
     },
     "metadata": {},
     "output_type": "display_data"
    }
   ],
   "source": [
    "mno.matrix(df)"
   ]
  },
  {
   "cell_type": "markdown",
   "metadata": {},
   "source": [
    "Next we replace the missing values from `brand` with a default value `<UNKNOWN>` and remove the products without description nor category, as these represent a very small portion of the data and don't provide usable information for the Chatbot."
   ]
  },
  {
   "cell_type": "code",
   "execution_count": 24,
   "metadata": {},
   "outputs": [],
   "source": [
    "df[\"brand\"].fillna(\"<UNKNOWN>\", inplace=True)"
   ]
  },
  {
   "cell_type": "code",
   "execution_count": 25,
   "metadata": {},
   "outputs": [],
   "source": [
    "df.dropna(subset=\"description\", inplace=True)\n",
    "df.dropna(subset=\"category\", inplace=True)"
   ]
  },
  {
   "cell_type": "code",
   "execution_count": 26,
   "metadata": {},
   "outputs": [],
   "source": [
    "df.dropna(subset=\"category\", inplace=True)"
   ]
  },
  {
   "cell_type": "markdown",
   "metadata": {},
   "source": [
    "## Feature Engineering"
   ]
  },
  {
   "cell_type": "markdown",
   "metadata": {},
   "source": [
    "### Description\n",
    "Remove the default string from each product description: \"We aim to show you accurate product information. Manufacturers, suppliers and others provide what you see here, and we have not verified it. See our disclaimer |\"."
   ]
  },
  {
   "cell_type": "code",
   "execution_count": 27,
   "metadata": {},
   "outputs": [
    {
     "data": {
      "text/plain": [
       "' We aim to show you accurate product information. Manufacturers, suppliers and others provide what you see here, and we have not verified it. See our disclaimer |Compare to Nasacort Allergy 24HR active ingredient. Triamcinolone Acetonide Nasal Allergy Spray, 55 mcg per spray, allergy symptom reliever (glucocorticoid)*, is a non-drowsy, multi-symptom nasal spray for 24 hour relief of allergy symptoms such as nasal congestion, sneezing, runny and itchy nose. For adults and children ages 2 years and older. *Triamcinolone acetonide is a steroid medicine known as a glucocorticoid. Equate Multi-Symptom Nasal Allergy Spray, 60 Sprays, 0.37 fl oz: ACTIVE INGREDIENT: This multi-symptom nasal allergy spray provides 24 hour relief in adults and children ages 2 years and older. Compare to the active ingredient in Nasacort Allergy 24HR. EFFECTIVE: This nasal spray temporarily relieves symptoms of hay fever or other upper respiratory allergies: nasal congestion, runny nose, sneezing and itchy nose. 24 HOUR RELIEF: This nasal allergy spray provides 24 hours of relief from allergy symptoms. Use this nasal spray to help relieve allergy symptoms like nasal congestion, sneezing, runny nose and itchy nose. NON-DROWSY: This multi-symptom nasal allergy spray provides all day, non-drowsy relief. ALLERGY TIPS: If you have allergies, total avoidance is one of the best strategies. Unfortunately, many allergens are not easy to eliminate. Use a multi-symptom nasal spray like Triamcinolone Acetonide Nasal Allergy Spray, 55 mcg per spray can help. |ACTIVE INGREDIENT: This multi-symptom nasal allergy spray provides 24 hour relief in adults and children ages 2 years and older. Compare to the active ingredient in Nasacort Allergy 24HR.|EFFECTIVE: This nasal spray temporarily relieves symptoms of hay fever or other upper respiratory allergies: nasal congestion, runny nose, sneezing and itchy nose.|24 HOUR RELIEF: This nasal allergy spray provides 24 hours of relief from allergy symptoms. Use this nasal spray to help relieve allergy symptoms like nasal congestion, sneezing, runny nose and itchy nose.|NON-DROWSY: This multi-symptom nasal allergy spray provides all day, non-drowsy relief.|ALLERGY TIPS: If you have allergies, total avoidance is one of the best strategies. Unfortunately, many allergens are not easy to eliminate. Use a multi-symptom nasal spray like Triamcinolone Acetonide Nasal Allergy Spray, 55 mcg per spray can help.'"
      ]
     },
     "execution_count": 27,
     "metadata": {},
     "output_type": "execute_result"
    }
   ],
   "source": [
    "df[\"description\"][1]"
   ]
  },
  {
   "cell_type": "code",
   "execution_count": 28,
   "metadata": {},
   "outputs": [
    {
     "data": {
      "text/plain": [
       "29930"
      ]
     },
     "execution_count": 28,
     "metadata": {},
     "output_type": "execute_result"
    }
   ],
   "source": [
    "target_sentence = \"We aim to show you accurate product information. Manufacturers, suppliers and others provide what you see here, and we have not verified it. See our disclaimer |\"\n",
    "df['description'].str.contains(target_sentence, regex=False).sum()"
   ]
  },
  {
   "cell_type": "code",
   "execution_count": 29,
   "metadata": {},
   "outputs": [],
   "source": [
    "df['description'] = df['description'].str.replace(target_sentence, '')\n",
    "df['description'] = df['description'].str.strip()\n"
   ]
  },
  {
   "cell_type": "code",
   "execution_count": 30,
   "metadata": {},
   "outputs": [
    {
     "data": {
      "text/plain": [
       "0    La Costena Chipotle Peppers, 7 OZ (Pack of 12)...\n",
       "1    Compare to Nasacort Allergy 24HR active ingred...\n",
       "2    The Soft White ERIA A19 bulb (2700K) can be co...\n",
       "3    Lowrider Fender Set 24\" Classic Adjustable Chr...\n",
       "4    This is a kind of fine quality silicone cup li...\n",
       "5    Enojy one of your favorite tea flavors with th...\n",
       "Name: description, dtype: object"
      ]
     },
     "execution_count": 30,
     "metadata": {},
     "output_type": "execute_result"
    }
   ],
   "source": [
    "df['description'][:6]"
   ]
  },
  {
   "cell_type": "markdown",
   "metadata": {},
   "source": [
    "Numbe of empty descriptions:"
   ]
  },
  {
   "cell_type": "code",
   "execution_count": 31,
   "metadata": {},
   "outputs": [
    {
     "data": {
      "text/plain": [
       "94"
      ]
     },
     "execution_count": 31,
     "metadata": {},
     "output_type": "execute_result"
    }
   ],
   "source": [
    "((df['description'].isna()) | (df['description'].str.isspace()) | (df[\"description\"] == '')).sum()"
   ]
  },
  {
   "cell_type": "markdown",
   "metadata": {},
   "source": [
    "The histogram of description's word length shows the majority of entries having very low number of words. We need to remove the entries that don't contain enough deep information to feed the chatbot (not more than 10 words)."
   ]
  },
  {
   "cell_type": "code",
   "execution_count": 32,
   "metadata": {},
   "outputs": [
    {
     "data": {
      "image/png": "[encoded data removed]",
      "text/plain": [
       "<Figure size 640x480 with 1 Axes>"
      ]
     },
     "metadata": {},
     "output_type": "display_data"
    }
   ],
   "source": [
    "plt.hist(df['description'].str.split().apply(len), bins=25, edgecolor='black')\n",
    "plt.xlabel('String length (in words)')\n",
    "plt.ylabel('Frequency')\n",
    "plt.title('Histogram of \"description\" word lengths')\n",
    "plt.show()"
   ]
  },
  {
   "cell_type": "code",
   "execution_count": 33,
   "metadata": {},
   "outputs": [],
   "source": [
    "desc_num_words = df[\"description\"].str.split().apply(len)\n",
    "MIN_WORDS_THRESHOLD = 10\n",
    "low_word_entries = df[desc_num_words < MIN_WORDS_THRESHOLD]"
   ]
  },
  {
   "cell_type": "code",
   "execution_count": 34,
   "metadata": {},
   "outputs": [
    {
     "data": {
      "text/plain": [
       "3        Lowrider Fender Set 24\" Classic Adjustable Chr...\n",
       "129      Item C26314BLUE Barcode: 91789023111 Top-Quali...\n",
       "166                                                       \n",
       "177                                                    new\n",
       "189                                                       \n",
       "                               ...                        \n",
       "29951    Suncast GO3216 Golf Organizer | Fast Free Ship...\n",
       "29979    Specifications Allergens: LR-54 - SKU: ZX9SSPC...\n",
       "29982         Rice select arborio rice, 36 oz, (pack of 4)\n",
       "29986                          450 Alloy Stem 21.1mm Blue.\n",
       "29997      Gooseberries in syrup Princes Gooseberries 300g\n",
       "Name: description, Length: 1190, dtype: object"
      ]
     },
     "execution_count": 34,
     "metadata": {},
     "output_type": "execute_result"
    }
   ],
   "source": [
    "low_word_entries[\"description\"]"
   ]
  },
  {
   "cell_type": "code",
   "execution_count": 35,
   "metadata": {},
   "outputs": [
    {
     "data": {
      "text/plain": [
       "1190"
      ]
     },
     "execution_count": 35,
     "metadata": {},
     "output_type": "execute_result"
    }
   ],
   "source": [
    "len(low_word_entries)"
   ]
  },
  {
   "cell_type": "code",
   "execution_count": 36,
   "metadata": {},
   "outputs": [],
   "source": [
    "df.drop(low_word_entries.index, axis=0, inplace=True)"
   ]
  },
  {
   "cell_type": "markdown",
   "metadata": {},
   "source": [
    "After removing all these entries we reset the index."
   ]
  },
  {
   "cell_type": "code",
   "execution_count": 37,
   "metadata": {},
   "outputs": [],
   "source": [
    "df.reset_index(drop=True, inplace=True)"
   ]
  },
  {
   "cell_type": "markdown",
   "metadata": {},
   "source": [
    "### Categories"
   ]
  },
  {
   "cell_type": "markdown",
   "metadata": {},
   "source": [
    "We extract the number of unique categories and transform the column to contain a vector of categories."
   ]
  },
  {
   "cell_type": "code",
   "execution_count": 38,
   "metadata": {},
   "outputs": [
    {
     "data": {
      "text/plain": [
       "'Food | Meal Solutions, Grains & Pasta | Canned Goods | Canned Vegetables'"
      ]
     },
     "execution_count": 38,
     "metadata": {},
     "output_type": "execute_result"
    }
   ],
   "source": [
    "df['category'][0]"
   ]
  },
  {
   "cell_type": "code",
   "execution_count": 39,
   "metadata": {},
   "outputs": [],
   "source": [
    "df['category'] = df['category'].str.split('|').apply(lambda x: [category.strip() for category in x])"
   ]
  },
  {
   "cell_type": "code",
   "execution_count": 40,
   "metadata": {},
   "outputs": [
    {
     "data": {
      "text/plain": [
       "0        [Food, Meal Solutions, Grains & Pasta, Canned ...\n",
       "1        [Health, Equate, Equate Allergy, Equate Sinus ...\n",
       "2        [Electronics, Smart Home, Smart Energy and Lig...\n",
       "3        [Baby, Feeding, Sippy Cups: Alternatives to Pl...\n",
       "4                          [Food, Beverages, Tea, All Tea]\n",
       "                               ...                        \n",
       "28735    [Food, Snacks, Cookies & Chips, Chips & Crisps...\n",
       "28736              [Food, Frozen Foods, Frozen Vegetables]\n",
       "28737    [Sports & Outdoors, Bikes, Bike Components, Bi...\n",
       "28738    [Beauty, Hair Care, Hair Styling Tools, Flat I...\n",
       "28739    [Beauty, Here for Every Beauty, Featured Shops...\n",
       "Name: category, Length: 28740, dtype: object"
      ]
     },
     "execution_count": 40,
     "metadata": {},
     "output_type": "execute_result"
    }
   ],
   "source": [
    "df['category']"
   ]
  },
  {
   "cell_type": "code",
   "execution_count": 41,
   "metadata": {},
   "outputs": [],
   "source": [
    "root = Node('Products')\n",
    "\n",
    "def add_node(parent, child):\n",
    "    \"\"\"Add nodes to the tree.\"\"\"\n",
    "    existing_node = findall(parent, filter_=lambda node: node.name == child)\n",
    "    if existing_node:\n",
    "        return existing_node[0]\n",
    "    else:\n",
    "        return Node(child, parent=parent)\n",
    "\n",
    "for index, row in df.iterrows():\n",
    "    current_parent = root\n",
    "    \n",
    "    for category in row[\"category\"]:\n",
    "        current_parent = add_node(current_parent, category)"
   ]
  },
  {
   "cell_type": "code",
   "execution_count": 42,
   "metadata": {},
   "outputs": [
    {
     "name": "stdout",
     "output_type": "stream",
     "text": [
      "Products\n",
      "├── Food\n",
      "├── Health\n",
      "├── Electronics\n",
      "├── Baby\n",
      "├── Home\n",
      "├── Household Essentials\n",
      "├── Sports & Outdoors\n",
      "├── Clothing\n",
      "├── Personal Care\n",
      "├── Toys\n",
      "├── Beauty\n",
      "├── Shop by Brand\n",
      "├── Home Improvement\n",
      "├── Industrial & Scientific\n",
      "├── Patio & Garden\n",
      "├── Pets\n",
      "├── Auto & Tires\n",
      "├── Party & Occasions\n",
      "├── Seasonal\n",
      "├── Feature\n",
      "├── Books\n",
      "├── Video Games\n",
      "├── Office Supplies\n",
      "├── Collectibles\n",
      "├── Jewelry\n",
      "├── Cell Phones\n",
      "├── Walmart for Business\n",
      "├── Musical Instruments\n",
      "├── Arts Crafts & Sewing\n",
      "├── Shop by Movie\n",
      "└── Music\n"
     ]
    }
   ],
   "source": [
    "for pre, fill, node in RenderTree(root, maxlevel=2):\n",
    "    print(f\"{pre}{node.name}\")"
   ]
  },
  {
   "cell_type": "code",
   "execution_count": 43,
   "metadata": {},
   "outputs": [
    {
     "data": {
      "text/plain": [
       "31"
      ]
     },
     "execution_count": 43,
     "metadata": {},
     "output_type": "execute_result"
    }
   ],
   "source": [
    "# Top main categories\n",
    "len(root.children)"
   ]
  },
  {
   "cell_type": "code",
   "execution_count": 44,
   "metadata": {},
   "outputs": [
    {
     "data": {
      "text/plain": [
       "4380"
      ]
     },
     "execution_count": 44,
     "metadata": {},
     "output_type": "execute_result"
    }
   ],
   "source": [
    "# Traverse the tree to count all nodes\n",
    "sum(1 for _ in PreOrderIter(root, maxlevel = None))"
   ]
  },
  {
   "cell_type": "code",
   "execution_count": 45,
   "metadata": {},
   "outputs": [
    {
     "data": {
      "text/plain": [
       "9"
      ]
     },
     "execution_count": 45,
     "metadata": {},
     "output_type": "execute_result"
    }
   ],
   "source": [
    "# Max depth in the tree\n",
    "max_depth = 0\n",
    "for _node in PreOrderIter(root, maxlevel = None):\n",
    "    if _node.depth > max_depth: max_depth = _node.depth\n",
    "\n",
    "max_depth"
   ]
  },
  {
   "cell_type": "markdown",
   "metadata": {},
   "source": [
    "Export the tree for later use:"
   ]
  },
  {
   "cell_type": "code",
   "execution_count": 46,
   "metadata": {},
   "outputs": [],
   "source": [
    "exporter = JsonExporter(indent=2, sort_keys=True)\n",
    "tree = exporter.export(root)\n",
    "\n",
    "# Save the JSON data to a file\n",
    "with open(\"../data/tree_categories.json\", 'w') as json_file:\n",
    "    json_file.write(tree)"
   ]
  },
  {
   "cell_type": "markdown",
   "metadata": {},
   "source": [
    "### Remove unnecessary data"
   ]
  },
  {
   "cell_type": "markdown",
   "metadata": {},
   "source": [
    "We start by removing the `crawl_timestamp` as this information is outside the product domain."
   ]
  },
  {
   "cell_type": "code",
   "execution_count": 47,
   "metadata": {},
   "outputs": [],
   "source": [
    "df.drop(\"crawl_timestamp\", axis=1, inplace=True)"
   ]
  },
  {
   "cell_type": "code",
   "execution_count": 48,
   "metadata": {},
   "outputs": [
    {
     "data": {
      "text/html": [
       "<div>\n",
       "<style scoped>\n",
       "    .dataframe tbody tr th:only-of-type {\n",
       "        vertical-align: middle;\n",
       "    }\n",
       "\n",
       "    .dataframe tbody tr th {\n",
       "        vertical-align: top;\n",
       "    }\n",
       "\n",
       "    .dataframe thead th {\n",
       "        text-align: right;\n",
       "    }\n",
       "</style>\n",
       "<table border=\"1\" class=\"dataframe\">\n",
       "  <thead>\n",
       "    <tr style=\"text-align: right;\">\n",
       "      <th></th>\n",
       "      <th>uniq_id</th>\n",
       "      <th>product_url</th>\n",
       "      <th>product_name</th>\n",
       "      <th>description</th>\n",
       "      <th>list_price</th>\n",
       "      <th>sale_price</th>\n",
       "      <th>brand</th>\n",
       "      <th>gtin</th>\n",
       "      <th>category</th>\n",
       "      <th>available</th>\n",
       "    </tr>\n",
       "  </thead>\n",
       "  <tbody>\n",
       "    <tr>\n",
       "      <th>0</th>\n",
       "      <td>019b67ef7f01103d8fb0a53e4c36daa7</td>\n",
       "      <td>https://www.walmart.com/ip/La-Costena-Chipotle...</td>\n",
       "      <td>La Costena Chipotle Peppers, 7 OZ (Pack of 12)</td>\n",
       "      <td>La Costena Chipotle Peppers, 7 OZ (Pack of 12)...</td>\n",
       "      <td>31.93</td>\n",
       "      <td>31.93</td>\n",
       "      <td>La Costeï¿½ï¿½a</td>\n",
       "      <td>139941530</td>\n",
       "      <td>[Food, Meal Solutions, Grains &amp; Pasta, Canned ...</td>\n",
       "      <td>True</td>\n",
       "    </tr>\n",
       "    <tr>\n",
       "      <th>1</th>\n",
       "      <td>3a4ff306dcc8a6e2bf720964d29b84c3</td>\n",
       "      <td>https://www.walmart.com/ip/Equate-Triamcinolon...</td>\n",
       "      <td>Equate Triamcinolone Acetonide Nasal Allergy S...</td>\n",
       "      <td>Compare to Nasacort Allergy 24HR active ingred...</td>\n",
       "      <td>10.48</td>\n",
       "      <td>10.48</td>\n",
       "      <td>Equate</td>\n",
       "      <td>632775553</td>\n",
       "      <td>[Health, Equate, Equate Allergy, Equate Sinus ...</td>\n",
       "      <td>True</td>\n",
       "    </tr>\n",
       "    <tr>\n",
       "      <th>2</th>\n",
       "      <td>80090549d7d176327b186353c7b28ca4</td>\n",
       "      <td>https://www.walmart.com/ip/AduroSmart-ERIA-Sof...</td>\n",
       "      <td>AduroSmart ERIA Soft White Smart A19 Light Bul...</td>\n",
       "      <td>The Soft White ERIA A19 bulb (2700K) can be co...</td>\n",
       "      <td>10.99</td>\n",
       "      <td>10.99</td>\n",
       "      <td>AduroSmart ERIA</td>\n",
       "      <td>281487005</td>\n",
       "      <td>[Electronics, Smart Home, Smart Energy and Lig...</td>\n",
       "      <td>True</td>\n",
       "    </tr>\n",
       "    <tr>\n",
       "      <th>3</th>\n",
       "      <td>7b2ef8d41f65df121f6b4b9828cf8dad</td>\n",
       "      <td>https://www.walmart.com/ip/Elephant-Shape-Sili...</td>\n",
       "      <td>Elephant Shape Silicone Drinkware Portable Sil...</td>\n",
       "      <td>This is a kind of fine quality silicone cup li...</td>\n",
       "      <td>5.81</td>\n",
       "      <td>5.81</td>\n",
       "      <td>Anself</td>\n",
       "      <td>104042139</td>\n",
       "      <td>[Baby, Feeding, Sippy Cups: Alternatives to Pl...</td>\n",
       "      <td>True</td>\n",
       "    </tr>\n",
       "    <tr>\n",
       "      <th>4</th>\n",
       "      <td>e4fab4b6f41eac02d22b421818c8f080</td>\n",
       "      <td>https://www.walmart.com/ip/6-Boxes-Twinings-of...</td>\n",
       "      <td>(6 Boxes) Twinings of London Nightly Calm Gree...</td>\n",
       "      <td>Enojy one of your favorite tea flavors with th...</td>\n",
       "      <td>17.99</td>\n",
       "      <td>17.99</td>\n",
       "      <td>Twinings</td>\n",
       "      <td>55450414</td>\n",
       "      <td>[Food, Beverages, Tea, All Tea]</td>\n",
       "      <td>False</td>\n",
       "    </tr>\n",
       "  </tbody>\n",
       "</table>\n",
       "</div>"
      ],
      "text/plain": [
       "                            uniq_id  \\\n",
       "0  019b67ef7f01103d8fb0a53e4c36daa7   \n",
       "1  3a4ff306dcc8a6e2bf720964d29b84c3   \n",
       "2  80090549d7d176327b186353c7b28ca4   \n",
       "3  7b2ef8d41f65df121f6b4b9828cf8dad   \n",
       "4  e4fab4b6f41eac02d22b421818c8f080   \n",
       "\n",
       "                                         product_url  \\\n",
       "0  https://www.walmart.com/ip/La-Costena-Chipotle...   \n",
       "1  https://www.walmart.com/ip/Equate-Triamcinolon...   \n",
       "2  https://www.walmart.com/ip/AduroSmart-ERIA-Sof...   \n",
       "3  https://www.walmart.com/ip/Elephant-Shape-Sili...   \n",
       "4  https://www.walmart.com/ip/6-Boxes-Twinings-of...   \n",
       "\n",
       "                                        product_name  \\\n",
       "0     La Costena Chipotle Peppers, 7 OZ (Pack of 12)   \n",
       "1  Equate Triamcinolone Acetonide Nasal Allergy S...   \n",
       "2  AduroSmart ERIA Soft White Smart A19 Light Bul...   \n",
       "3  Elephant Shape Silicone Drinkware Portable Sil...   \n",
       "4  (6 Boxes) Twinings of London Nightly Calm Gree...   \n",
       "\n",
       "                                         description  list_price  sale_price  \\\n",
       "0  La Costena Chipotle Peppers, 7 OZ (Pack of 12)...       31.93       31.93   \n",
       "1  Compare to Nasacort Allergy 24HR active ingred...       10.48       10.48   \n",
       "2  The Soft White ERIA A19 bulb (2700K) can be co...       10.99       10.99   \n",
       "3  This is a kind of fine quality silicone cup li...        5.81        5.81   \n",
       "4  Enojy one of your favorite tea flavors with th...       17.99       17.99   \n",
       "\n",
       "             brand       gtin  \\\n",
       "0  La Costeï¿½ï¿½a  139941530   \n",
       "1           Equate  632775553   \n",
       "2  AduroSmart ERIA  281487005   \n",
       "3           Anself  104042139   \n",
       "4         Twinings   55450414   \n",
       "\n",
       "                                            category  available  \n",
       "0  [Food, Meal Solutions, Grains & Pasta, Canned ...       True  \n",
       "1  [Health, Equate, Equate Allergy, Equate Sinus ...       True  \n",
       "2  [Electronics, Smart Home, Smart Energy and Lig...       True  \n",
       "3  [Baby, Feeding, Sippy Cups: Alternatives to Pl...       True  \n",
       "4                    [Food, Beverages, Tea, All Tea]      False  "
      ]
     },
     "execution_count": 48,
     "metadata": {},
     "output_type": "execute_result"
    }
   ],
   "source": [
    "df.head()"
   ]
  },
  {
   "cell_type": "markdown",
   "metadata": {},
   "source": [
    "We can see that there are enough relevant differences between `list_price` and `sale_price`, therefore we maintain both columns. We create a column named `discount` that indicates when the sele price is lower than list price."
   ]
  },
  {
   "cell_type": "code",
   "execution_count": 49,
   "metadata": {},
   "outputs": [
    {
     "name": "stdout",
     "output_type": "stream",
     "text": [
      "Number of products with different prices: 1527\n",
      "Number of products with lower sale price: 1525\n"
     ]
    }
   ],
   "source": [
    "print(\"Number of products with different prices:\", (df['list_price'] != df['sale_price']).sum())\n",
    "print(\"Number of products with lower sale price:\", (df['list_price'] > df['sale_price']).sum())"
   ]
  },
  {
   "cell_type": "code",
   "execution_count": 50,
   "metadata": {},
   "outputs": [],
   "source": [
    "df[\"discount\"] = (df['list_price'] > df['sale_price'])"
   ]
  },
  {
   "cell_type": "code",
   "execution_count": 51,
   "metadata": {},
   "outputs": [
    {
     "data": {
      "text/html": [
       "<div>\n",
       "<style scoped>\n",
       "    .dataframe tbody tr th:only-of-type {\n",
       "        vertical-align: middle;\n",
       "    }\n",
       "\n",
       "    .dataframe tbody tr th {\n",
       "        vertical-align: top;\n",
       "    }\n",
       "\n",
       "    .dataframe thead th {\n",
       "        text-align: right;\n",
       "    }\n",
       "</style>\n",
       "<table border=\"1\" class=\"dataframe\">\n",
       "  <thead>\n",
       "    <tr style=\"text-align: right;\">\n",
       "      <th></th>\n",
       "      <th>uniq_id</th>\n",
       "      <th>product_url</th>\n",
       "      <th>product_name</th>\n",
       "      <th>description</th>\n",
       "      <th>list_price</th>\n",
       "      <th>sale_price</th>\n",
       "      <th>brand</th>\n",
       "      <th>gtin</th>\n",
       "      <th>category</th>\n",
       "      <th>available</th>\n",
       "      <th>discount</th>\n",
       "    </tr>\n",
       "  </thead>\n",
       "  <tbody>\n",
       "    <tr>\n",
       "      <th>0</th>\n",
       "      <td>019b67ef7f01103d8fb0a53e4c36daa7</td>\n",
       "      <td>https://www.walmart.com/ip/La-Costena-Chipotle...</td>\n",
       "      <td>La Costena Chipotle Peppers, 7 OZ (Pack of 12)</td>\n",
       "      <td>La Costena Chipotle Peppers, 7 OZ (Pack of 12)...</td>\n",
       "      <td>31.93</td>\n",
       "      <td>31.93</td>\n",
       "      <td>La Costeï¿½ï¿½a</td>\n",
       "      <td>139941530</td>\n",
       "      <td>[Food, Meal Solutions, Grains &amp; Pasta, Canned ...</td>\n",
       "      <td>True</td>\n",
       "      <td>False</td>\n",
       "    </tr>\n",
       "    <tr>\n",
       "      <th>1</th>\n",
       "      <td>3a4ff306dcc8a6e2bf720964d29b84c3</td>\n",
       "      <td>https://www.walmart.com/ip/Equate-Triamcinolon...</td>\n",
       "      <td>Equate Triamcinolone Acetonide Nasal Allergy S...</td>\n",
       "      <td>Compare to Nasacort Allergy 24HR active ingred...</td>\n",
       "      <td>10.48</td>\n",
       "      <td>10.48</td>\n",
       "      <td>Equate</td>\n",
       "      <td>632775553</td>\n",
       "      <td>[Health, Equate, Equate Allergy, Equate Sinus ...</td>\n",
       "      <td>True</td>\n",
       "      <td>False</td>\n",
       "    </tr>\n",
       "    <tr>\n",
       "      <th>2</th>\n",
       "      <td>80090549d7d176327b186353c7b28ca4</td>\n",
       "      <td>https://www.walmart.com/ip/AduroSmart-ERIA-Sof...</td>\n",
       "      <td>AduroSmart ERIA Soft White Smart A19 Light Bul...</td>\n",
       "      <td>The Soft White ERIA A19 bulb (2700K) can be co...</td>\n",
       "      <td>10.99</td>\n",
       "      <td>10.99</td>\n",
       "      <td>AduroSmart ERIA</td>\n",
       "      <td>281487005</td>\n",
       "      <td>[Electronics, Smart Home, Smart Energy and Lig...</td>\n",
       "      <td>True</td>\n",
       "      <td>False</td>\n",
       "    </tr>\n",
       "    <tr>\n",
       "      <th>3</th>\n",
       "      <td>7b2ef8d41f65df121f6b4b9828cf8dad</td>\n",
       "      <td>https://www.walmart.com/ip/Elephant-Shape-Sili...</td>\n",
       "      <td>Elephant Shape Silicone Drinkware Portable Sil...</td>\n",
       "      <td>This is a kind of fine quality silicone cup li...</td>\n",
       "      <td>5.81</td>\n",
       "      <td>5.81</td>\n",
       "      <td>Anself</td>\n",
       "      <td>104042139</td>\n",
       "      <td>[Baby, Feeding, Sippy Cups: Alternatives to Pl...</td>\n",
       "      <td>True</td>\n",
       "      <td>False</td>\n",
       "    </tr>\n",
       "    <tr>\n",
       "      <th>4</th>\n",
       "      <td>e4fab4b6f41eac02d22b421818c8f080</td>\n",
       "      <td>https://www.walmart.com/ip/6-Boxes-Twinings-of...</td>\n",
       "      <td>(6 Boxes) Twinings of London Nightly Calm Gree...</td>\n",
       "      <td>Enojy one of your favorite tea flavors with th...</td>\n",
       "      <td>17.99</td>\n",
       "      <td>17.99</td>\n",
       "      <td>Twinings</td>\n",
       "      <td>55450414</td>\n",
       "      <td>[Food, Beverages, Tea, All Tea]</td>\n",
       "      <td>False</td>\n",
       "      <td>False</td>\n",
       "    </tr>\n",
       "  </tbody>\n",
       "</table>\n",
       "</div>"
      ],
      "text/plain": [
       "                            uniq_id  \\\n",
       "0  019b67ef7f01103d8fb0a53e4c36daa7   \n",
       "1  3a4ff306dcc8a6e2bf720964d29b84c3   \n",
       "2  80090549d7d176327b186353c7b28ca4   \n",
       "3  7b2ef8d41f65df121f6b4b9828cf8dad   \n",
       "4  e4fab4b6f41eac02d22b421818c8f080   \n",
       "\n",
       "                                         product_url  \\\n",
       "0  https://www.walmart.com/ip/La-Costena-Chipotle...   \n",
       "1  https://www.walmart.com/ip/Equate-Triamcinolon...   \n",
       "2  https://www.walmart.com/ip/AduroSmart-ERIA-Sof...   \n",
       "3  https://www.walmart.com/ip/Elephant-Shape-Sili...   \n",
       "4  https://www.walmart.com/ip/6-Boxes-Twinings-of...   \n",
       "\n",
       "                                        product_name  \\\n",
       "0     La Costena Chipotle Peppers, 7 OZ (Pack of 12)   \n",
       "1  Equate Triamcinolone Acetonide Nasal Allergy S...   \n",
       "2  AduroSmart ERIA Soft White Smart A19 Light Bul...   \n",
       "3  Elephant Shape Silicone Drinkware Portable Sil...   \n",
       "4  (6 Boxes) Twinings of London Nightly Calm Gree...   \n",
       "\n",
       "                                         description  list_price  sale_price  \\\n",
       "0  La Costena Chipotle Peppers, 7 OZ (Pack of 12)...       31.93       31.93   \n",
       "1  Compare to Nasacort Allergy 24HR active ingred...       10.48       10.48   \n",
       "2  The Soft White ERIA A19 bulb (2700K) can be co...       10.99       10.99   \n",
       "3  This is a kind of fine quality silicone cup li...        5.81        5.81   \n",
       "4  Enojy one of your favorite tea flavors with th...       17.99       17.99   \n",
       "\n",
       "             brand       gtin  \\\n",
       "0  La Costeï¿½ï¿½a  139941530   \n",
       "1           Equate  632775553   \n",
       "2  AduroSmart ERIA  281487005   \n",
       "3           Anself  104042139   \n",
       "4         Twinings   55450414   \n",
       "\n",
       "                                            category  available  discount  \n",
       "0  [Food, Meal Solutions, Grains & Pasta, Canned ...       True     False  \n",
       "1  [Health, Equate, Equate Allergy, Equate Sinus ...       True     False  \n",
       "2  [Electronics, Smart Home, Smart Energy and Lig...       True     False  \n",
       "3  [Baby, Feeding, Sippy Cups: Alternatives to Pl...       True     False  \n",
       "4                    [Food, Beverages, Tea, All Tea]      False     False  "
      ]
     },
     "execution_count": 51,
     "metadata": {},
     "output_type": "execute_result"
    }
   ],
   "source": [
    "df.head()"
   ]
  },
  {
   "cell_type": "markdown",
   "metadata": {},
   "source": [
    "### Encoding problems"
   ]
  },
  {
   "cell_type": "markdown",
   "metadata": {},
   "source": [
    "After manual inspection, we manually resolve some of the encoding issues:"
   ]
  },
  {
   "cell_type": "code",
   "execution_count": 70,
   "metadata": {},
   "outputs": [],
   "source": [
    "df['brand'] = df['brand'].str.replace('ï¿½ï¿½', 'ñ')\n",
    "df['product_name'] = df['product_name'].str.replace('ï¿½', 'e')\n",
    "df['description'] = df['description'].str.replace('ï¿½', '')\n",
    "df['description'] = df['description'].str.replace('ï_Œ', '-')"
   ]
  },
  {
   "cell_type": "markdown",
   "metadata": {},
   "source": [
    "## Export CSV"
   ]
  },
  {
   "cell_type": "code",
   "execution_count": 71,
   "metadata": {},
   "outputs": [],
   "source": [
    "df.to_csv(\"../data/products.csv\", index=False)"
   ]
  }
 ],
 "metadata": {
  "kernelspec": {
   "display_name": ".venv",
   "language": "python",
   "name": "python3"
  },
  "language_info": {
   "codemirror_mode": {
    "name": "ipython",
    "version": 3
   },
   "file_extension": ".py",
   "mimetype": "text/x-python",
   "name": "python",
   "nbconvert_exporter": "python",
   "pygments_lexer": "ipython3",
   "version": "3.9.5"
  }
 },
 "nbformat": 4,
 "nbformat_minor": 2
}
