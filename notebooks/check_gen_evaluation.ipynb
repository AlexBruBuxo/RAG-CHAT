{
 "cells": [
  {
   "cell_type": "markdown",
   "metadata": {},
   "source": [
    "# Test LlamaIndex evaluation modules"
   ]
  },
  {
   "cell_type": "code",
   "execution_count": 1,
   "metadata": {},
   "outputs": [],
   "source": [
    "import nest_asyncio\n",
    "nest_asyncio.apply()"
   ]
  },
  {
   "cell_type": "code",
   "execution_count": 40,
   "metadata": {},
   "outputs": [],
   "source": [
    "from rag_chat.evaluation.dataset import generate_dataset\n",
    "from rag_chat.query.query import load_query_engine, load_async_query_engine\n",
    "\n",
    "from llama_index.embeddings import SimilarityMode\n",
    "from llama_index.evaluation import (\n",
    "    DatasetGenerator,\n",
    "    RelevancyEvaluator,\n",
    "    CorrectnessEvaluator,\n",
    "    FaithfulnessEvaluator,\n",
    "    BatchEvalRunner,\n",
    "    SemanticSimilarityEvaluator,\n",
    "    RetrieverEvaluator\n",
    ")\n",
    "import asyncio\n",
    "from llama_index import Response\n",
    "import pandas as pd"
   ]
  },
  {
   "cell_type": "code",
   "execution_count": 55,
   "metadata": {},
   "outputs": [
    {
     "name": "stdout",
     "output_type": "stream",
     "text": [
      "INFO:httpx:HTTP Request: GET http://localhost:6333/collections/vector_store \"HTTP/1.1 200 OK\"\n",
      "HTTP Request: GET http://localhost:6333/collections/vector_store \"HTTP/1.1 200 OK\"\n"
     ]
    }
   ],
   "source": [
    "query_engine = load_query_engine()"
   ]
  },
  {
   "cell_type": "code",
   "execution_count": 3,
   "metadata": {},
   "outputs": [
    {
     "name": "stdout",
     "output_type": "stream",
     "text": [
      "Reading data...\n",
      "Build generator\n"
     ]
    },
    {
     "name": "stderr",
     "output_type": "stream",
     "text": [
      "/Users/alex/Documents/VIU/TFM/RAG-Chat/.venv/lib/python3.9/site-packages/tqdm/auto.py:21: TqdmWarning: IProgress not found. Please update jupyter and ipywidgets. See https://ipywidgets.readthedocs.io/en/stable/user_install.html\n",
      "  from .autonotebook import tqdm as notebook_tqdm\n",
      "Parsing nodes: 100%|██████████| 3/3 [00:00<00:00, 1047.18it/s]\n"
     ]
    },
    {
     "name": "stdout",
     "output_type": "stream",
     "text": [
      "Build data...\n"
     ]
    },
    {
     "name": "stderr",
     "output_type": "stream",
     "text": [
      "100%|██████████| 3/3 [00:02<00:00,  1.03it/s]\n",
      "100%|██████████| 2/2 [00:04<00:00,  2.27s/it]\n",
      "100%|██████████| 2/2 [00:08<00:00,  4.05s/it]\n",
      "100%|██████████| 2/2 [00:10<00:00,  5.47s/it]\n"
     ]
    }
   ],
   "source": [
    "queries, answers = generate_dataset()"
   ]
  },
  {
   "cell_type": "code",
   "execution_count": 6,
   "metadata": {},
   "outputs": [],
   "source": [
    "response_vector = query_engine.query(queries[2])"
   ]
  },
  {
   "cell_type": "code",
   "execution_count": 61,
   "metadata": {},
   "outputs": [
    {
     "data": {
      "text/plain": [
       "Response(response='The FUEL Pureformance Heavy Bag Stand contributes to improving boxing and MMA performance by providing a convenient and sturdy platform for hanging heavy bags. It holds the heavy bag in the optimum position for hand and foot work, allowing athletes to practice their punches, kicks, and other techniques effectively. The stand is made from heavy-duty steel tubing with a scratch-resistant powder-coated finish, ensuring durability and withstanding intense workouts. It also has weight pegs with foam stops for increased stability and two bottom tube hooks for optional bag stabilization. Overall, the FUEL Pureformance Heavy Bag Stand offers a reliable and accessible training tool for boxers and MMA fighters to enhance their skills and optimize their performance.', source_nodes=[NodeWithScore(node=TextNode(id_='15b2656d-74dd-43f5-9ee6-3a2ec8e158dd', embedding=None, metadata={'list_price': 129.99, 'category': 'Health > Sports Medicine & Injury Recovery Solution > Optimize Performance > Train For A Specific Event > Boxing', 'section_summary': 'The FUEL Pureformance Heavy Bag Stand is made from heavy-duty steel tubing with a scratch-resistant powder-coated finish. It holds heavy bags in the optimum position for hand and foot work. The stand has weight pegs with foam stops for increased stability and two bottom tube hooks for optional bag stabilization. It can support a maximum heavy bag weight of 100 lbs. The stand is durable and designed to withstand intense workouts.', 'excerpt_keywords': 'FUEL Pureformance, Heavy Bag Stand, boxing, MMA, cardio, strength workout, stress relief, blood pumping, muscle groups, core strength, balance, heavy-duty steel tubing, scratch-resistant powder-coated finish, weight pegs, foam stops, bag stabilization, maximum heavy bag weight, dimensions'}, excluded_embed_metadata_keys=[], excluded_llm_metadata_keys=[], relationships={<NodeRelationship.SOURCE: '1'>: RelatedNodeInfo(node_id='0a1ce493925305b08cf011ad4210ff48', node_type=<ObjectType.DOCUMENT: '4'>, metadata={'list_price': 129.99, 'category': 'Health > Sports Medicine & Injury Recovery Solution > Optimize Performance > Train For A Specific Event > Boxing'}, hash='495eb16567386ce4d877ff9bdfb73a0a1426f10f3e526109915a1832632e5b2a'), <NodeRelationship.PREVIOUS: '2'>: RelatedNodeInfo(node_id='b3b9250a-e75b-4496-b856-97d70808817c', node_type=<ObjectType.TEXT: '1'>, metadata={'list_price': 11.52, 'category': 'Home > Kids Rooms > Kids Storage'}, hash='20cca151dc9b70ca224042062e1f547ac0fb713237303b855a125c5f473d3505'), <NodeRelationship.NEXT: '3'>: RelatedNodeInfo(node_id='3d5c554a-fecf-42d0-8f48-a4388da64a79', node_type=<ObjectType.TEXT: '1'>, metadata={}, hash='1a850542e8fa23044e798774c10517040ab955da02d2db378c5b96053f2e4093')}, text='product_url: https://www.walmart.com/ip/FUEL-Pureformance-Heavy-Bag-Stand-Black/55505439 \\n\\nproduct_name: FUEL Pureformance Heavy Bag Stand, Black \\n\\nbrand: Fuel Pureformance \\n\\ndescription: The FUEL Pureformance Heavy Bag Stand is the perfect stand for hanging your punching bag and upping your boxing and MMA game. Standing just over seven feet tall, the FUEL Pureformance stand holds your heavy bag in the optimum position for both hand and foot work. With the convenience of hanging a heavy bag at home or the office, you can get a quick cardio and strength workout, relieve some stress or just get some blood pumping easily without having to go anywhere. A good boxing workout uses most of your muscle groups from your legs to your arms, strengthening your core and improving your balance. So, whether you take time to get a session in or take a few short blasts at the bag here and there throughout the day, you will feel the benefits in no time. The FUEL Pureformance Heavy Bag Stand is made from heavy-duty steel tubing with a scratch-resistant powder-coated finish, making it tough enough to take a beating. FUEL Pureformance Heavy Bag Stand, Black: Made from heavy-duty steel tubing Scratch-resistant powder-coated finish Weight pegs with foam stops for increased stability (weights not included) 2 bottom tube hooks for optional bag stabilization (strap not included) Maximum heavy bag weight: 100 lbs (bag not included) Dimensions: 55.51\"W x 47.64\"D x 87.4\"H |Made from heavy-duty steel tubing|Scratch-resistant powder-coated finish|Weight pegs with foam stops for increased stability (weights not included)|2 bottom tube hooks for optional bag stabilization (strap not included)|Maximum heavy bag weight: 100 lbs (bag not included)|Dimensions: 55.51\"W x 47.64\"D x 87.4\"H \\n\\navailable: True \\n\\nsale_price: 79.99 \\n\\ndiscount: True', start_char_idx=0, end_char_idx=1835, text_template='[Excerpt from document]\\n{metadata_str}\\nExcerpt:\\n-----\\n{content}\\n-----\\n', metadata_template='{key}: {value}', metadata_seperator=' \\n\\n'), score=0.9076729), NodeWithScore(node=TextNode(id_='146db99b-79fe-4e9f-8b75-69fe21a72c1b', embedding=None, metadata={'list_price': 289.0, 'category': 'Sports & Outdoors > Outdoor Sports > Shooting > Gun Storage > Gun Safes', 'section_summary': 'The GunVault SpeedVault Handgun Safe is designed to securely store handguns. It is made from steel and aluminum for strength and security. The discreet design is suitable for both home and workplace use, as well as outdoor use. The safe is available in various options and is equipped with biometric technology for quick and efficient access.', 'excerpt_keywords': 'GunVault, SpeedVault, Handgun Safe, Biometric, secure, steel, aluminum, discreet design, home, workplace, outdoor use'}, excluded_embed_metadata_keys=[], excluded_llm_metadata_keys=[], relationships={<NodeRelationship.SOURCE: '1'>: RelatedNodeInfo(node_id='aa89a0dc5723512d9090a77cef9a5e82', node_type=<ObjectType.DOCUMENT: '4'>, metadata={'list_price': 289.0, 'category': 'Sports & Outdoors > Outdoor Sports > Shooting > Gun Storage > Gun Safes'}, hash='391c91963357a32975e6836d3443451348a904b057adc55bf6695152f34b54f9'), <NodeRelationship.PREVIOUS: '2'>: RelatedNodeInfo(node_id='85d09571-2e2d-4e10-b7fd-636d10227840', node_type=<ObjectType.TEXT: '1'>, metadata={'list_price': 16.54, 'category': 'Food > Chocolate, Candy & Gum > Mints > Shop All Mints'}, hash='0191d5207cb0ed488908452bde4cfab81caf8c0849b495da137152d66cdd160f'), <NodeRelationship.NEXT: '3'>: RelatedNodeInfo(node_id='eedf69ef-8565-4288-b694-db86280b0418', node_type=<ObjectType.TEXT: '1'>, metadata={}, hash='65db5da31d87ce0087c7a3ea810cf7abd9d43390480d9ac6fb3f55a6ce84fb00')}, text='product_url: https://www.walmart.com/ip/GunVault-SpeedVault-Handgun-Safe-Biometric/804016764 \\n\\nproduct_name: GunVault SpeedVault Handgun Safe, Biometric \\n\\nbrand: GunVault \\n\\ndescription: Keep handguns secure with the GunVault SpeedVault Handgun Safe. This safe is just what gun owners need to quickly and efficiently secure their weapons. The GunVault SpeedVault gun Safe is made from steel and aluminum for strength and security. The discreet design is just right for both a home and a workplace, and it is well-suited for outdoor use. Great for Outdoors Material: Steel, Aluminum and Foam Available in Various Options |Great for Outdoors|Material: Steel, Aluminum and Foam|Available in Various Options \\n\\navailable: True \\n\\nsale_price: 289.0 \\n\\ndiscount: False', start_char_idx=0, end_char_idx=758, text_template='[Excerpt from document]\\n{metadata_str}\\nExcerpt:\\n-----\\n{content}\\n-----\\n', metadata_template='{key}: {value}', metadata_seperator=' \\n\\n'), score=0.73953104), NodeWithScore(node=TextNode(id_='2ddb9912-a027-4c18-8bb6-268e058edf83', embedding=None, metadata={'list_price': 6.99, 'category': 'Sports & Outdoors > Sports > Basketball > Basketball Accessories', 'section_summary': 'The key features of the product include compression arm sleeves with anti-skid and reflective properties. They provide UV sun protection and are suitable for various outdoor activities such as cycling, hiking, golf, baseball, and basketball. The sleeves are made of high-quality fabric that offers comfort, breathability, elasticity, moisture absorption, and sweat release. They also provide sturdiness and stability to the arms with a snug fit and are designed to reduce arm or elbow pain symptoms and swelling. The material used is anti-odor and itch-free, ensuring dryness and comfort even with prolonged use.', 'excerpt_keywords': 'Compression arm sleeves, anti-skid, reflective, long shooter sleeve, basketball, cycling, sports protection, EZGO, UV sun protection, anti-slip, outdoor, cycling, hiking, golf, baseball, basketball armband, tattoo cover, elbow sleeve, plaid, compression arm sleeve, size, length, arm circumference, elasticity, high-class fabric, polyamide fiber, spandex, comfort, breathability, moisture absorption, sweat releasing, bleach, arm pain, swelling, sturdiness, stability, dry, comfortable, anti odor, itch material.'}, excluded_embed_metadata_keys=[], excluded_llm_metadata_keys=[], relationships={<NodeRelationship.SOURCE: '1'>: RelatedNodeInfo(node_id='2e903a517d5a6575456d5a26e97ef50f', node_type=<ObjectType.DOCUMENT: '4'>, metadata={'list_price': 6.99, 'category': 'Sports & Outdoors > Sports > Basketball > Basketball Accessories'}, hash='b8b8b6b2b64a2c43d59a24949290bdbb4867aaa552dae316aa36b0984386109a'), <NodeRelationship.PREVIOUS: '2'>: RelatedNodeInfo(node_id='0440e103-f725-4bb9-964f-5a0773b71a8d', node_type=<ObjectType.TEXT: '1'>, metadata={'list_price': 12.99, 'category': 'Baby > Feeding > Pacifiers & Teethers'}, hash='77b5bed8599c8227b962feec33583a9ab65f58411fe42c51d970c2f79c6e0e9f'), <NodeRelationship.NEXT: '3'>: RelatedNodeInfo(node_id='89cd07b9-e4bb-417f-bef3-a9a7362b95eb', node_type=<ObjectType.TEXT: '1'>, metadata={}, hash='148b3d845d196e12ee846e92271fe10ea59186f84da8d6606267c4876818ed7a')}, text='product_url: https://www.walmart.com/ip/Compression-Arm-Sleeves-Anti-skid-Reflective-Long-Shooter-Sleeve-for-Basketball-Cycling-Sports-Protection/298983284 \\n\\nproduct_name: Compression Arm Sleeves Anti-skid Reflective Long Shooter Sleeve for Basketball/Cycling Sports Protection \\n\\nbrand: EZGO \\n\\ndescription: 1pair Sport Arm Sleeves UV Sun Protection Anti-slip Outdoor s for Cycling Hiking Golf Baseball \\xa0Basketball Armband\\xa0Tattoo Cover Elbow Sleeve Plaid\\xa0Compression Arm Sleeve Size:Length M 38.5cm L 40cmXL 41cm Max arm circumference：M24cm L 26cm XL 28cm Min arm circumference：M 14cm L 16cm XL18cm Good elasticity\\xa0Compression arm sleeve HIGH-CLASS FABRIC: The premium soft fabrics(88% Polyamide fiber and 12% Spandex)outstanding COMFORT, excellent Breathability, highly ELASTICITY, superb MOISTURE ABSORPTION and SWEAT RELEASING of our arm sleeves, so surely you can stay on top of your game on and off the court. * NO BLEACH, reduce arm or elbow pain symptoms and swelling. offer sturdiness and stability to your arms with a snug fit. keep you dry and comfortable even with longer use, by using anti odor and itch material. \\n\\navailable: True \\n\\nsale_price: 6.99 \\n\\ndiscount: False', start_char_idx=0, end_char_idx=1179, text_template='[Excerpt from document]\\n{metadata_str}\\nExcerpt:\\n-----\\n{content}\\n-----\\n', metadata_template='{key}: {value}', metadata_seperator=' \\n\\n'), score=0.7365321), NodeWithScore(node=TextNode(id_='3d5c554a-fecf-42d0-8f48-a4388da64a79', embedding=None, metadata={'list_price': 6.99, 'category': 'Sports & Outdoors > Sports > Basketball > Basketball Accessories', 'section_summary': 'The key features of the product include compression arm sleeves with anti-skid and reflective properties. They provide UV sun protection and are suitable for outdoor activities such as cycling, hiking, golf, baseball, and basketball. The sleeves are made of high-quality fabric that offers comfort, breathability, elasticity, moisture absorption, and sweat release. They have a snug fit, reduce arm or elbow pain symptoms and swelling, and are odor and itch resistant.', 'excerpt_keywords': 'Compression arm sleeves, anti-skid, reflective, long shooter sleeve, basketball, cycling, sports protection, UV sun protection, anti-slip, outdoor, cycling, hiking, golf, baseball, basketball armband, tattoo cover, elbow sleeve, plaid, compression arm sleeve, size, length, arm circumference, elasticity, high-class fabric, polyamide fiber, spandex, comfort, breathability, moisture absorption, sweat releasing, sturdiness, stability, arm pain, swelling, dry, comfortable, anti-odor, itch material.'}, excluded_embed_metadata_keys=[], excluded_llm_metadata_keys=[], relationships={<NodeRelationship.SOURCE: '1'>: RelatedNodeInfo(node_id='9fdb3109750784a7d138352fe224e45c', node_type=<ObjectType.DOCUMENT: '4'>, metadata={'list_price': 6.99, 'category': 'Sports & Outdoors > Sports > Basketball > Basketball Accessories'}, hash='7fb96c6aea665ef5eeca923a2cbc6e67a87b6e7ea6693d30a1eb4d0241bfd28d'), <NodeRelationship.PREVIOUS: '2'>: RelatedNodeInfo(node_id='15b2656d-74dd-43f5-9ee6-3a2ec8e158dd', node_type=<ObjectType.TEXT: '1'>, metadata={'list_price': 129.99, 'category': 'Health > Sports Medicine & Injury Recovery Solution > Optimize Performance > Train For A Specific Event > Boxing'}, hash='22356175f6414e2e2ce4aa595781b7a9f595e14006f5ee44c64afeed19212fce'), <NodeRelationship.NEXT: '3'>: RelatedNodeInfo(node_id='0ea2142d-2984-4a18-848e-ea11f7a85e3d', node_type=<ObjectType.TEXT: '1'>, metadata={}, hash='30c0fa9dfcce49e24a420de944ef3cbc600cab988f9f428cdb276b88965cac61')}, text='product_url: https://www.walmart.com/ip/Compression-Arm-Sleeves-Anti-skid-Reflective-Long-Shooter-Sleeve-for-Basketball-Cycling-Sports-Protection/472054113 \\n\\nproduct_name: Compression Arm Sleeves Anti-skid Reflective Long Shooter Sleeve for Basketball/Cycling Sports Protection \\n\\nbrand: EZGO \\n\\ndescription: 1pair Sport Arm Sleeves UV Sun Protection Anti-slip Outdoor s for Cycling Hiking Golf Baseball \\xa0Basketball Armband\\xa0Tattoo Cover Elbow Sleeve Plaid\\xa0Compression Arm Sleeve Size:Length M 38.5cm L 40cmXL 41cm Max arm circumference：M24cm L 26cm XL 28cm Min arm circumference：M 14cm L 16cm XL18cm Good elasticity\\xa0Compression arm sleeve HIGH-CLASS FABRIC: The premium soft fabrics(88% Polyamide fiber and 12% Spandex)outstanding COMFORT, excellent Breathability, highly ELASTICITY, superb MOISTURE ABSORPTION and SWEAT RELEASING of our arm sleeves, so surely you can stay on top of your game on and off the court. * NO BLEACH, offer sturdiness and stability to your arms with a snug fit. reduce arm or elbow pain symptoms and swelling. keep you dry and comfortable even with longer use, by using anti odor and itch material. \\n\\navailable: True \\n\\nsale_price: 6.99 \\n\\ndiscount: False', start_char_idx=0, end_char_idx=1179, text_template='[Excerpt from document]\\n{metadata_str}\\nExcerpt:\\n-----\\n{content}\\n-----\\n', metadata_template='{key}: {value}', metadata_seperator=' \\n\\n'), score=0.7390165), NodeWithScore(node=TextNode(id_='d7ec2f2b-1311-4ff4-9554-c58f16521ff8', embedding=None, metadata={'list_price': 1203.47, 'category': 'Sports & Outdoors > Sports > Baseball Gear & Equipment > Baseball Field Equipment & Maintenance', 'section_summary': 'The key features of the product include:\\n- Cimarron brand\\n- Cimarron 50x12x10 #24 Batting Cage & Complete Frame HD (1 Box)\\n- Designed for baseball training and development\\n- Allows athletes to fine-tune their skills and make real-time adjustments\\n- Provides a controlled environment for players to see their strengths and weaknesses\\n- Enables players to practice ball placement and hitting with power\\n- Suitable for practicing moving base runners, bunting, drag bunting, and slap hitting\\n- Allows fielders to practice fielding bunts, drag bunts, slap hits, and line drives\\n- #24 twisted poly netting with full rope borders\\n- Net hangers for easy setup\\n- Excellent abrasion resistance\\n- Door for easy entry and exit from the batting cage\\n- Does not absorb water and will not shrink', 'excerpt_keywords': 'baseball, batting cage, training, development, Diamond Deluxe, power hitting, ball placement, small ball, fielding, personal development'}, excluded_embed_metadata_keys=[], excluded_llm_metadata_keys=[], relationships={<NodeRelationship.SOURCE: '1'>: RelatedNodeInfo(node_id='f8ef5ac08d5c4304fc27e7b637ac2de4', node_type=<ObjectType.DOCUMENT: '4'>, metadata={'list_price': 1203.47, 'category': 'Sports & Outdoors > Sports > Baseball Gear & Equipment > Baseball Field Equipment & Maintenance'}, hash='e0af172b37bde86540817e904e5bd265143ed979e35ac0af481806b216b1272e'), <NodeRelationship.PREVIOUS: '2'>: RelatedNodeInfo(node_id='eedf69ef-8565-4288-b694-db86280b0418', node_type=<ObjectType.TEXT: '1'>, metadata={'list_price': 2.58, 'category': 'Food > Fresh Food > Bakery & Bread > Bread Crumbs & Stuffing'}, hash='65db5da31d87ce0087c7a3ea810cf7abd9d43390480d9ac6fb3f55a6ce84fb00'), <NodeRelationship.NEXT: '3'>: RelatedNodeInfo(node_id='a4106037-fb47-4617-ae8f-256499e9d39a', node_type=<ObjectType.TEXT: '1'>, metadata={}, hash='7933bdd68b6f58f57687579d63b09f6e817c0178a697fc42f49e964bb76552be')}, text='product_url: https://www.walmart.com/ip/Cimarron-50x12x10-24-Batting-Cage-Complete-Frame-HD-1-Box/117470287 \\n\\nproduct_name: Cimarron 50x12x10 #24 Batting Cage & Complete Frame HD (1 Box) \\n\\nbrand: Cimarron \\n\\ndescription: Todays baseball requires real time adjustments and strategy. Dedicated baseball coaches and players need to stay ahead of the competition with development training. Traditional batting cages are limited in the ways they allow athletes to fine point, focus and refine their skills. Hitting with power can now be combined with ball placement thanks to our new Diamond Deluxe batting cage.The Diamond Deluxe allows players to see more completely where their strengths and weaknesses are in a controlled invironment. Specifically, players can see, feel and react based on actual ball flight. If a player is struggling with opposite field success or pulling baseballs this tool enables a full view of contact to finish, similar to an actual diamond. Recent baseball trends have shifted towards small ball and the Diamond Deluxe is designed for practicing moving base runners as well. Now a player can practice bunting, drag bunting and slap hitting without running into a net. Additionally, with Diamond Deluxe, fielders can practice fielding bunts, drag bunts, slap hits and line drives.Take advantage of the Diamond Deluxes innovative design today! The Diamond Deluxe is perfect for players wanting to take the next step in their personal development or teams not wanting to be left behind. #24 twisted poly netting Full rope borders Net hangers Has excellent abrasion resistance Door for easy entry and exit from the batting cage Does not absorb water and will not shrink |#24 twisted poly netting|Full rope borders|Net hangers|Has excellent abrasion resistance|Door for easy entry and exit from the batting cage|Does not absorb water and will not shrink \\n\\navailable: True \\n\\nsale_price: 1203.47 \\n\\ndiscount: False', start_char_idx=0, end_char_idx=1930, text_template='[Excerpt from document]\\n{metadata_str}\\nExcerpt:\\n-----\\n{content}\\n-----\\n', metadata_template='{key}: {value}', metadata_seperator=' \\n\\n'), score=0.74369764)], metadata={'15b2656d-74dd-43f5-9ee6-3a2ec8e158dd': {'list_price': 129.99, 'category': 'Health > Sports Medicine & Injury Recovery Solution > Optimize Performance > Train For A Specific Event > Boxing', 'section_summary': 'The FUEL Pureformance Heavy Bag Stand is made from heavy-duty steel tubing with a scratch-resistant powder-coated finish. It holds heavy bags in the optimum position for hand and foot work. The stand has weight pegs with foam stops for increased stability and two bottom tube hooks for optional bag stabilization. It can support a maximum heavy bag weight of 100 lbs. The stand is durable and designed to withstand intense workouts.', 'excerpt_keywords': 'FUEL Pureformance, Heavy Bag Stand, boxing, MMA, cardio, strength workout, stress relief, blood pumping, muscle groups, core strength, balance, heavy-duty steel tubing, scratch-resistant powder-coated finish, weight pegs, foam stops, bag stabilization, maximum heavy bag weight, dimensions'}, '146db99b-79fe-4e9f-8b75-69fe21a72c1b': {'list_price': 289.0, 'category': 'Sports & Outdoors > Outdoor Sports > Shooting > Gun Storage > Gun Safes', 'section_summary': 'The GunVault SpeedVault Handgun Safe is designed to securely store handguns. It is made from steel and aluminum for strength and security. The discreet design is suitable for both home and workplace use, as well as outdoor use. The safe is available in various options and is equipped with biometric technology for quick and efficient access.', 'excerpt_keywords': 'GunVault, SpeedVault, Handgun Safe, Biometric, secure, steel, aluminum, discreet design, home, workplace, outdoor use'}, '2ddb9912-a027-4c18-8bb6-268e058edf83': {'list_price': 6.99, 'category': 'Sports & Outdoors > Sports > Basketball > Basketball Accessories', 'section_summary': 'The key features of the product include compression arm sleeves with anti-skid and reflective properties. They provide UV sun protection and are suitable for various outdoor activities such as cycling, hiking, golf, baseball, and basketball. The sleeves are made of high-quality fabric that offers comfort, breathability, elasticity, moisture absorption, and sweat release. They also provide sturdiness and stability to the arms with a snug fit and are designed to reduce arm or elbow pain symptoms and swelling. The material used is anti-odor and itch-free, ensuring dryness and comfort even with prolonged use.', 'excerpt_keywords': 'Compression arm sleeves, anti-skid, reflective, long shooter sleeve, basketball, cycling, sports protection, EZGO, UV sun protection, anti-slip, outdoor, cycling, hiking, golf, baseball, basketball armband, tattoo cover, elbow sleeve, plaid, compression arm sleeve, size, length, arm circumference, elasticity, high-class fabric, polyamide fiber, spandex, comfort, breathability, moisture absorption, sweat releasing, bleach, arm pain, swelling, sturdiness, stability, dry, comfortable, anti odor, itch material.'}, '3d5c554a-fecf-42d0-8f48-a4388da64a79': {'list_price': 6.99, 'category': 'Sports & Outdoors > Sports > Basketball > Basketball Accessories', 'section_summary': 'The key features of the product include compression arm sleeves with anti-skid and reflective properties. They provide UV sun protection and are suitable for outdoor activities such as cycling, hiking, golf, baseball, and basketball. The sleeves are made of high-quality fabric that offers comfort, breathability, elasticity, moisture absorption, and sweat release. They have a snug fit, reduce arm or elbow pain symptoms and swelling, and are odor and itch resistant.', 'excerpt_keywords': 'Compression arm sleeves, anti-skid, reflective, long shooter sleeve, basketball, cycling, sports protection, UV sun protection, anti-slip, outdoor, cycling, hiking, golf, baseball, basketball armband, tattoo cover, elbow sleeve, plaid, compression arm sleeve, size, length, arm circumference, elasticity, high-class fabric, polyamide fiber, spandex, comfort, breathability, moisture absorption, sweat releasing, sturdiness, stability, arm pain, swelling, dry, comfortable, anti-odor, itch material.'}, 'd7ec2f2b-1311-4ff4-9554-c58f16521ff8': {'list_price': 1203.47, 'category': 'Sports & Outdoors > Sports > Baseball Gear & Equipment > Baseball Field Equipment & Maintenance', 'section_summary': 'The key features of the product include:\\n- Cimarron brand\\n- Cimarron 50x12x10 #24 Batting Cage & Complete Frame HD (1 Box)\\n- Designed for baseball training and development\\n- Allows athletes to fine-tune their skills and make real-time adjustments\\n- Provides a controlled environment for players to see their strengths and weaknesses\\n- Enables players to practice ball placement and hitting with power\\n- Suitable for practicing moving base runners, bunting, drag bunting, and slap hitting\\n- Allows fielders to practice fielding bunts, drag bunts, slap hits, and line drives\\n- #24 twisted poly netting with full rope borders\\n- Net hangers for easy setup\\n- Excellent abrasion resistance\\n- Door for easy entry and exit from the batting cage\\n- Does not absorb water and will not shrink', 'excerpt_keywords': 'baseball, batting cage, training, development, Diamond Deluxe, power hitting, ball placement, small ball, fielding, personal development'}})"
      ]
     },
     "execution_count": 61,
     "metadata": {},
     "output_type": "execute_result"
    }
   ],
   "source": [
    "response_vector"
   ]
  },
  {
   "cell_type": "markdown",
   "metadata": {},
   "source": [
    "## RelevancyEvaluator"
   ]
  },
  {
   "cell_type": "code",
   "execution_count": 29,
   "metadata": {},
   "outputs": [],
   "source": [
    "evaluator = RelevancyEvaluator()"
   ]
  },
  {
   "cell_type": "code",
   "execution_count": 37,
   "metadata": {},
   "outputs": [],
   "source": [
    "eval_result = evaluator.evaluate_response(\n",
    "    query=queries[2], response=response_vector\n",
    ")"
   ]
  },
  {
   "cell_type": "code",
   "execution_count": 31,
   "metadata": {},
   "outputs": [],
   "source": [
    "def display_eval_df(query: str, response: Response, eval_result: str) -> None:\n",
    "    eval_df = pd.DataFrame(\n",
    "        {\n",
    "            \"Query\": query,\n",
    "            \"Response\": str(response),\n",
    "            \"Source\": (\n",
    "                response.source_nodes[0].node.get_content()[:800] + \"...\"\n",
    "            ),\n",
    "            \"Evaluation Passing\": eval_result.passing,\n",
    "            \"Evaluation Score\": eval_result.score,\n",
    "        },\n",
    "        index=[0],\n",
    "    )\n",
    "    eval_df = eval_df.style.set_properties(\n",
    "        **{\n",
    "            \"inline-size\": \"600px\",\n",
    "            \"overflow-wrap\": \"break-word\",\n",
    "        },\n",
    "        subset=[\"Response\", \"Source\"]\n",
    "    )\n",
    "    display(eval_df)\n"
   ]
  },
  {
   "cell_type": "code",
   "execution_count": 38,
   "metadata": {},
   "outputs": [
    {
     "data": {
      "text/html": [
       "<style type=\"text/css\">\n",
       "#T_fb06b_row0_col1, #T_fb06b_row0_col2 {\n",
       "  inline-size: 600px;\n",
       "  overflow-wrap: break-word;\n",
       "}\n",
       "</style>\n",
       "<table id=\"T_fb06b\">\n",
       "  <thead>\n",
       "    <tr>\n",
       "      <th class=\"blank level0\" >&nbsp;</th>\n",
       "      <th id=\"T_fb06b_level0_col0\" class=\"col_heading level0 col0\" >Query</th>\n",
       "      <th id=\"T_fb06b_level0_col1\" class=\"col_heading level0 col1\" >Response</th>\n",
       "      <th id=\"T_fb06b_level0_col2\" class=\"col_heading level0 col2\" >Source</th>\n",
       "      <th id=\"T_fb06b_level0_col3\" class=\"col_heading level0 col3\" >Evaluation Passing</th>\n",
       "      <th id=\"T_fb06b_level0_col4\" class=\"col_heading level0 col4\" >Evaluation Score</th>\n",
       "    </tr>\n",
       "  </thead>\n",
       "  <tbody>\n",
       "    <tr>\n",
       "      <th id=\"T_fb06b_level0_row0\" class=\"row_heading level0 row0\" >0</th>\n",
       "      <td id=\"T_fb06b_row0_col0\" class=\"data row0 col0\" >How does the FUEL Pureformance Heavy Bag Stand contribute to improving boxing and MMA performance?</td>\n",
       "      <td id=\"T_fb06b_row0_col1\" class=\"data row0 col1\" >The FUEL Pureformance Heavy Bag Stand contributes to improving boxing and MMA performance by providing a convenient and sturdy stand for hanging a heavy bag. This allows individuals to practice hand and foot work, which is essential for both boxing and MMA. The stand is made from heavy-duty steel tubing with a scratch-resistant powder-coated finish, making it durable and able to withstand intense workouts. It also has weight pegs with foam stops for increased stability and two bottom tube hooks for optional bag stabilization. Overall, the FUEL Pureformance Heavy Bag Stand provides a reliable and optimal position for training, helping individuals improve their cardio, strength, and overall performance in boxing and MMA.</td>\n",
       "      <td id=\"T_fb06b_row0_col2\" class=\"data row0 col2\" >product_url: https://www.walmart.com/ip/FUEL-Pureformance-Heavy-Bag-Stand-Black/55505439 \n",
       "\n",
       "product_name: FUEL Pureformance Heavy Bag Stand, Black \n",
       "\n",
       "brand: Fuel Pureformance \n",
       "\n",
       "description: The FUEL Pureformance Heavy Bag Stand is the perfect stand for hanging your punching bag and upping your boxing and MMA game. Standing just over seven feet tall, the FUEL Pureformance stand holds your heavy bag in the optimum position for both hand and foot work. With the convenience of hanging a heavy bag at home or the office, you can get a quick cardio and strength workout, relieve some stress or just get some blood pumping easily without having to go anywhere. A good boxing workout uses most of your muscle groups from your legs to your arms, strengthening your core and improving your balance. So, whet...</td>\n",
       "      <td id=\"T_fb06b_row0_col3\" class=\"data row0 col3\" >True</td>\n",
       "      <td id=\"T_fb06b_row0_col4\" class=\"data row0 col4\" >1.000000</td>\n",
       "    </tr>\n",
       "  </tbody>\n",
       "</table>\n"
      ],
      "text/plain": [
       "<pandas.io.formats.style.Styler at 0x29c864940>"
      ]
     },
     "metadata": {},
     "output_type": "display_data"
    }
   ],
   "source": [
    "display_eval_df(queries[2], response_vector, eval_result)"
   ]
  },
  {
   "cell_type": "markdown",
   "metadata": {},
   "source": [
    "## FaithfulnessEvaluator"
   ]
  },
  {
   "cell_type": "markdown",
   "metadata": {},
   "source": [
    "Evaluates whether a response is faithful to the contexts\n",
    "(i.e. whether the response is supported by the contexts or hallucinated.)\n",
    "\n",
    "This evaluator only considers the response string and the list of context strings.\n",
    "\n",
    "https://github.com/run-llama/llama_index/blob/60b75cb014bccf60a153d5dc5295a91c7cdcd9f6/llama_index/evaluation/faithfulness.py"
   ]
  },
  {
   "cell_type": "code",
   "execution_count": 91,
   "metadata": {},
   "outputs": [],
   "source": [
    "evaluator = FaithfulnessEvaluator()"
   ]
  },
  {
   "cell_type": "code",
   "execution_count": 92,
   "metadata": {},
   "outputs": [
    {
     "name": "stdout",
     "output_type": "stream",
     "text": [
      "INFO:httpx:HTTP Request: POST https://api.openai.com/v1/chat/completions \"HTTP/1.1 200 OK\"\n",
      "HTTP Request: POST https://api.openai.com/v1/chat/completions \"HTTP/1.1 200 OK\"\n"
     ]
    }
   ],
   "source": [
    "eval_result = evaluator.evaluate_response(response=response_vector)"
   ]
  },
  {
   "cell_type": "code",
   "execution_count": 94,
   "metadata": {},
   "outputs": [
    {
     "data": {
      "text/plain": [
       "Response(response='The FUEL Pureformance Heavy Bag Stand contributes to improving boxing and MMA performance by providing a convenient and sturdy platform for hanging heavy bags. It holds the heavy bag in the optimum position for hand and foot work, allowing athletes to practice their punches, kicks, and other techniques effectively. The stand is made from heavy-duty steel tubing with a scratch-resistant powder-coated finish, ensuring durability and withstanding intense workouts. It also has weight pegs with foam stops for increased stability and two bottom tube hooks for optional bag stabilization. Overall, the FUEL Pureformance Heavy Bag Stand offers a reliable and accessible training tool for boxers and MMA fighters to enhance their skills and optimize their performance.', source_nodes=[NodeWithScore(node=TextNode(id_='15b2656d-74dd-43f5-9ee6-3a2ec8e158dd', embedding=None, metadata={'list_price': 129.99, 'category': 'Health > Sports Medicine & Injury Recovery Solution > Optimize Performance > Train For A Specific Event > Boxing', 'section_summary': 'The FUEL Pureformance Heavy Bag Stand is made from heavy-duty steel tubing with a scratch-resistant powder-coated finish. It holds heavy bags in the optimum position for hand and foot work. The stand has weight pegs with foam stops for increased stability and two bottom tube hooks for optional bag stabilization. It can support a maximum heavy bag weight of 100 lbs. The stand is durable and designed to withstand intense workouts.', 'excerpt_keywords': 'FUEL Pureformance, Heavy Bag Stand, boxing, MMA, cardio, strength workout, stress relief, blood pumping, muscle groups, core strength, balance, heavy-duty steel tubing, scratch-resistant powder-coated finish, weight pegs, foam stops, bag stabilization, maximum heavy bag weight, dimensions'}, excluded_embed_metadata_keys=[], excluded_llm_metadata_keys=[], relationships={<NodeRelationship.SOURCE: '1'>: RelatedNodeInfo(node_id='0a1ce493925305b08cf011ad4210ff48', node_type=<ObjectType.DOCUMENT: '4'>, metadata={'list_price': 129.99, 'category': 'Health > Sports Medicine & Injury Recovery Solution > Optimize Performance > Train For A Specific Event > Boxing'}, hash='495eb16567386ce4d877ff9bdfb73a0a1426f10f3e526109915a1832632e5b2a'), <NodeRelationship.PREVIOUS: '2'>: RelatedNodeInfo(node_id='b3b9250a-e75b-4496-b856-97d70808817c', node_type=<ObjectType.TEXT: '1'>, metadata={'list_price': 11.52, 'category': 'Home > Kids Rooms > Kids Storage'}, hash='20cca151dc9b70ca224042062e1f547ac0fb713237303b855a125c5f473d3505'), <NodeRelationship.NEXT: '3'>: RelatedNodeInfo(node_id='3d5c554a-fecf-42d0-8f48-a4388da64a79', node_type=<ObjectType.TEXT: '1'>, metadata={}, hash='1a850542e8fa23044e798774c10517040ab955da02d2db378c5b96053f2e4093')}, text='product_url: https://www.walmart.com/ip/FUEL-Pureformance-Heavy-Bag-Stand-Black/55505439 \\n\\nproduct_name: FUEL Pureformance Heavy Bag Stand, Black \\n\\nbrand: Fuel Pureformance \\n\\ndescription: The FUEL Pureformance Heavy Bag Stand is the perfect stand for hanging your punching bag and upping your boxing and MMA game. Standing just over seven feet tall, the FUEL Pureformance stand holds your heavy bag in the optimum position for both hand and foot work. With the convenience of hanging a heavy bag at home or the office, you can get a quick cardio and strength workout, relieve some stress or just get some blood pumping easily without having to go anywhere. A good boxing workout uses most of your muscle groups from your legs to your arms, strengthening your core and improving your balance. So, whether you take time to get a session in or take a few short blasts at the bag here and there throughout the day, you will feel the benefits in no time. The FUEL Pureformance Heavy Bag Stand is made from heavy-duty steel tubing with a scratch-resistant powder-coated finish, making it tough enough to take a beating. FUEL Pureformance Heavy Bag Stand, Black: Made from heavy-duty steel tubing Scratch-resistant powder-coated finish Weight pegs with foam stops for increased stability (weights not included) 2 bottom tube hooks for optional bag stabilization (strap not included) Maximum heavy bag weight: 100 lbs (bag not included) Dimensions: 55.51\"W x 47.64\"D x 87.4\"H |Made from heavy-duty steel tubing|Scratch-resistant powder-coated finish|Weight pegs with foam stops for increased stability (weights not included)|2 bottom tube hooks for optional bag stabilization (strap not included)|Maximum heavy bag weight: 100 lbs (bag not included)|Dimensions: 55.51\"W x 47.64\"D x 87.4\"H \\n\\navailable: True \\n\\nsale_price: 79.99 \\n\\ndiscount: True', start_char_idx=0, end_char_idx=1835, text_template='[Excerpt from document]\\n{metadata_str}\\nExcerpt:\\n-----\\n{content}\\n-----\\n', metadata_template='{key}: {value}', metadata_seperator=' \\n\\n'), score=0.9076729), NodeWithScore(node=TextNode(id_='146db99b-79fe-4e9f-8b75-69fe21a72c1b', embedding=None, metadata={'list_price': 289.0, 'category': 'Sports & Outdoors > Outdoor Sports > Shooting > Gun Storage > Gun Safes', 'section_summary': 'The GunVault SpeedVault Handgun Safe is designed to securely store handguns. It is made from steel and aluminum for strength and security. The discreet design is suitable for both home and workplace use, as well as outdoor use. The safe is available in various options and is equipped with biometric technology for quick and efficient access.', 'excerpt_keywords': 'GunVault, SpeedVault, Handgun Safe, Biometric, secure, steel, aluminum, discreet design, home, workplace, outdoor use'}, excluded_embed_metadata_keys=[], excluded_llm_metadata_keys=[], relationships={<NodeRelationship.SOURCE: '1'>: RelatedNodeInfo(node_id='aa89a0dc5723512d9090a77cef9a5e82', node_type=<ObjectType.DOCUMENT: '4'>, metadata={'list_price': 289.0, 'category': 'Sports & Outdoors > Outdoor Sports > Shooting > Gun Storage > Gun Safes'}, hash='391c91963357a32975e6836d3443451348a904b057adc55bf6695152f34b54f9'), <NodeRelationship.PREVIOUS: '2'>: RelatedNodeInfo(node_id='85d09571-2e2d-4e10-b7fd-636d10227840', node_type=<ObjectType.TEXT: '1'>, metadata={'list_price': 16.54, 'category': 'Food > Chocolate, Candy & Gum > Mints > Shop All Mints'}, hash='0191d5207cb0ed488908452bde4cfab81caf8c0849b495da137152d66cdd160f'), <NodeRelationship.NEXT: '3'>: RelatedNodeInfo(node_id='eedf69ef-8565-4288-b694-db86280b0418', node_type=<ObjectType.TEXT: '1'>, metadata={}, hash='65db5da31d87ce0087c7a3ea810cf7abd9d43390480d9ac6fb3f55a6ce84fb00')}, text='product_url: https://www.walmart.com/ip/GunVault-SpeedVault-Handgun-Safe-Biometric/804016764 \\n\\nproduct_name: GunVault SpeedVault Handgun Safe, Biometric \\n\\nbrand: GunVault \\n\\ndescription: Keep handguns secure with the GunVault SpeedVault Handgun Safe. This safe is just what gun owners need to quickly and efficiently secure their weapons. The GunVault SpeedVault gun Safe is made from steel and aluminum for strength and security. The discreet design is just right for both a home and a workplace, and it is well-suited for outdoor use. Great for Outdoors Material: Steel, Aluminum and Foam Available in Various Options |Great for Outdoors|Material: Steel, Aluminum and Foam|Available in Various Options \\n\\navailable: True \\n\\nsale_price: 289.0 \\n\\ndiscount: False', start_char_idx=0, end_char_idx=758, text_template='[Excerpt from document]\\n{metadata_str}\\nExcerpt:\\n-----\\n{content}\\n-----\\n', metadata_template='{key}: {value}', metadata_seperator=' \\n\\n'), score=0.73953104), NodeWithScore(node=TextNode(id_='2ddb9912-a027-4c18-8bb6-268e058edf83', embedding=None, metadata={'list_price': 6.99, 'category': 'Sports & Outdoors > Sports > Basketball > Basketball Accessories', 'section_summary': 'The key features of the product include compression arm sleeves with anti-skid and reflective properties. They provide UV sun protection and are suitable for various outdoor activities such as cycling, hiking, golf, baseball, and basketball. The sleeves are made of high-quality fabric that offers comfort, breathability, elasticity, moisture absorption, and sweat release. They also provide sturdiness and stability to the arms with a snug fit and are designed to reduce arm or elbow pain symptoms and swelling. The material used is anti-odor and itch-free, ensuring dryness and comfort even with prolonged use.', 'excerpt_keywords': 'Compression arm sleeves, anti-skid, reflective, long shooter sleeve, basketball, cycling, sports protection, EZGO, UV sun protection, anti-slip, outdoor, cycling, hiking, golf, baseball, basketball armband, tattoo cover, elbow sleeve, plaid, compression arm sleeve, size, length, arm circumference, elasticity, high-class fabric, polyamide fiber, spandex, comfort, breathability, moisture absorption, sweat releasing, bleach, arm pain, swelling, sturdiness, stability, dry, comfortable, anti odor, itch material.'}, excluded_embed_metadata_keys=[], excluded_llm_metadata_keys=[], relationships={<NodeRelationship.SOURCE: '1'>: RelatedNodeInfo(node_id='2e903a517d5a6575456d5a26e97ef50f', node_type=<ObjectType.DOCUMENT: '4'>, metadata={'list_price': 6.99, 'category': 'Sports & Outdoors > Sports > Basketball > Basketball Accessories'}, hash='b8b8b6b2b64a2c43d59a24949290bdbb4867aaa552dae316aa36b0984386109a'), <NodeRelationship.PREVIOUS: '2'>: RelatedNodeInfo(node_id='0440e103-f725-4bb9-964f-5a0773b71a8d', node_type=<ObjectType.TEXT: '1'>, metadata={'list_price': 12.99, 'category': 'Baby > Feeding > Pacifiers & Teethers'}, hash='77b5bed8599c8227b962feec33583a9ab65f58411fe42c51d970c2f79c6e0e9f'), <NodeRelationship.NEXT: '3'>: RelatedNodeInfo(node_id='89cd07b9-e4bb-417f-bef3-a9a7362b95eb', node_type=<ObjectType.TEXT: '1'>, metadata={}, hash='148b3d845d196e12ee846e92271fe10ea59186f84da8d6606267c4876818ed7a')}, text='product_url: https://www.walmart.com/ip/Compression-Arm-Sleeves-Anti-skid-Reflective-Long-Shooter-Sleeve-for-Basketball-Cycling-Sports-Protection/298983284 \\n\\nproduct_name: Compression Arm Sleeves Anti-skid Reflective Long Shooter Sleeve for Basketball/Cycling Sports Protection \\n\\nbrand: EZGO \\n\\ndescription: 1pair Sport Arm Sleeves UV Sun Protection Anti-slip Outdoor s for Cycling Hiking Golf Baseball \\xa0Basketball Armband\\xa0Tattoo Cover Elbow Sleeve Plaid\\xa0Compression Arm Sleeve Size:Length M 38.5cm L 40cmXL 41cm Max arm circumference：M24cm L 26cm XL 28cm Min arm circumference：M 14cm L 16cm XL18cm Good elasticity\\xa0Compression arm sleeve HIGH-CLASS FABRIC: The premium soft fabrics(88% Polyamide fiber and 12% Spandex)outstanding COMFORT, excellent Breathability, highly ELASTICITY, superb MOISTURE ABSORPTION and SWEAT RELEASING of our arm sleeves, so surely you can stay on top of your game on and off the court. * NO BLEACH, reduce arm or elbow pain symptoms and swelling. offer sturdiness and stability to your arms with a snug fit. keep you dry and comfortable even with longer use, by using anti odor and itch material. \\n\\navailable: True \\n\\nsale_price: 6.99 \\n\\ndiscount: False', start_char_idx=0, end_char_idx=1179, text_template='[Excerpt from document]\\n{metadata_str}\\nExcerpt:\\n-----\\n{content}\\n-----\\n', metadata_template='{key}: {value}', metadata_seperator=' \\n\\n'), score=0.7365321), NodeWithScore(node=TextNode(id_='3d5c554a-fecf-42d0-8f48-a4388da64a79', embedding=None, metadata={'list_price': 6.99, 'category': 'Sports & Outdoors > Sports > Basketball > Basketball Accessories', 'section_summary': 'The key features of the product include compression arm sleeves with anti-skid and reflective properties. They provide UV sun protection and are suitable for outdoor activities such as cycling, hiking, golf, baseball, and basketball. The sleeves are made of high-quality fabric that offers comfort, breathability, elasticity, moisture absorption, and sweat release. They have a snug fit, reduce arm or elbow pain symptoms and swelling, and are odor and itch resistant.', 'excerpt_keywords': 'Compression arm sleeves, anti-skid, reflective, long shooter sleeve, basketball, cycling, sports protection, UV sun protection, anti-slip, outdoor, cycling, hiking, golf, baseball, basketball armband, tattoo cover, elbow sleeve, plaid, compression arm sleeve, size, length, arm circumference, elasticity, high-class fabric, polyamide fiber, spandex, comfort, breathability, moisture absorption, sweat releasing, sturdiness, stability, arm pain, swelling, dry, comfortable, anti-odor, itch material.'}, excluded_embed_metadata_keys=[], excluded_llm_metadata_keys=[], relationships={<NodeRelationship.SOURCE: '1'>: RelatedNodeInfo(node_id='9fdb3109750784a7d138352fe224e45c', node_type=<ObjectType.DOCUMENT: '4'>, metadata={'list_price': 6.99, 'category': 'Sports & Outdoors > Sports > Basketball > Basketball Accessories'}, hash='7fb96c6aea665ef5eeca923a2cbc6e67a87b6e7ea6693d30a1eb4d0241bfd28d'), <NodeRelationship.PREVIOUS: '2'>: RelatedNodeInfo(node_id='15b2656d-74dd-43f5-9ee6-3a2ec8e158dd', node_type=<ObjectType.TEXT: '1'>, metadata={'list_price': 129.99, 'category': 'Health > Sports Medicine & Injury Recovery Solution > Optimize Performance > Train For A Specific Event > Boxing'}, hash='22356175f6414e2e2ce4aa595781b7a9f595e14006f5ee44c64afeed19212fce'), <NodeRelationship.NEXT: '3'>: RelatedNodeInfo(node_id='0ea2142d-2984-4a18-848e-ea11f7a85e3d', node_type=<ObjectType.TEXT: '1'>, metadata={}, hash='30c0fa9dfcce49e24a420de944ef3cbc600cab988f9f428cdb276b88965cac61')}, text='product_url: https://www.walmart.com/ip/Compression-Arm-Sleeves-Anti-skid-Reflective-Long-Shooter-Sleeve-for-Basketball-Cycling-Sports-Protection/472054113 \\n\\nproduct_name: Compression Arm Sleeves Anti-skid Reflective Long Shooter Sleeve for Basketball/Cycling Sports Protection \\n\\nbrand: EZGO \\n\\ndescription: 1pair Sport Arm Sleeves UV Sun Protection Anti-slip Outdoor s for Cycling Hiking Golf Baseball \\xa0Basketball Armband\\xa0Tattoo Cover Elbow Sleeve Plaid\\xa0Compression Arm Sleeve Size:Length M 38.5cm L 40cmXL 41cm Max arm circumference：M24cm L 26cm XL 28cm Min arm circumference：M 14cm L 16cm XL18cm Good elasticity\\xa0Compression arm sleeve HIGH-CLASS FABRIC: The premium soft fabrics(88% Polyamide fiber and 12% Spandex)outstanding COMFORT, excellent Breathability, highly ELASTICITY, superb MOISTURE ABSORPTION and SWEAT RELEASING of our arm sleeves, so surely you can stay on top of your game on and off the court. * NO BLEACH, offer sturdiness and stability to your arms with a snug fit. reduce arm or elbow pain symptoms and swelling. keep you dry and comfortable even with longer use, by using anti odor and itch material. \\n\\navailable: True \\n\\nsale_price: 6.99 \\n\\ndiscount: False', start_char_idx=0, end_char_idx=1179, text_template='[Excerpt from document]\\n{metadata_str}\\nExcerpt:\\n-----\\n{content}\\n-----\\n', metadata_template='{key}: {value}', metadata_seperator=' \\n\\n'), score=0.7390165), NodeWithScore(node=TextNode(id_='d7ec2f2b-1311-4ff4-9554-c58f16521ff8', embedding=None, metadata={'list_price': 1203.47, 'category': 'Sports & Outdoors > Sports > Baseball Gear & Equipment > Baseball Field Equipment & Maintenance', 'section_summary': 'The key features of the product include:\\n- Cimarron brand\\n- Cimarron 50x12x10 #24 Batting Cage & Complete Frame HD (1 Box)\\n- Designed for baseball training and development\\n- Allows athletes to fine-tune their skills and make real-time adjustments\\n- Provides a controlled environment for players to see their strengths and weaknesses\\n- Enables players to practice ball placement and hitting with power\\n- Suitable for practicing moving base runners, bunting, drag bunting, and slap hitting\\n- Allows fielders to practice fielding bunts, drag bunts, slap hits, and line drives\\n- #24 twisted poly netting with full rope borders\\n- Net hangers for easy setup\\n- Excellent abrasion resistance\\n- Door for easy entry and exit from the batting cage\\n- Does not absorb water and will not shrink', 'excerpt_keywords': 'baseball, batting cage, training, development, Diamond Deluxe, power hitting, ball placement, small ball, fielding, personal development'}, excluded_embed_metadata_keys=[], excluded_llm_metadata_keys=[], relationships={<NodeRelationship.SOURCE: '1'>: RelatedNodeInfo(node_id='f8ef5ac08d5c4304fc27e7b637ac2de4', node_type=<ObjectType.DOCUMENT: '4'>, metadata={'list_price': 1203.47, 'category': 'Sports & Outdoors > Sports > Baseball Gear & Equipment > Baseball Field Equipment & Maintenance'}, hash='e0af172b37bde86540817e904e5bd265143ed979e35ac0af481806b216b1272e'), <NodeRelationship.PREVIOUS: '2'>: RelatedNodeInfo(node_id='eedf69ef-8565-4288-b694-db86280b0418', node_type=<ObjectType.TEXT: '1'>, metadata={'list_price': 2.58, 'category': 'Food > Fresh Food > Bakery & Bread > Bread Crumbs & Stuffing'}, hash='65db5da31d87ce0087c7a3ea810cf7abd9d43390480d9ac6fb3f55a6ce84fb00'), <NodeRelationship.NEXT: '3'>: RelatedNodeInfo(node_id='a4106037-fb47-4617-ae8f-256499e9d39a', node_type=<ObjectType.TEXT: '1'>, metadata={}, hash='7933bdd68b6f58f57687579d63b09f6e817c0178a697fc42f49e964bb76552be')}, text='product_url: https://www.walmart.com/ip/Cimarron-50x12x10-24-Batting-Cage-Complete-Frame-HD-1-Box/117470287 \\n\\nproduct_name: Cimarron 50x12x10 #24 Batting Cage & Complete Frame HD (1 Box) \\n\\nbrand: Cimarron \\n\\ndescription: Todays baseball requires real time adjustments and strategy. Dedicated baseball coaches and players need to stay ahead of the competition with development training. Traditional batting cages are limited in the ways they allow athletes to fine point, focus and refine their skills. Hitting with power can now be combined with ball placement thanks to our new Diamond Deluxe batting cage.The Diamond Deluxe allows players to see more completely where their strengths and weaknesses are in a controlled invironment. Specifically, players can see, feel and react based on actual ball flight. If a player is struggling with opposite field success or pulling baseballs this tool enables a full view of contact to finish, similar to an actual diamond. Recent baseball trends have shifted towards small ball and the Diamond Deluxe is designed for practicing moving base runners as well. Now a player can practice bunting, drag bunting and slap hitting without running into a net. Additionally, with Diamond Deluxe, fielders can practice fielding bunts, drag bunts, slap hits and line drives.Take advantage of the Diamond Deluxes innovative design today! The Diamond Deluxe is perfect for players wanting to take the next step in their personal development or teams not wanting to be left behind. #24 twisted poly netting Full rope borders Net hangers Has excellent abrasion resistance Door for easy entry and exit from the batting cage Does not absorb water and will not shrink |#24 twisted poly netting|Full rope borders|Net hangers|Has excellent abrasion resistance|Door for easy entry and exit from the batting cage|Does not absorb water and will not shrink \\n\\navailable: True \\n\\nsale_price: 1203.47 \\n\\ndiscount: False', start_char_idx=0, end_char_idx=1930, text_template='[Excerpt from document]\\n{metadata_str}\\nExcerpt:\\n-----\\n{content}\\n-----\\n', metadata_template='{key}: {value}', metadata_seperator=' \\n\\n'), score=0.74369764)], metadata={'15b2656d-74dd-43f5-9ee6-3a2ec8e158dd': {'list_price': 129.99, 'category': 'Health > Sports Medicine & Injury Recovery Solution > Optimize Performance > Train For A Specific Event > Boxing', 'section_summary': 'The FUEL Pureformance Heavy Bag Stand is made from heavy-duty steel tubing with a scratch-resistant powder-coated finish. It holds heavy bags in the optimum position for hand and foot work. The stand has weight pegs with foam stops for increased stability and two bottom tube hooks for optional bag stabilization. It can support a maximum heavy bag weight of 100 lbs. The stand is durable and designed to withstand intense workouts.', 'excerpt_keywords': 'FUEL Pureformance, Heavy Bag Stand, boxing, MMA, cardio, strength workout, stress relief, blood pumping, muscle groups, core strength, balance, heavy-duty steel tubing, scratch-resistant powder-coated finish, weight pegs, foam stops, bag stabilization, maximum heavy bag weight, dimensions'}, '146db99b-79fe-4e9f-8b75-69fe21a72c1b': {'list_price': 289.0, 'category': 'Sports & Outdoors > Outdoor Sports > Shooting > Gun Storage > Gun Safes', 'section_summary': 'The GunVault SpeedVault Handgun Safe is designed to securely store handguns. It is made from steel and aluminum for strength and security. The discreet design is suitable for both home and workplace use, as well as outdoor use. The safe is available in various options and is equipped with biometric technology for quick and efficient access.', 'excerpt_keywords': 'GunVault, SpeedVault, Handgun Safe, Biometric, secure, steel, aluminum, discreet design, home, workplace, outdoor use'}, '2ddb9912-a027-4c18-8bb6-268e058edf83': {'list_price': 6.99, 'category': 'Sports & Outdoors > Sports > Basketball > Basketball Accessories', 'section_summary': 'The key features of the product include compression arm sleeves with anti-skid and reflective properties. They provide UV sun protection and are suitable for various outdoor activities such as cycling, hiking, golf, baseball, and basketball. The sleeves are made of high-quality fabric that offers comfort, breathability, elasticity, moisture absorption, and sweat release. They also provide sturdiness and stability to the arms with a snug fit and are designed to reduce arm or elbow pain symptoms and swelling. The material used is anti-odor and itch-free, ensuring dryness and comfort even with prolonged use.', 'excerpt_keywords': 'Compression arm sleeves, anti-skid, reflective, long shooter sleeve, basketball, cycling, sports protection, EZGO, UV sun protection, anti-slip, outdoor, cycling, hiking, golf, baseball, basketball armband, tattoo cover, elbow sleeve, plaid, compression arm sleeve, size, length, arm circumference, elasticity, high-class fabric, polyamide fiber, spandex, comfort, breathability, moisture absorption, sweat releasing, bleach, arm pain, swelling, sturdiness, stability, dry, comfortable, anti odor, itch material.'}, '3d5c554a-fecf-42d0-8f48-a4388da64a79': {'list_price': 6.99, 'category': 'Sports & Outdoors > Sports > Basketball > Basketball Accessories', 'section_summary': 'The key features of the product include compression arm sleeves with anti-skid and reflective properties. They provide UV sun protection and are suitable for outdoor activities such as cycling, hiking, golf, baseball, and basketball. The sleeves are made of high-quality fabric that offers comfort, breathability, elasticity, moisture absorption, and sweat release. They have a snug fit, reduce arm or elbow pain symptoms and swelling, and are odor and itch resistant.', 'excerpt_keywords': 'Compression arm sleeves, anti-skid, reflective, long shooter sleeve, basketball, cycling, sports protection, UV sun protection, anti-slip, outdoor, cycling, hiking, golf, baseball, basketball armband, tattoo cover, elbow sleeve, plaid, compression arm sleeve, size, length, arm circumference, elasticity, high-class fabric, polyamide fiber, spandex, comfort, breathability, moisture absorption, sweat releasing, sturdiness, stability, arm pain, swelling, dry, comfortable, anti-odor, itch material.'}, 'd7ec2f2b-1311-4ff4-9554-c58f16521ff8': {'list_price': 1203.47, 'category': 'Sports & Outdoors > Sports > Baseball Gear & Equipment > Baseball Field Equipment & Maintenance', 'section_summary': 'The key features of the product include:\\n- Cimarron brand\\n- Cimarron 50x12x10 #24 Batting Cage & Complete Frame HD (1 Box)\\n- Designed for baseball training and development\\n- Allows athletes to fine-tune their skills and make real-time adjustments\\n- Provides a controlled environment for players to see their strengths and weaknesses\\n- Enables players to practice ball placement and hitting with power\\n- Suitable for practicing moving base runners, bunting, drag bunting, and slap hitting\\n- Allows fielders to practice fielding bunts, drag bunts, slap hits, and line drives\\n- #24 twisted poly netting with full rope borders\\n- Net hangers for easy setup\\n- Excellent abrasion resistance\\n- Door for easy entry and exit from the batting cage\\n- Does not absorb water and will not shrink', 'excerpt_keywords': 'baseball, batting cage, training, development, Diamond Deluxe, power hitting, ball placement, small ball, fielding, personal development'}})"
      ]
     },
     "execution_count": 94,
     "metadata": {},
     "output_type": "execute_result"
    }
   ],
   "source": [
    "response_vector"
   ]
  },
  {
   "cell_type": "code",
   "execution_count": 93,
   "metadata": {},
   "outputs": [
    {
     "data": {
      "text/plain": [
       "'NO'"
      ]
     },
     "execution_count": 93,
     "metadata": {},
     "output_type": "execute_result"
    }
   ],
   "source": [
    "eval_result.feedback"
   ]
  },
  {
   "cell_type": "code",
   "execution_count": 9,
   "metadata": {},
   "outputs": [],
   "source": [
    "def display_eval_df(response: Response, eval_result: str) -> None:\n",
    "    if response.source_nodes == []:\n",
    "        print(\"no response!\")\n",
    "        return\n",
    "    eval_df = pd.DataFrame(\n",
    "        {\n",
    "            \"Response\": str(response),\n",
    "            \"Source\": response.source_nodes[0].node.text[:1000] + \"...\",\n",
    "            \"Evaluation Result\": \"Pass\" if eval_result.passing else \"Fail\",\n",
    "        },\n",
    "        index=[0],\n",
    "    )\n",
    "    eval_df = eval_df.style.set_properties(\n",
    "        **{\n",
    "            \"inline-size\": \"600px\",\n",
    "            \"overflow-wrap\": \"break-word\",\n",
    "        },\n",
    "        subset=[\"Response\", \"Source\"]\n",
    "    )\n",
    "    display(eval_df)"
   ]
  },
  {
   "cell_type": "code",
   "execution_count": 13,
   "metadata": {},
   "outputs": [
    {
     "data": {
      "text/plain": [
       "\"What are the features of the Toytainer Shoe Box Play-N-Store that make it suitable for kids' storage?\""
      ]
     },
     "execution_count": 13,
     "metadata": {},
     "output_type": "execute_result"
    }
   ],
   "source": [
    "queries[1]"
   ]
  },
  {
   "cell_type": "code",
   "execution_count": 10,
   "metadata": {},
   "outputs": [
    {
     "data": {
      "text/html": [
       "<style type=\"text/css\">\n",
       "#T_d875f_row0_col0, #T_d875f_row0_col1 {\n",
       "  inline-size: 600px;\n",
       "  overflow-wrap: break-word;\n",
       "}\n",
       "</style>\n",
       "<table id=\"T_d875f\">\n",
       "  <thead>\n",
       "    <tr>\n",
       "      <th class=\"blank level0\" >&nbsp;</th>\n",
       "      <th id=\"T_d875f_level0_col0\" class=\"col_heading level0 col0\" >Response</th>\n",
       "      <th id=\"T_d875f_level0_col1\" class=\"col_heading level0 col1\" >Source</th>\n",
       "      <th id=\"T_d875f_level0_col2\" class=\"col_heading level0 col2\" >Evaluation Result</th>\n",
       "    </tr>\n",
       "  </thead>\n",
       "  <tbody>\n",
       "    <tr>\n",
       "      <th id=\"T_d875f_level0_row0\" class=\"row_heading level0 row0\" >0</th>\n",
       "      <td id=\"T_d875f_row0_col0\" class=\"data row0 col0\" >The Toytainer Shoe Box Play-N-Store is designed to teach children to put away their toys while having fun playing. It features a fold-out play mat, a top carry handle, and a fun city-theme. Additionally, it is collapsible or can be stacked for modularity, making it suitable for kids' storage.</td>\n",
       "      <td id=\"T_d875f_row0_col1\" class=\"data row0 col1\" >product_url: https://www.walmart.com/ip/Toytainer-Shoe-Box-Play-N-Store-Boy/40718635 \n",
       "\n",
       "product_name: Toytainer Shoe Box Play-N-Store, Boy \n",
       "\n",
       "brand: Toytainer \n",
       "\n",
       "description: Toytainer Shoe Box Play-N-Store, Boy: Teach your children to put away their toys while having fun playing Shoe box features fold-out play mat Top carry handle Fun city-theme Collapsible or stacks for modularity Play and put away! Teach your children to put away their toys while having fun playing! Shoebox features fold-out play mat, top-carry handle and a fun city-theme. It is collapsible or stacks for modularity.|Teach your children to put away their toys while having fun playing|Shoe box features fold-out play mat|Top carry handle|Fun city-theme|Collapsible or stacks for modularity \n",
       "\n",
       "available: True \n",
       "\n",
       "sale_price: 11.52 \n",
       "\n",
       "discount: False...</td>\n",
       "      <td id=\"T_d875f_row0_col2\" class=\"data row0 col2\" >Fail</td>\n",
       "    </tr>\n",
       "  </tbody>\n",
       "</table>\n"
      ],
      "text/plain": [
       "<pandas.io.formats.style.Styler at 0x28a97d2e0>"
      ]
     },
     "metadata": {},
     "output_type": "display_data"
    }
   ],
   "source": [
    "display_eval_df(response_vector, eval_result)"
   ]
  },
  {
   "cell_type": "code",
   "execution_count": 16,
   "metadata": {},
   "outputs": [],
   "source": [
    "import logging \n",
    "import sys \n",
    "\n",
    "logging.basicConfig(stream=sys.stdout, level=logging.INFO)\n",
    "logging.getLogger().addHandler(logging.StreamHandler(stream=sys.stdout))"
   ]
  },
  {
   "cell_type": "code",
   "execution_count": 17,
   "metadata": {},
   "outputs": [],
   "source": [
    "def evaluate_query_engine(query_engine, queries):\n",
    "    results = [query_engine.query(q) for q in queries]\n",
    "    print(\"finished queries\")\n",
    "\n",
    "    total_correct = 0\n",
    "    for r in results:\n",
    "        # evaluate with gpt 4\n",
    "        eval_result = (\n",
    "            1 if evaluator.evaluate_response(response=r).passing else 0\n",
    "        )\n",
    "        total_correct += eval_result\n",
    "\n",
    "    return total_correct, len(results)"
   ]
  },
  {
   "cell_type": "code",
   "execution_count": 18,
   "metadata": {},
   "outputs": [
    {
     "name": "stdout",
     "output_type": "stream",
     "text": [
      "INFO:httpx:HTTP Request: POST https://api.openai.com/v1/embeddings \"HTTP/1.1 200 OK\"\n",
      "HTTP Request: POST https://api.openai.com/v1/embeddings \"HTTP/1.1 200 OK\"\n",
      "INFO:httpx:HTTP Request: POST http://localhost:6333/collections/vector_store/points/search \"HTTP/1.1 200 OK\"\n",
      "HTTP Request: POST http://localhost:6333/collections/vector_store/points/search \"HTTP/1.1 200 OK\"\n",
      "INFO:httpx:HTTP Request: POST https://api.openai.com/v1/chat/completions \"HTTP/1.1 200 OK\"\n",
      "HTTP Request: POST https://api.openai.com/v1/chat/completions \"HTTP/1.1 200 OK\"\n",
      "INFO:httpx:HTTP Request: POST https://api.openai.com/v1/embeddings \"HTTP/1.1 200 OK\"\n",
      "HTTP Request: POST https://api.openai.com/v1/embeddings \"HTTP/1.1 200 OK\"\n",
      "INFO:httpx:HTTP Request: POST http://localhost:6333/collections/vector_store/points/search \"HTTP/1.1 200 OK\"\n",
      "HTTP Request: POST http://localhost:6333/collections/vector_store/points/search \"HTTP/1.1 200 OK\"\n",
      "INFO:httpx:HTTP Request: POST https://api.openai.com/v1/chat/completions \"HTTP/1.1 200 OK\"\n",
      "HTTP Request: POST https://api.openai.com/v1/chat/completions \"HTTP/1.1 200 OK\"\n",
      "INFO:httpx:HTTP Request: POST https://api.openai.com/v1/embeddings \"HTTP/1.1 200 OK\"\n",
      "HTTP Request: POST https://api.openai.com/v1/embeddings \"HTTP/1.1 200 OK\"\n",
      "INFO:httpx:HTTP Request: POST http://localhost:6333/collections/vector_store/points/search \"HTTP/1.1 200 OK\"\n",
      "HTTP Request: POST http://localhost:6333/collections/vector_store/points/search \"HTTP/1.1 200 OK\"\n",
      "INFO:httpx:HTTP Request: POST https://api.openai.com/v1/chat/completions \"HTTP/1.1 200 OK\"\n",
      "HTTP Request: POST https://api.openai.com/v1/chat/completions \"HTTP/1.1 200 OK\"\n",
      "INFO:httpx:HTTP Request: POST https://api.openai.com/v1/embeddings \"HTTP/1.1 200 OK\"\n",
      "HTTP Request: POST https://api.openai.com/v1/embeddings \"HTTP/1.1 200 OK\"\n",
      "INFO:httpx:HTTP Request: POST http://localhost:6333/collections/vector_store/points/search \"HTTP/1.1 200 OK\"\n",
      "HTTP Request: POST http://localhost:6333/collections/vector_store/points/search \"HTTP/1.1 200 OK\"\n",
      "INFO:httpx:HTTP Request: POST https://api.openai.com/v1/chat/completions \"HTTP/1.1 200 OK\"\n",
      "HTTP Request: POST https://api.openai.com/v1/chat/completions \"HTTP/1.1 200 OK\"\n",
      "INFO:httpx:HTTP Request: POST https://api.openai.com/v1/embeddings \"HTTP/1.1 200 OK\"\n",
      "HTTP Request: POST https://api.openai.com/v1/embeddings \"HTTP/1.1 200 OK\"\n",
      "INFO:httpx:HTTP Request: POST http://localhost:6333/collections/vector_store/points/search \"HTTP/1.1 200 OK\"\n",
      "HTTP Request: POST http://localhost:6333/collections/vector_store/points/search \"HTTP/1.1 200 OK\"\n",
      "INFO:httpx:HTTP Request: POST https://api.openai.com/v1/chat/completions \"HTTP/1.1 200 OK\"\n",
      "HTTP Request: POST https://api.openai.com/v1/chat/completions \"HTTP/1.1 200 OK\"\n",
      "INFO:httpx:HTTP Request: POST https://api.openai.com/v1/embeddings \"HTTP/1.1 200 OK\"\n",
      "HTTP Request: POST https://api.openai.com/v1/embeddings \"HTTP/1.1 200 OK\"\n",
      "INFO:httpx:HTTP Request: POST http://localhost:6333/collections/vector_store/points/search \"HTTP/1.1 200 OK\"\n",
      "HTTP Request: POST http://localhost:6333/collections/vector_store/points/search \"HTTP/1.1 200 OK\"\n",
      "INFO:httpx:HTTP Request: POST https://api.openai.com/v1/chat/completions \"HTTP/1.1 200 OK\"\n",
      "HTTP Request: POST https://api.openai.com/v1/chat/completions \"HTTP/1.1 200 OK\"\n",
      "finished queries\n",
      "INFO:httpx:HTTP Request: POST https://api.openai.com/v1/chat/completions \"HTTP/1.1 200 OK\"\n",
      "HTTP Request: POST https://api.openai.com/v1/chat/completions \"HTTP/1.1 200 OK\"\n",
      "INFO:httpx:HTTP Request: POST https://api.openai.com/v1/chat/completions \"HTTP/1.1 200 OK\"\n",
      "HTTP Request: POST https://api.openai.com/v1/chat/completions \"HTTP/1.1 200 OK\"\n",
      "INFO:httpx:HTTP Request: POST https://api.openai.com/v1/chat/completions \"HTTP/1.1 200 OK\"\n",
      "HTTP Request: POST https://api.openai.com/v1/chat/completions \"HTTP/1.1 200 OK\"\n",
      "INFO:httpx:HTTP Request: POST https://api.openai.com/v1/chat/completions \"HTTP/1.1 200 OK\"\n",
      "HTTP Request: POST https://api.openai.com/v1/chat/completions \"HTTP/1.1 200 OK\"\n",
      "INFO:httpx:HTTP Request: POST https://api.openai.com/v1/chat/completions \"HTTP/1.1 200 OK\"\n",
      "HTTP Request: POST https://api.openai.com/v1/chat/completions \"HTTP/1.1 200 OK\"\n",
      "INFO:httpx:HTTP Request: POST https://api.openai.com/v1/chat/completions \"HTTP/1.1 200 OK\"\n",
      "HTTP Request: POST https://api.openai.com/v1/chat/completions \"HTTP/1.1 200 OK\"\n",
      "score: 2/6\n"
     ]
    }
   ],
   "source": [
    "correct, total = evaluate_query_engine(query_engine, queries)\n",
    "\n",
    "print(f\"score: {correct}/{total}\")"
   ]
  },
  {
   "cell_type": "markdown",
   "metadata": {},
   "source": [
    "## CorrectnessEvaluator"
   ]
  },
  {
   "cell_type": "code",
   "execution_count": 62,
   "metadata": {},
   "outputs": [],
   "source": [
    "evaluator = CorrectnessEvaluator()"
   ]
  },
  {
   "cell_type": "code",
   "execution_count": 63,
   "metadata": {},
   "outputs": [
    {
     "name": "stdout",
     "output_type": "stream",
     "text": [
      "INFO:httpx:HTTP Request: POST https://api.openai.com/v1/embeddings \"HTTP/1.1 200 OK\"\n",
      "HTTP Request: POST https://api.openai.com/v1/embeddings \"HTTP/1.1 200 OK\"\n",
      "INFO:httpx:HTTP Request: POST http://localhost:6333/collections/vector_store/points/search \"HTTP/1.1 200 OK\"\n",
      "HTTP Request: POST http://localhost:6333/collections/vector_store/points/search \"HTTP/1.1 200 OK\"\n",
      "INFO:httpx:HTTP Request: POST https://api.openai.com/v1/chat/completions \"HTTP/1.1 200 OK\"\n",
      "HTTP Request: POST https://api.openai.com/v1/chat/completions \"HTTP/1.1 200 OK\"\n"
     ]
    }
   ],
   "source": [
    "response_vector = query_engine.query(queries[2])"
   ]
  },
  {
   "cell_type": "code",
   "execution_count": 89,
   "metadata": {},
   "outputs": [
    {
     "name": "stdout",
     "output_type": "stream",
     "text": [
      "INFO:httpx:HTTP Request: POST https://api.openai.com/v1/chat/completions \"HTTP/1.1 200 OK\"\n",
      "HTTP Request: POST https://api.openai.com/v1/chat/completions \"HTTP/1.1 200 OK\"\n"
     ]
    }
   ],
   "source": [
    "result = evaluator.evaluate_response(\n",
    "    query=queries[2],\n",
    "    response=response_vector,\n",
    "    reference=answers[2],\n",
    ")"
   ]
  },
  {
   "cell_type": "code",
   "execution_count": 86,
   "metadata": {},
   "outputs": [
    {
     "data": {
      "text/plain": [
       "True"
      ]
     },
     "execution_count": 86,
     "metadata": {},
     "output_type": "execute_result"
    }
   ],
   "source": [
    "result.passing"
   ]
  },
  {
   "cell_type": "code",
   "execution_count": 87,
   "metadata": {},
   "outputs": [
    {
     "data": {
      "text/plain": [
       "4.5"
      ]
     },
     "execution_count": 87,
     "metadata": {},
     "output_type": "execute_result"
    }
   ],
   "source": [
    "result.score"
   ]
  },
  {
   "cell_type": "code",
   "execution_count": 90,
   "metadata": {},
   "outputs": [
    {
     "data": {
      "text/plain": [
       "'The generated answer is highly relevant to the user query and contains accurate information about the features and benefits of the FUEL Pureformance Heavy Bag Stand. The answer accurately describes how the stand contributes to improving boxing and MMA performance by providing a convenient and sturdy platform for hanging heavy bags and allowing athletes to practice their techniques effectively. The answer also mentions the stand\\'s durable construction and additional features for stability. The only minor difference from the reference answer is the use of the word \"optimize\" instead of \"enhance\" in describing the stand\\'s impact on performance. Overall, the generated answer is relevant and correct, with only a slight difference in wording.'"
      ]
     },
     "execution_count": 90,
     "metadata": {},
     "output_type": "execute_result"
    }
   ],
   "source": [
    "result.feedback"
   ]
  },
  {
   "cell_type": "markdown",
   "metadata": {},
   "source": [
    "## SemanticSimilarityEvaluator"
   ]
  },
  {
   "cell_type": "code",
   "execution_count": 95,
   "metadata": {},
   "outputs": [],
   "source": [
    "evaluator = SemanticSimilarityEvaluator()"
   ]
  },
  {
   "cell_type": "markdown",
   "metadata": {},
   "source": [
    "Similarity:\n",
    "\n",
    "- DEFAULT = \"cosine\"\n",
    "- DOT_PRODUCT = \"dot_product\"\n",
    "- EUCLIDEAN = \"euclidean\""
   ]
  },
  {
   "cell_type": "code",
   "execution_count": 98,
   "metadata": {},
   "outputs": [
    {
     "name": "stdout",
     "output_type": "stream",
     "text": [
      "INFO:httpx:HTTP Request: POST https://api.openai.com/v1/embeddings \"HTTP/1.1 200 OK\"\n",
      "HTTP Request: POST https://api.openai.com/v1/embeddings \"HTTP/1.1 200 OK\"\n",
      "INFO:httpx:HTTP Request: POST https://api.openai.com/v1/embeddings \"HTTP/1.1 200 OK\"\n",
      "HTTP Request: POST https://api.openai.com/v1/embeddings \"HTTP/1.1 200 OK\"\n"
     ]
    }
   ],
   "source": [
    "result = evaluator.evaluate_response(\n",
    "    response=response_vector,\n",
    "    reference=answers[2],\n",
    "    similarity_mode=SimilarityMode.DEFAULT,\n",
    "    similarity_threshold=0.8, # Default 0.8\n",
    ")"
   ]
  },
  {
   "cell_type": "code",
   "execution_count": 99,
   "metadata": {},
   "outputs": [
    {
     "data": {
      "text/plain": [
       "0.986772607409376"
      ]
     },
     "execution_count": 99,
     "metadata": {},
     "output_type": "execute_result"
    }
   ],
   "source": [
    "result.score"
   ]
  },
  {
   "cell_type": "code",
   "execution_count": 100,
   "metadata": {},
   "outputs": [
    {
     "data": {
      "text/plain": [
       "True"
      ]
     },
     "execution_count": 100,
     "metadata": {},
     "output_type": "execute_result"
    }
   ],
   "source": [
    "result.passing"
   ]
  },
  {
   "cell_type": "markdown",
   "metadata": {},
   "source": [
    "# Inspect Dataset Generator module"
   ]
  },
  {
   "cell_type": "code",
   "execution_count": 44,
   "metadata": {},
   "outputs": [],
   "source": [
    "from llama_index.llama_dataset.generator import RagDatasetGenerator\n",
    "from llama_index.prompts.base import PromptTemplate\n",
    "from llama_index.prompts.prompt_type import PromptType\n",
    "\n",
    "from rag_chat.storage.mongo.reader import CustomMongoReader\n",
    "from rag_chat.storage.mongo import mongodb_uri\n",
    "from rag_chat.storage.config import mongo_reader_config\n",
    "\n",
    "reader = CustomMongoReader(uri=mongodb_uri)\n",
    "documents = reader.load_data(**mongo_reader_config) # TODO: mongo_reader_eval_config\n"
   ]
  },
  {
   "cell_type": "code",
   "execution_count": 45,
   "metadata": {},
   "outputs": [
    {
     "name": "stdout",
     "output_type": "stream",
     "text": [
      "WARNING:llama_index.service_context:chunk_size_limit is deprecated, please specify chunk_size instead\n",
      "chunk_size_limit is deprecated, please specify chunk_size instead\n"
     ]
    },
    {
     "name": "stderr",
     "output_type": "stream",
     "text": [
      "Parsing nodes: 100%|██████████| 3/3 [00:00<00:00, 580.50it/s]\n"
     ]
    }
   ],
   "source": [
    "dataset_generator = RagDatasetGenerator.from_documents(\n",
    "    documents[:3], # TODO: remove number 3\n",
    "    num_questions_per_chunk=2,  # set the number of questions per nodes\n",
    "    show_progress=True,\n",
    "    # text_question_template=PromptTemplate(QUESTION_GENERATION_PROMPT),\n",
    "    # text_qa_template=PromptTemplate(\n",
    "    #     TEXT_QA_PROMPT, prompt_type=PromptType.QUESTION_ANSWER\n",
    "    # )\n",
    ")"
   ]
  },
  {
   "cell_type": "code",
   "execution_count": 49,
   "metadata": {},
   "outputs": [
    {
     "name": "stderr",
     "output_type": "stream",
     "text": [
      "  0%|          | 0/3 [00:00<?, ?it/s]"
     ]
    },
    {
     "name": "stdout",
     "output_type": "stream",
     "text": [
      "INFO:httpx:HTTP Request: POST https://api.openai.com/v1/chat/completions \"HTTP/1.1 200 OK\"\n",
      "HTTP Request: POST https://api.openai.com/v1/chat/completions \"HTTP/1.1 200 OK\"\n"
     ]
    },
    {
     "name": "stderr",
     "output_type": "stream",
     "text": [
      " 33%|███▎      | 1/3 [00:02<00:04,  2.24s/it]"
     ]
    },
    {
     "name": "stdout",
     "output_type": "stream",
     "text": [
      "INFO:httpx:HTTP Request: POST https://api.openai.com/v1/chat/completions \"HTTP/1.1 200 OK\"\n",
      "HTTP Request: POST https://api.openai.com/v1/chat/completions \"HTTP/1.1 200 OK\"\n"
     ]
    },
    {
     "name": "stderr",
     "output_type": "stream",
     "text": [
      " 67%|██████▋   | 2/3 [00:02<00:01,  1.06s/it]"
     ]
    },
    {
     "name": "stdout",
     "output_type": "stream",
     "text": [
      "INFO:httpx:HTTP Request: POST https://api.openai.com/v1/chat/completions \"HTTP/1.1 200 OK\"\n",
      "HTTP Request: POST https://api.openai.com/v1/chat/completions \"HTTP/1.1 200 OK\"\n"
     ]
    },
    {
     "name": "stderr",
     "output_type": "stream",
     "text": [
      "100%|██████████| 3/3 [00:02<00:00,  1.18it/s]\n",
      "  0%|          | 0/2 [00:00<?, ?it/s]"
     ]
    },
    {
     "name": "stdout",
     "output_type": "stream",
     "text": [
      "INFO:httpx:HTTP Request: POST https://api.openai.com/v1/chat/completions \"HTTP/1.1 200 OK\"\n",
      "HTTP Request: POST https://api.openai.com/v1/chat/completions \"HTTP/1.1 200 OK\"\n"
     ]
    },
    {
     "name": "stderr",
     "output_type": "stream",
     "text": [
      " 50%|█████     | 1/2 [00:02<00:02,  2.43s/it]"
     ]
    },
    {
     "name": "stdout",
     "output_type": "stream",
     "text": [
      "INFO:httpx:HTTP Request: POST https://api.openai.com/v1/chat/completions \"HTTP/1.1 200 OK\"\n",
      "HTTP Request: POST https://api.openai.com/v1/chat/completions \"HTTP/1.1 200 OK\"\n"
     ]
    },
    {
     "name": "stderr",
     "output_type": "stream",
     "text": [
      "100%|██████████| 2/2 [00:03<00:00,  1.59s/it]\n",
      "  0%|          | 0/2 [00:00<?, ?it/s]"
     ]
    },
    {
     "name": "stdout",
     "output_type": "stream",
     "text": [
      "INFO:httpx:HTTP Request: POST https://api.openai.com/v1/chat/completions \"HTTP/1.1 200 OK\"\n",
      "HTTP Request: POST https://api.openai.com/v1/chat/completions \"HTTP/1.1 200 OK\"\n"
     ]
    },
    {
     "name": "stderr",
     "output_type": "stream",
     "text": [
      " 50%|█████     | 1/2 [00:07<00:07,  7.50s/it]"
     ]
    },
    {
     "name": "stdout",
     "output_type": "stream",
     "text": [
      "INFO:httpx:HTTP Request: POST https://api.openai.com/v1/chat/completions \"HTTP/1.1 200 OK\"\n",
      "HTTP Request: POST https://api.openai.com/v1/chat/completions \"HTTP/1.1 200 OK\"\n"
     ]
    },
    {
     "name": "stderr",
     "output_type": "stream",
     "text": [
      "100%|██████████| 2/2 [00:07<00:00,  3.91s/it]\n",
      "  0%|          | 0/2 [00:00<?, ?it/s]"
     ]
    },
    {
     "name": "stdout",
     "output_type": "stream",
     "text": [
      "INFO:httpx:HTTP Request: POST https://api.openai.com/v1/chat/completions \"HTTP/1.1 200 OK\"\n",
      "HTTP Request: POST https://api.openai.com/v1/chat/completions \"HTTP/1.1 200 OK\"\n"
     ]
    },
    {
     "name": "stderr",
     "output_type": "stream",
     "text": [
      " 50%|█████     | 1/2 [00:08<00:08,  8.44s/it]"
     ]
    },
    {
     "name": "stdout",
     "output_type": "stream",
     "text": [
      "INFO:httpx:HTTP Request: POST https://api.openai.com/v1/chat/completions \"HTTP/1.1 200 OK\"\n",
      "HTTP Request: POST https://api.openai.com/v1/chat/completions \"HTTP/1.1 200 OK\"\n"
     ]
    },
    {
     "name": "stderr",
     "output_type": "stream",
     "text": [
      "100%|██████████| 2/2 [00:10<00:00,  5.46s/it]\n"
     ]
    }
   ],
   "source": [
    "rag_dataset = dataset_generator.generate_dataset_from_nodes()"
   ]
  },
  {
   "cell_type": "code",
   "execution_count": 50,
   "metadata": {},
   "outputs": [],
   "source": [
    "df = rag_dataset.to_pandas()"
   ]
  },
  {
   "cell_type": "code",
   "execution_count": 51,
   "metadata": {},
   "outputs": [
    {
     "data": {
      "text/html": [
       "<div>\n",
       "<style scoped>\n",
       "    .dataframe tbody tr th:only-of-type {\n",
       "        vertical-align: middle;\n",
       "    }\n",
       "\n",
       "    .dataframe tbody tr th {\n",
       "        vertical-align: top;\n",
       "    }\n",
       "\n",
       "    .dataframe thead th {\n",
       "        text-align: right;\n",
       "    }\n",
       "</style>\n",
       "<table border=\"1\" class=\"dataframe\">\n",
       "  <thead>\n",
       "    <tr style=\"text-align: right;\">\n",
       "      <th></th>\n",
       "      <th>query</th>\n",
       "      <th>reference_contexts</th>\n",
       "      <th>reference_answer</th>\n",
       "      <th>reference_answer_by</th>\n",
       "      <th>query_by</th>\n",
       "    </tr>\n",
       "  </thead>\n",
       "  <tbody>\n",
       "    <tr>\n",
       "      <th>0</th>\n",
       "      <td>How does the Toytainer Shoe Box Play-N-Store h...</td>\n",
       "      <td>[product_url: https://www.walmart.com/ip/Toyta...</td>\n",
       "      <td>The Toytainer Shoe Box Play-N-Store helps teac...</td>\n",
       "      <td>ai (gpt-3.5-turbo)</td>\n",
       "      <td>ai (gpt-3.5-turbo)</td>\n",
       "    </tr>\n",
       "    <tr>\n",
       "      <th>1</th>\n",
       "      <td>What features does the Toytainer Shoe Box Play...</td>\n",
       "      <td>[product_url: https://www.walmart.com/ip/Toyta...</td>\n",
       "      <td>The Toytainer Shoe Box Play-N-Store has severa...</td>\n",
       "      <td>ai (gpt-3.5-turbo)</td>\n",
       "      <td>ai (gpt-3.5-turbo)</td>\n",
       "    </tr>\n",
       "    <tr>\n",
       "      <th>2</th>\n",
       "      <td>How does the FUEL Pureformance Heavy Bag Stand...</td>\n",
       "      <td>[product_url: https://www.walmart.com/ip/FUEL-...</td>\n",
       "      <td>The FUEL Pureformance Heavy Bag Stand contribu...</td>\n",
       "      <td>ai (gpt-3.5-turbo)</td>\n",
       "      <td>ai (gpt-3.5-turbo)</td>\n",
       "    </tr>\n",
       "    <tr>\n",
       "      <th>3</th>\n",
       "      <td>What are the key features of the FUEL Pureform...</td>\n",
       "      <td>[product_url: https://www.walmart.com/ip/FUEL-...</td>\n",
       "      <td>The key features of the FUEL Pureformance Heav...</td>\n",
       "      <td>ai (gpt-3.5-turbo)</td>\n",
       "      <td>ai (gpt-3.5-turbo)</td>\n",
       "    </tr>\n",
       "    <tr>\n",
       "      <th>4</th>\n",
       "      <td>How does the composition of the arm sleeves co...</td>\n",
       "      <td>[product_url: https://www.walmart.com/ip/Compr...</td>\n",
       "      <td>The composition of the arm sleeves, which is 8...</td>\n",
       "      <td>ai (gpt-3.5-turbo)</td>\n",
       "      <td>ai (gpt-3.5-turbo)</td>\n",
       "    </tr>\n",
       "  </tbody>\n",
       "</table>\n",
       "</div>"
      ],
      "text/plain": [
       "                                               query  \\\n",
       "0  How does the Toytainer Shoe Box Play-N-Store h...   \n",
       "1  What features does the Toytainer Shoe Box Play...   \n",
       "2  How does the FUEL Pureformance Heavy Bag Stand...   \n",
       "3  What are the key features of the FUEL Pureform...   \n",
       "4  How does the composition of the arm sleeves co...   \n",
       "\n",
       "                                  reference_contexts  \\\n",
       "0  [product_url: https://www.walmart.com/ip/Toyta...   \n",
       "1  [product_url: https://www.walmart.com/ip/Toyta...   \n",
       "2  [product_url: https://www.walmart.com/ip/FUEL-...   \n",
       "3  [product_url: https://www.walmart.com/ip/FUEL-...   \n",
       "4  [product_url: https://www.walmart.com/ip/Compr...   \n",
       "\n",
       "                                    reference_answer reference_answer_by  \\\n",
       "0  The Toytainer Shoe Box Play-N-Store helps teac...  ai (gpt-3.5-turbo)   \n",
       "1  The Toytainer Shoe Box Play-N-Store has severa...  ai (gpt-3.5-turbo)   \n",
       "2  The FUEL Pureformance Heavy Bag Stand contribu...  ai (gpt-3.5-turbo)   \n",
       "3  The key features of the FUEL Pureformance Heav...  ai (gpt-3.5-turbo)   \n",
       "4  The composition of the arm sleeves, which is 8...  ai (gpt-3.5-turbo)   \n",
       "\n",
       "             query_by  \n",
       "0  ai (gpt-3.5-turbo)  \n",
       "1  ai (gpt-3.5-turbo)  \n",
       "2  ai (gpt-3.5-turbo)  \n",
       "3  ai (gpt-3.5-turbo)  \n",
       "4  ai (gpt-3.5-turbo)  "
      ]
     },
     "execution_count": 51,
     "metadata": {},
     "output_type": "execute_result"
    }
   ],
   "source": [
    "df.head()"
   ]
  },
  {
   "cell_type": "markdown",
   "metadata": {},
   "source": [
    "## Retrieval Evaluation"
   ]
  },
  {
   "cell_type": "code",
   "execution_count": 28,
   "metadata": {},
   "outputs": [],
   "source": [
    "from llama_index.evaluation import RetrieverEvaluator\n",
    "from rag_chat.query.query import load_retriever, load_query_engine\n",
    "from rag_chat.storage.load import load_storage\n",
    "from rag_chat.storage.qdrant.vector_store import load_vector_store\n",
    "from rag_chat.agent.chat import load_chat_engine\n",
    "\n",
    "retriever = load_retriever()\n",
    "metrics = [\"mrr\", \"hit_rate\"]\n",
    "\n",
    "retriever_evaluator = RetrieverEvaluator.from_metric_names(\n",
    "    metrics, retriever=retriever\n",
    ")"
   ]
  },
  {
   "cell_type": "code",
   "execution_count": null,
   "metadata": {},
   "outputs": [],
   "source": [
    "load_chat_engine()"
   ]
  },
  {
   "cell_type": "code",
   "execution_count": 30,
   "metadata": {},
   "outputs": [],
   "source": [
    "query_engine = load_query_engine()"
   ]
  },
  {
   "cell_type": "code",
   "execution_count": 32,
   "metadata": {},
   "outputs": [],
   "source": [
    "response = query_engine.query(\"Hi, do you have popcorn?\")"
   ]
  },
  {
   "cell_type": "code",
   "execution_count": 34,
   "metadata": {},
   "outputs": [
    {
     "data": {
      "text/plain": [
       "[NodeWithScore(node=TextNode(id_='a4e392f4-637e-427a-93dc-98e3bb35f867', embedding=None, metadata={'section_summary': 'The Weight Watchers Popcorn (White Cheddar) is non-GMO and gluten-free with no artificial ingredients. Each bag is only 2 SmartPoints value. The product comes in a box with 6 bags.', 'excerpt_keywords': 'Weight Watchers, Popcorn, White Cheddar, Non-GMO, Gluten-free, SmartPoints, Snacks, Box, Artificial Ingredients, Walmart'}, excluded_embed_metadata_keys=[], excluded_llm_metadata_keys=[], relationships={<NodeRelationship.SOURCE: '1'>: RelatedNodeInfo(node_id='7ff5f1285c377369e8cc5ea71459f676', node_type=<ObjectType.DOCUMENT: '4'>, metadata={}, hash='508a14d28f91c837c970e11cc9302a5443c9265940cf2440371f2325b5e8db22'), <NodeRelationship.PREVIOUS: '2'>: RelatedNodeInfo(node_id='72bc3767-e088-481a-9873-c1140f4883cf', node_type=<ObjectType.TEXT: '1'>, metadata={}, hash='a42b2b908cac1b8af76cdd536d29476597faa1aa6d57409a744f878964315a9a'), <NodeRelationship.NEXT: '3'>: RelatedNodeInfo(node_id='2c203286-40af-4e50-8654-27d43570edac', node_type=<ObjectType.TEXT: '1'>, metadata={}, hash='84d93ccd03a7092d618b4f0b091b27d31f9d40f3f3f5c1d6731e640221c8cbe8')}, text=\"product_name: Weight Watchers Popcorn (White Cheddar) \\n\\nbrand: Weight Watchers \\n\\ncategory: ['Food', 'Snacks, Cookies & Chips', 'Popcorn', 'Popped Popcorn'] \\n\\nproduct_url: https://www.walmart.com/ip/Weight-Watchers-Popcorn-White-Cheddar/885821059 \\n\\ndescription: Product Highlights * 6 bags per box * Non-GMO, gluten free * No artificial ingredients Enjoy our delicious White Cheddar Popcorn for just 2 SmartPoints value per bag. 6 Bags per Box |Enjoy our delicious White Cheddar Popcorn for just 2 SmartPoints value per bag.|6 Bags per Box \\n\\navailable: False \\n\\nsale_price: 13.95 \\n\\nlist_price: 13.95 \\n\\ndiscount: False\", start_char_idx=0, end_char_idx=615, text_template='[Excerpt from document]\\n{metadata_str}\\nExcerpt:\\n-----\\n{content}\\n-----\\n', metadata_template='{key}: {value}', metadata_seperator=' \\n\\n'), score=0.78493345),\n",
       " NodeWithScore(node=TextNode(id_='545ec0f8-d6f5-4349-b2f3-3dcce33978ce', embedding=None, metadata={'section_summary': \"Creative Snacks offers a variety of delicious and natural snack options, including Almond Clusters with Cranberries and Cashews, Lemon Blueberry Drizzlers, Coconut Snacks with Chia seeds, and more. The company prides itself on its diverse team of employees and commitment to creating high-quality snacks with clean ingredients and lots of love. Customers are encouraged to try their award-winning products and help change America's snacking habits.\", 'excerpt_keywords': 'Creative Snacks, Almond Clusters, Cranberries, Cashews, Lemon Blueberry Drizzlers, Coconut Snacks, Chia seeds, Natural, High-quality, Diversity'}, excluded_embed_metadata_keys=[], excluded_llm_metadata_keys=[], relationships={<NodeRelationship.SOURCE: '1'>: RelatedNodeInfo(node_id='e578a4583fee7a975f7d5c25c1c9173d', node_type=<ObjectType.DOCUMENT: '4'>, metadata={}, hash='b7c068f2d46b2b6990c7a3835a829cdc9bdb90e5d83ae16e2388fc159a2a66c6'), <NodeRelationship.PREVIOUS: '2'>: RelatedNodeInfo(node_id='423b60e7-ff1c-4db0-a8dc-1c7134fac9c3', node_type=<ObjectType.TEXT: '1'>, metadata={}, hash='44c464d702cda57dd6d556cd9b97690e1e07fc57482c25d3c977379c61204c38'), <NodeRelationship.NEXT: '3'>: RelatedNodeInfo(node_id='6cc26f6d-34b8-4d1a-b11a-220302e9abf5', node_type=<ObjectType.TEXT: '1'>, metadata={}, hash='d90bf3c373e6f78e7f23b75e2c6025942b9ced33ed9d6e65a6eb1c70a835d667')}, text='We Are Creative Snacks Founded in 2009, we made a commitment to creating better snacks for everyone. We are able to do this because of our employees - People with a rich mixture of personalities and of cultural, racial and political backgrounds. Our Products: Almond Clusters with Cranberries and Cashews\\xa0 Almond Clusters with Cranberries and Cacao Nibs Lemon Blueberry Drizzlers Honey Pecan Drizzlers\\xa0 Apple Cinnamon Raisin Drizzlers\\xa0 Coconut Snacks with Cranberries, Cashews & Almonds Coconut Snacks with Chia seeds, Sunflower seeds, and Pumpkin seeds Granola Clusters - Vanilla Almond Granola Clusters - Apple Cinnamon Raisin Our Story If you read the news feeds and listen to our politicians, youd think we cant agree on anything here in America these days. We at Creative Snacks Co. are living proof thats simply not true. Our company consists of people from around the world, representing a multitude of nationalities, ethnicities, and religions. Our diversity and shared purpose make us creative, resilient, and resourceful. We believe in the American dream and share a common goal of producing the best tasting natural and organic snacks available. We successfully compete with large corporations with deep pockets by doing something that they cannot do. Our award-winning Coconut Snacks and Almond Clusters are made by hand in our bakery with clean ingredients, much care, and plenty of love. Please give our award-winning snacks a try and help us change Americas snacking habits! And if you feel up to it, please share our story with your friends and family, too. Its amazing what we can do together! \\n\\navailable: False \\n\\nsale_price: 0.0 \\n\\nlist_price: 0.0 \\n\\ndiscount: False', start_char_idx=1505, end_char_idx=3188, text_template='[Excerpt from document]\\n{metadata_str}\\nExcerpt:\\n-----\\n{content}\\n-----\\n', metadata_template='{key}: {value}', metadata_seperator=' \\n\\n'), score=0.7404864),\n",
       " NodeWithScore(node=TextNode(id_='68fcac0b-74f1-4a91-8ebe-c85892fd3f25', embedding=None, metadata={'section_summary': 'The SweetGourmet Narrow Sesame Sticks are lightly salted, kosher certified, and come in a 2-pound pack. They are fresh, crunchy, and perfect for snacking or adding to snack mixes, soups, or casseroles. Packed in resealable zip-lock stand up pouches for freshness. Made in Canada and distributed by SweetGourmet. Always fresh and delicious.', 'excerpt_keywords': 'SweetGourmet, Narrow Sesame Sticks, Lightly Salted, Kosher, 2 Pounds, Snack, Crunchy, Fresh, Canada, Resealable Zip-Lock'}, excluded_embed_metadata_keys=[], excluded_llm_metadata_keys=[], relationships={<NodeRelationship.SOURCE: '1'>: RelatedNodeInfo(node_id='290970606fd82ac39534aa32b8b3b149', node_type=<ObjectType.DOCUMENT: '4'>, metadata={}, hash='e73b31bc95de612d1a1140506e85acf1a0a5362a27a036bde9b318f8e8af66e7'), <NodeRelationship.PREVIOUS: '2'>: RelatedNodeInfo(node_id='2aac7b5e-f81c-475c-bb55-095c6e5559db', node_type=<ObjectType.TEXT: '1'>, metadata={}, hash='9037bed218f6402afd56c90ea0677220222c979b9aa49edf1d11fef1efe65546'), <NodeRelationship.NEXT: '3'>: RelatedNodeInfo(node_id='dae4dc06-b659-4994-a5a0-898a43881a01', node_type=<ObjectType.TEXT: '1'>, metadata={}, hash='3625801768f4b40a266b75e3d6dd591a4e8fb2d3212bf135dfa9893e1220912b')}, text=\"product_name: SweetGourmet Narrow Sesame Sticks | Lightly Salted | Kosher | 2 Pounds \\n\\nbrand: Sweetgourmet \\n\\ncategory: ['Food', 'Snacks, Cookies & Chips', 'Crackers', 'Snack Crackers'] \\n\\nproduct_url: https://www.walmart.com/ip/SweetGourmet-Narrow-Sesame-Sticks-Lightly-Salted-Kosher-2-Pounds/859109055 \\n\\ndescription: Narrow Sesame Sticks are fresh, crunchy and lightly salted. They are easy to munch and taste great with your favorite dips and snack mixes. Kosher Certified BUY BULK AND SAVE! These candies are wrapped. Perfect addition to snack mixes, soups or casseroles. Always FRESH & Delicious!! Packed in resealable Zip-Lock Stand Up Pouches. Country of Origin: Canada. Distributed and Repackaged by SweetGourmet PA 19441 |Kosher Certified|BUY BULK AND SAVE! These candies are wrapped. Perfect addition to snack mixes, soups or casseroles. Always FRESH & Delicious!!|Packed in resealable Zip-Lock Stand Up Pouches.|Country of Origin: Canada. Distributed and Repackaged by SweetGourmet PA 19441 \\n\\navailable: True \\n\\nsale_price: 12.99 \\n\\nlist_price: 12.99 \\n\\ndiscount: False\", start_char_idx=0, end_char_idx=1075, text_template='[Excerpt from document]\\n{metadata_str}\\nExcerpt:\\n-----\\n{content}\\n-----\\n', metadata_template='{key}: {value}', metadata_seperator=' \\n\\n'), score=0.7298194),\n",
       " NodeWithScore(node=TextNode(id_='423b60e7-ff1c-4db0-a8dc-1c7134fac9c3', embedding=None, metadata={'section_summary': 'Creative Snacks Co Honey Pecan Drizzle Granola is a delicious and wholesome snack made with soft baked honey granola, roasted pecans, and a generous drizzle of vanilla yogurt. These bite-sized yogurt parfait clusters are perfect for breakfast and beyond, providing natural fuel with no artificial flavors, colors, or preservatives. Enjoy them on-the-go or layered on yogurt or ice cream for a tasty treat. Made with quality ingredients and baked in small batches, Creative Snacks Co Honey Pecan Drizzle Granola is a real good, feel good snack option.', 'excerpt_keywords': 'Creative Snacks Co, Honey Pecan Drizzle Granola, wholesome snack, yogurt parfait clusters, breakfast, natural fuel, no artificial ingredients, small batches, tasty treat, feel good snack'}, excluded_embed_metadata_keys=[], excluded_llm_metadata_keys=[], relationships={<NodeRelationship.SOURCE: '1'>: RelatedNodeInfo(node_id='e578a4583fee7a975f7d5c25c1c9173d', node_type=<ObjectType.DOCUMENT: '4'>, metadata={}, hash='b7c068f2d46b2b6990c7a3835a829cdc9bdb90e5d83ae16e2388fc159a2a66c6'), <NodeRelationship.PREVIOUS: '2'>: RelatedNodeInfo(node_id='fd55aaa4-1fcd-4e89-a75e-38ea2b9e97dc', node_type=<ObjectType.TEXT: '1'>, metadata={}, hash='73f05dc4096e4a3e3738a745dd08dd442602d796867315766271c7ac9a704bf5'), <NodeRelationship.NEXT: '3'>: RelatedNodeInfo(node_id='545ec0f8-d6f5-4349-b2f3-3dcce33978ce', node_type=<ObjectType.TEXT: '1'>, metadata={}, hash='d463461a573e55ecc5c0984999880eaf04896cfba04034cf6887b5a06eebcd0e')}, text=\"product_name: Creative Snacks Co Honey Pecan Drizzle Granola \\n\\nbrand: CREATIVE SNACKS CO \\n\\ncategory: ['Food', 'Breakfast & Cereal', 'Granola & Muesli'] \\n\\nproduct_url: https://www.walmart.com/ip/Creative-Snacks-Co-Honey-Pecan-Drizzle-Granola/481284577 \\n\\ndescription: Creative Snacks Co. is here to mix up the snack game. Healthy snacking is something everyone wants to do, but the lack of better for you snacks that actually taste good has been a real obstacle. Our mission, at Creative Snacks Co., is to produce the best tasting natural snacks available - Real Good, Feel Good Snacks. Our delectable foods are made with quality ingredients and contain no high fructose corn syrup, no artificial flavors, colors or preservatives. The result? Snacking goodness that you wont be able to resist. Our delicious Honey Pecan Drizzlers are made with soft baked honey granola, roasted pecans and a generous drizzle of vanilla yogurt. These bite sized yogurt parfait clusters will keep you fueled naturally for breakfast and beyond. Wholesome snacks with flavors youll crave and ingredients you can pronounce. Creative Snacks Honey Pecan Drizzlers, Honey Nut Granola Clusters with Yogurt, 10 Oz Naturally delicious snacks with no artificial anything Made with Honey Pecan Granola and Vanilla Yogurt Drizzle Real Good, Feel Good Snacks Easy snacks for on-the-go\\xa0 No preservatives, no high-fructose corn syrup, Kosher certified Baked in small batches Enjoy layered on yogurt, on top of ice cream, or by the handful!\\xa0 We Are Creative Snacks Founded in 2009, we made a commitment to creating better snacks for everyone. We are able to do this because of our employees - People with a rich mixture of personalities and of cultural, racial and political backgrounds.\", start_char_idx=0, end_char_idx=1750, text_template='[Excerpt from document]\\n{metadata_str}\\nExcerpt:\\n-----\\n{content}\\n-----\\n', metadata_template='{key}: {value}', metadata_seperator=' \\n\\n'), score=0.73823136),\n",
       " NodeWithScore(node=TextNode(id_='59fb3dd0-88b3-4a78-ac1e-249beda1b6a4', embedding=None, metadata={'section_summary': 'The product is a pack of 6 Kelloggs Pop Tart Cherry flavored granola/cereal/oat breakfast bars. It is currently unavailable for purchase.', 'excerpt_keywords': 'Kelloggs, Pop Tart, Cherry, Granola, Cereal, Oat, Breakfast Bar, Walmart, Unavailable, Discount'}, excluded_embed_metadata_keys=[], excluded_llm_metadata_keys=[], relationships={<NodeRelationship.SOURCE: '1'>: RelatedNodeInfo(node_id='728612d29c56965f5d7e675581146ab4', node_type=<ObjectType.DOCUMENT: '4'>, metadata={}, hash='43358ab0e6e202b54aa36a93019506363f2f9ff36fe500ceea996bc0b7f64b0e'), <NodeRelationship.PREVIOUS: '2'>: RelatedNodeInfo(node_id='778b282d-5f32-4c6a-816d-c152a9fb265e', node_type=<ObjectType.TEXT: '1'>, metadata={}, hash='bc2bc708765768d094c2b05c58ff2e2459710544f1c88dcee521e2e1d5afb6ff'), <NodeRelationship.NEXT: '3'>: RelatedNodeInfo(node_id='63d23921-8f72-451e-b8aa-1a0bb9b172e3', node_type=<ObjectType.TEXT: '1'>, metadata={}, hash='7a947569f0dc032809c5058bec654cfcbe2f0338f5f6bf2ea0bf340552d55511')}, text=\"product_name: Product Of Kelloggs Pop Tart, Cherry, Count 6 (3.67 oz) - Granola/Cereal/Oat/Brkfast Bar / Grab Varieties & Flavors \\n\\nbrand: Product Of Kelloggs Pop Tart \\n\\ncategory: ['Food', 'Breakfast & Cereal', 'Cold Cereal', 'All Cereal Brands'] \\n\\nproduct_url: https://www.walmart.com/ip/Product-Of-Kelloggs-Pop-Tart-Cherry-Count-6-3-67-oz-Granola-Cereal-Oat-Brkfast-Bar-Grab-Varieties-Flavors/944455576 \\n\\ndescription: Product Of Kelloggs Pop Tart, Cherry, Count 6 (3.67 oz) - Granola/Cereal/Oat/Brkfast Bar / Grab Varieties & Flavors \\n\\navailable: False \\n\\nsale_price: 12.56 \\n\\nlist_price: 12.56 \\n\\ndiscount: False\", start_char_idx=0, end_char_idx=612, text_template='[Excerpt from document]\\n{metadata_str}\\nExcerpt:\\n-----\\n{content}\\n-----\\n', metadata_template='{key}: {value}', metadata_seperator=' \\n\\n'), score=0.7532958)]"
      ]
     },
     "execution_count": 34,
     "metadata": {},
     "output_type": "execute_result"
    }
   ],
   "source": [
    "response.source_nodes # List of nodes"
   ]
  },
  {
   "cell_type": "code",
   "execution_count": 35,
   "metadata": {},
   "outputs": [
    {
     "data": {
      "text/plain": [
       "'a4e392f4-637e-427a-93dc-98e3bb35f867'"
      ]
     },
     "execution_count": 35,
     "metadata": {},
     "output_type": "execute_result"
    }
   ],
   "source": [
    "response.source_nodes[0].id_"
   ]
  },
  {
   "cell_type": "code",
   "execution_count": 39,
   "metadata": {},
   "outputs": [],
   "source": [
    "retrieved_ids = [node.id_ for node in response.source_nodes]"
   ]
  },
  {
   "cell_type": "code",
   "execution_count": 40,
   "metadata": {},
   "outputs": [
    {
     "data": {
      "text/plain": [
       "['a4e392f4-637e-427a-93dc-98e3bb35f867',\n",
       " '545ec0f8-d6f5-4349-b2f3-3dcce33978ce',\n",
       " '68fcac0b-74f1-4a91-8ebe-c85892fd3f25',\n",
       " '423b60e7-ff1c-4db0-a8dc-1c7134fac9c3',\n",
       " '59fb3dd0-88b3-4a78-ac1e-249beda1b6a4']"
      ]
     },
     "execution_count": 40,
     "metadata": {},
     "output_type": "execute_result"
    }
   ],
   "source": [
    "retrieved_ids"
   ]
  },
  {
   "cell_type": "code",
   "execution_count": 43,
   "metadata": {},
   "outputs": [],
   "source": [
    "from llama_index.evaluation.retrieval.metrics import HitRate, MRR"
   ]
  },
  {
   "cell_type": "code",
   "execution_count": 41,
   "metadata": {},
   "outputs": [
    {
     "data": {
      "text/plain": [
       "RetrievalMetricResult(score=1.0, metadata={})"
      ]
     },
     "execution_count": 41,
     "metadata": {},
     "output_type": "execute_result"
    }
   ],
   "source": [
    "hit_rate = HitRate() # Checks if any expected_id is in retrieved_nodes (1 or 0)\n",
    "hit_rate.compute(\n",
    "    expected_ids=['a4e392f4-637e-427a-93dc-98e3bb35f867'], \n",
    "    retrieved_ids=retrieved_ids\n",
    ")"
   ]
  },
  {
   "cell_type": "code",
   "execution_count": 61,
   "metadata": {},
   "outputs": [],
   "source": [
    "first = retrieved_ids[0]\n",
    "custom = retrieved_ids[1:] + [first]"
   ]
  },
  {
   "cell_type": "code",
   "execution_count": 63,
   "metadata": {},
   "outputs": [
    {
     "data": {
      "text/plain": [
       "RetrievalMetricResult(score=0.2, metadata={})"
      ]
     },
     "execution_count": 63,
     "metadata": {},
     "output_type": "execute_result"
    }
   ],
   "source": [
    "mrr = MRR() # Checks the position of the expected_ids within the retrieved Nodes\n",
    "mrr.compute(\n",
    "    expected_ids=['a4e392f4-637e-427a-93dc-98e3bb35f867'], \n",
    "    retrieved_ids=custom\n",
    ")"
   ]
  }
 ],
 "metadata": {
  "kernelspec": {
   "display_name": ".venv",
   "language": "python",
   "name": "python3"
  },
  "language_info": {
   "codemirror_mode": {
    "name": "ipython",
    "version": 3
   },
   "file_extension": ".py",
   "mimetype": "text/x-python",
   "name": "python",
   "nbconvert_exporter": "python",
   "pygments_lexer": "ipython3",
   "version": "3.9.5"
  }
 },
 "nbformat": 4,
 "nbformat_minor": 2
}
